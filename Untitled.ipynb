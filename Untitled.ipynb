{
 "cells": [
  {
   "cell_type": "code",
   "execution_count": null,
   "id": "711732ab",
   "metadata": {},
   "outputs": [],
   "source": [
    "import numpy as np\n",
    "import pandas as pd\n",
    "import matplotlib.pyplot as plt\n",
    "import requests"
   ]
  },
  {
   "cell_type": "code",
   "execution_count": null,
   "id": "c20b6f8d",
   "metadata": {},
   "outputs": [],
   "source": [
    "basep = 'C:\\\\edu\\\\Investigación\\\\Replicación\\\\datos\\\\1994-2001\\\\pme1995\\\\pmeantiga\\\\PME1995P.csv'\n",
    "b1995p = pd.read_csv(basep)\n",
    "b1995p.head()"
   ]
  },
  {
   "cell_type": "code",
   "execution_count": null,
   "id": "66923778",
   "metadata": {},
   "outputs": [],
   "source": [
    "#Nos quedamos con los datos que necesitamos\n",
    "b1995pf = b1995p[['uf', 'ano', 'mes', 'v102', 'v103', 'v202', 'v204', 'v210', 'v236', 'v246', 'v306', 'v309', 'v339', 'v311', 'v341', 'v0109', 'v0110']]\n",
    "b1995pf.head()"
   ]
  },
  {
   "cell_type": "code",
   "execution_count": null,
   "id": "06e8c460",
   "metadata": {},
   "outputs": [],
   "source": [
    "b1995pf.info()"
   ]
  },
  {
   "cell_type": "code",
   "execution_count": null,
   "id": "6d9114c3",
   "metadata": {},
   "outputs": [],
   "source": [
    "b1995pf['v306'] = b1995pf['v306'].fillna(0)\n",
    "b1995pf['v309'] = b1995pf['v309'].fillna(0)\n",
    "b1995pf['v339'] = b1995pf['v339'].fillna(0)\n",
    "b1995pf['v341'] = b1995pf['v341'].fillna(0)\n",
    "b1995pf['v311'] = b1995pf['v311'].fillna(0)\n",
    "b1995pf.info()"
   ]
  },
  {
   "cell_type": "code",
   "execution_count": null,
   "id": "0c98139f",
   "metadata": {},
   "outputs": [],
   "source": [
    "b1995pf['ingr_b'] = b1995pf['v309'] + b1995pf['v311']\n",
    "b1995pf"
   ]
  },
  {
   "cell_type": "code",
   "execution_count": null,
   "id": "4d0c3d35",
   "metadata": {},
   "outputs": [],
   "source": []
  },
  {
   "cell_type": "code",
   "execution_count": null,
   "id": "ee5af2c7",
   "metadata": {},
   "outputs": [],
   "source": [
    "b1995pf['ipc'] = 0"
   ]
  },
  {
   "cell_type": "code",
   "execution_count": null,
   "id": "1da3047b",
   "metadata": {},
   "outputs": [],
   "source": [
    "ipc = np.array([1.7, 1.02, 1.55, 2.43, 2.67, 2.26, 2.36, 0.99, 0.99, 1.41, 1.47, 1.56])"
   ]
  },
  {
   "cell_type": "code",
   "execution_count": null,
   "id": "8e3c6ec8",
   "metadata": {},
   "outputs": [],
   "source": [
    "for x in np.array([1,2,3,4,5,6,7,8,9,10,11,12]):\n",
    "    print('mes', x)\n",
    "    ip = b1995pf.loc[b1995pf['mes']==x]\n",
    "    ip['ipc'] = ipc[x-1]\n",
    "    b1995pf['ipc'].loc[b1995pf['mes']==x] = ip['ipc']\n",
    "    del(ip)\n",
    "    "
   ]
  },
  {
   "cell_type": "code",
   "execution_count": null,
   "id": "4a38064c",
   "metadata": {},
   "outputs": [],
   "source": [
    "b1995pf['ipc_b'] = 1.86"
   ]
  },
  {
   "cell_type": "code",
   "execution_count": null,
   "id": "e73f64a8",
   "metadata": {},
   "outputs": [],
   "source": [
    "b1995pf['def'] = b1995pf['ipc']/b1995pf['ipc_b']"
   ]
  },
  {
   "cell_type": "code",
   "execution_count": null,
   "id": "c9dc8d78",
   "metadata": {},
   "outputs": [],
   "source": [
    "b1995pf['ingr_r'] = b1995pf['ingr_b']*b1995pf['def']\n",
    "b1995pf"
   ]
  },
  {
   "cell_type": "code",
   "execution_count": null,
   "id": "a4e164aa",
   "metadata": {},
   "outputs": [],
   "source": []
  }
 ],
 "metadata": {
  "kernelspec": {
   "display_name": "Python 3 (ipykernel)",
   "language": "python",
   "name": "python3"
  },
  "language_info": {
   "codemirror_mode": {
    "name": "ipython",
    "version": 3
   },
   "file_extension": ".py",
   "mimetype": "text/x-python",
   "name": "python",
   "nbconvert_exporter": "python",
   "pygments_lexer": "ipython3",
   "version": "3.10.6"
  }
 },
 "nbformat": 4,
 "nbformat_minor": 5
}
