{
 "cells": [
  {
   "cell_type": "code",
   "execution_count": 1,
   "id": "59ae1fe9",
   "metadata": {},
   "outputs": [],
   "source": [
    "import numpy as np\n",
    "import pandas as pd\n",
    "import matplotlib.pyplot as plt\n",
    "import requests"
   ]
  },
  {
   "cell_type": "markdown",
   "id": "670df2cf",
   "metadata": {},
   "source": [
    "## Abrimos el año con el que vamos a trabajar"
   ]
  },
  {
   "cell_type": "code",
   "execution_count": 2,
   "id": "ab125ae1",
   "metadata": {},
   "outputs": [
    {
     "data": {
      "text/html": [
       "<div>\n",
       "<style scoped>\n",
       "    .dataframe tbody tr th:only-of-type {\n",
       "        vertical-align: middle;\n",
       "    }\n",
       "\n",
       "    .dataframe tbody tr th {\n",
       "        vertical-align: top;\n",
       "    }\n",
       "\n",
       "    .dataframe thead th {\n",
       "        text-align: right;\n",
       "    }\n",
       "</style>\n",
       "<table border=\"1\" class=\"dataframe\">\n",
       "  <thead>\n",
       "    <tr style=\"text-align: right;\">\n",
       "      <th></th>\n",
       "      <th>v0002</th>\n",
       "      <th>v0003</th>\n",
       "      <th>uf</th>\n",
       "      <th>v0101</th>\n",
       "      <th>v102</th>\n",
       "      <th>v103</th>\n",
       "      <th>v0104</th>\n",
       "      <th>v0105</th>\n",
       "      <th>v0106</th>\n",
       "      <th>v0107</th>\n",
       "      <th>v0108</th>\n",
       "      <th>v0109</th>\n",
       "      <th>v0110</th>\n",
       "      <th>v0111</th>\n",
       "      <th>v0112</th>\n",
       "      <th>v0113</th>\n",
       "      <th>v2001</th>\n",
       "      <th>v2002</th>\n",
       "      <th>mes</th>\n",
       "      <th>ano</th>\n",
       "    </tr>\n",
       "  </thead>\n",
       "  <tbody>\n",
       "    <tr>\n",
       "      <th>0</th>\n",
       "      <td>29001</td>\n",
       "      <td>1</td>\n",
       "      <td>29</td>\n",
       "      <td>17</td>\n",
       "      <td>29000017</td>\n",
       "      <td>1</td>\n",
       "      <td>1</td>\n",
       "      <td>1</td>\n",
       "      <td>1</td>\n",
       "      <td>268</td>\n",
       "      <td>3</td>\n",
       "      <td>5</td>\n",
       "      <td>4</td>\n",
       "      <td>2.0</td>\n",
       "      <td>2.0</td>\n",
       "      <td>3.0</td>\n",
       "      <td>7</td>\n",
       "      <td>1</td>\n",
       "      <td>1</td>\n",
       "      <td>2001</td>\n",
       "    </tr>\n",
       "    <tr>\n",
       "      <th>1</th>\n",
       "      <td>29001</td>\n",
       "      <td>1</td>\n",
       "      <td>29</td>\n",
       "      <td>36</td>\n",
       "      <td>29000017</td>\n",
       "      <td>2</td>\n",
       "      <td>1</td>\n",
       "      <td>1</td>\n",
       "      <td>1</td>\n",
       "      <td>268</td>\n",
       "      <td>3</td>\n",
       "      <td>2</td>\n",
       "      <td>1</td>\n",
       "      <td>1.0</td>\n",
       "      <td>2.0</td>\n",
       "      <td>3.0</td>\n",
       "      <td>7</td>\n",
       "      <td>1</td>\n",
       "      <td>1</td>\n",
       "      <td>2001</td>\n",
       "    </tr>\n",
       "    <tr>\n",
       "      <th>2</th>\n",
       "      <td>29001</td>\n",
       "      <td>1</td>\n",
       "      <td>29</td>\n",
       "      <td>54</td>\n",
       "      <td>29000017</td>\n",
       "      <td>3</td>\n",
       "      <td>1</td>\n",
       "      <td>1</td>\n",
       "      <td>1</td>\n",
       "      <td>243</td>\n",
       "      <td>3</td>\n",
       "      <td>9</td>\n",
       "      <td>9</td>\n",
       "      <td>2.0</td>\n",
       "      <td>2.0</td>\n",
       "      <td>1.0</td>\n",
       "      <td>7</td>\n",
       "      <td>1</td>\n",
       "      <td>1</td>\n",
       "      <td>2001</td>\n",
       "    </tr>\n",
       "    <tr>\n",
       "      <th>3</th>\n",
       "      <td>29001</td>\n",
       "      <td>1</td>\n",
       "      <td>29</td>\n",
       "      <td>73</td>\n",
       "      <td>29000017</td>\n",
       "      <td>4</td>\n",
       "      <td>1</td>\n",
       "      <td>1</td>\n",
       "      <td>1</td>\n",
       "      <td>268</td>\n",
       "      <td>3</td>\n",
       "      <td>3</td>\n",
       "      <td>2</td>\n",
       "      <td>2.0</td>\n",
       "      <td>2.0</td>\n",
       "      <td>3.0</td>\n",
       "      <td>7</td>\n",
       "      <td>1</td>\n",
       "      <td>1</td>\n",
       "      <td>2001</td>\n",
       "    </tr>\n",
       "    <tr>\n",
       "      <th>4</th>\n",
       "      <td>29001</td>\n",
       "      <td>1</td>\n",
       "      <td>29</td>\n",
       "      <td>92</td>\n",
       "      <td>29000017</td>\n",
       "      <td>5</td>\n",
       "      <td>1</td>\n",
       "      <td>1</td>\n",
       "      <td>1</td>\n",
       "      <td>243</td>\n",
       "      <td>3</td>\n",
       "      <td>4</td>\n",
       "      <td>4</td>\n",
       "      <td>1.0</td>\n",
       "      <td>2.0</td>\n",
       "      <td>1.0</td>\n",
       "      <td>7</td>\n",
       "      <td>1</td>\n",
       "      <td>1</td>\n",
       "      <td>2001</td>\n",
       "    </tr>\n",
       "  </tbody>\n",
       "</table>\n",
       "</div>"
      ],
      "text/plain": [
       "   v0002  v0003  uf  v0101      v102  v103  v0104  v0105  v0106  v0107  v0108  \\\n",
       "0  29001      1  29     17  29000017     1      1      1      1    268      3   \n",
       "1  29001      1  29     36  29000017     2      1      1      1    268      3   \n",
       "2  29001      1  29     54  29000017     3      1      1      1    243      3   \n",
       "3  29001      1  29     73  29000017     4      1      1      1    268      3   \n",
       "4  29001      1  29     92  29000017     5      1      1      1    243      3   \n",
       "\n",
       "   v0109  v0110  v0111  v0112  v0113  v2001  v2002  mes   ano  \n",
       "0      5      4    2.0    2.0    3.0      7      1    1  2001  \n",
       "1      2      1    1.0    2.0    3.0      7      1    1  2001  \n",
       "2      9      9    2.0    2.0    1.0      7      1    1  2001  \n",
       "3      3      2    2.0    2.0    3.0      7      1    1  2001  \n",
       "4      4      4    1.0    2.0    1.0      7      1    1  2001  "
      ]
     },
     "execution_count": 2,
     "metadata": {},
     "output_type": "execute_result"
    }
   ],
   "source": [
    "basep = 'C:\\\\edu\\\\Investigación\\\\Replicación\\\\datos\\\\1994-2001\\\\PME 2001\\\\2001\\\\2001\\\\2001 algoritmo hogares.csv'\n",
    "b2001p = pd.read_csv(basep)\n",
    "b2001p.head()"
   ]
  },
  {
   "cell_type": "markdown",
   "id": "7ea4fe60",
   "metadata": {},
   "source": [
    "abrimos la tabla con el deflactor"
   ]
  },
  {
   "cell_type": "code",
   "execution_count": 3,
   "id": "17b8b6ad",
   "metadata": {},
   "outputs": [
    {
     "data": {
      "text/html": [
       "<div>\n",
       "<style scoped>\n",
       "    .dataframe tbody tr th:only-of-type {\n",
       "        vertical-align: middle;\n",
       "    }\n",
       "\n",
       "    .dataframe tbody tr th {\n",
       "        vertical-align: top;\n",
       "    }\n",
       "\n",
       "    .dataframe thead th {\n",
       "        text-align: right;\n",
       "    }\n",
       "</style>\n",
       "<table border=\"1\" class=\"dataframe\">\n",
       "  <thead>\n",
       "    <tr style=\"text-align: right;\">\n",
       "      <th></th>\n",
       "      <th>Unnamed: 0</th>\n",
       "      <th>inf</th>\n",
       "      <th>ano</th>\n",
       "      <th>b100</th>\n",
       "      <th>defl</th>\n",
       "    </tr>\n",
       "  </thead>\n",
       "  <tbody>\n",
       "    <tr>\n",
       "      <th>0</th>\n",
       "      <td>0</td>\n",
       "      <td>1.86</td>\n",
       "      <td>1994</td>\n",
       "      <td>100.000000</td>\n",
       "      <td>1.000000</td>\n",
       "    </tr>\n",
       "    <tr>\n",
       "      <th>1</th>\n",
       "      <td>1</td>\n",
       "      <td>1.53</td>\n",
       "      <td>1994</td>\n",
       "      <td>101.530000</td>\n",
       "      <td>1.015300</td>\n",
       "    </tr>\n",
       "    <tr>\n",
       "      <th>2</th>\n",
       "      <td>2</td>\n",
       "      <td>2.62</td>\n",
       "      <td>1994</td>\n",
       "      <td>104.190086</td>\n",
       "      <td>1.041901</td>\n",
       "    </tr>\n",
       "    <tr>\n",
       "      <th>3</th>\n",
       "      <td>3</td>\n",
       "      <td>2.81</td>\n",
       "      <td>1994</td>\n",
       "      <td>107.117827</td>\n",
       "      <td>1.071178</td>\n",
       "    </tr>\n",
       "    <tr>\n",
       "      <th>4</th>\n",
       "      <td>4</td>\n",
       "      <td>1.71</td>\n",
       "      <td>1994</td>\n",
       "      <td>108.949542</td>\n",
       "      <td>1.089495</td>\n",
       "    </tr>\n",
       "  </tbody>\n",
       "</table>\n",
       "</div>"
      ],
      "text/plain": [
       "   Unnamed: 0   inf   ano        b100      defl\n",
       "0           0  1.86  1994  100.000000  1.000000\n",
       "1           1  1.53  1994  101.530000  1.015300\n",
       "2           2  2.62  1994  104.190086  1.041901\n",
       "3           3  2.81  1994  107.117827  1.071178\n",
       "4           4  1.71  1994  108.949542  1.089495"
      ]
     },
     "execution_count": 3,
     "metadata": {},
     "output_type": "execute_result"
    }
   ],
   "source": [
    "inf = 'C:\\\\edu\\\\Investigación\\\\Replicación\\\\datos\\\\final\\\\inf.csv'\n",
    "infb = pd.read_csv(inf)\n",
    "infb.head()"
   ]
  },
  {
   "cell_type": "markdown",
   "id": "7a0d9166",
   "metadata": {},
   "source": [
    "## Describimos los datos para asegurarnos que estén bien"
   ]
  },
  {
   "cell_type": "code",
   "execution_count": 4,
   "id": "ce2200e2",
   "metadata": {},
   "outputs": [
    {
     "data": {
      "text/plain": [
       "v0002      int64\n",
       "v0003      int64\n",
       "uf         int64\n",
       "v0101      int64\n",
       "v102       int64\n",
       "v103       int64\n",
       "v0104      int64\n",
       "v0105      int64\n",
       "v0106      int64\n",
       "v0107      int64\n",
       "v0108      int64\n",
       "v0109      int64\n",
       "v0110      int64\n",
       "v0111    float64\n",
       "v0112    float64\n",
       "v0113    float64\n",
       "v2001      int64\n",
       "v2002      int64\n",
       "mes        int64\n",
       "ano        int64\n",
       "dtype: object"
      ]
     },
     "execution_count": 4,
     "metadata": {},
     "output_type": "execute_result"
    }
   ],
   "source": [
    "b2001p.describe\n",
    "b2001p.dtypes"
   ]
  },
  {
   "cell_type": "markdown",
   "id": "5096e94f",
   "metadata": {},
   "source": [
    "## Nos quedamos con las columnas que vamos a usar"
   ]
  },
  {
   "cell_type": "markdown",
   "id": "ffa3124d",
   "metadata": {},
   "source": [
    "- uf: Región de la encuesta \\\n",
    "- ano: año\\\n",
    "- mes: mes\\\n",
    "- v102: número de control, identifica el área de la encuesta\\\n",
    "- v103: Número de serie, equivale a un número de domicilio específico por área\\\n",
    "    (juntos v102 y v103 permiten construir un índice de hogares, considerando un hogar único encuestado cada mes en cada área)\\\n",
    "- v202: sexo\\\n",
    "- v204: Condición de la familia\\\n",
    "    1. CHEFE\\\n",
    "    2. CÔNJUGE\\\n",
    "    3. FILHO\\\n",
    "    4. OUTRO PARENTE\n",
    "    5. AGREGADO\n",
    "    6. PENSIONISTA\n",
    "    7. EMPREGADO DOMÉSTICO\n",
    "    8. PARENTE DO EMPREGADO DOMÉSTICO\n",
    "- v210: grado\n",
    "    0. UNCA FREQÜENTOU\n",
    "    1. ELEMENTAR\n",
    "    2. MÉDIO 1o CICLO \n",
    "    3. 1o  GRAU\n",
    "    4. MÉDIO 2o  CICLO\n",
    "    5. 2o  GRAU\n",
    "    6. SUPERIOR\n",
    "    7. MESTRADO OU DOUTORADO\n",
    "    9. IGNORADO\n",
    "v236: mes de nacimiento\n",
    "v246: año de nacimiento\n",
    "v306: Posición en su ocupación\n",
    "  2 - EMPREGADO\n",
    "  4 - CONTA PRÓPRIA\n",
    "  6 - EMPREGADOR\n",
    "  8 - NÃO REMUNERADO\n",
    "  9 - IGNORADO\n",
    "v309: Rendimiento efectivamente recibido en el mes obtenido de su trabajo principal\n",
    "v339: Tasa de rendimiento en dinero de su trabajo principal con base en el salario mínimo vigente del mes de abril de 1004\n",
    "   06 - SEM RENDIMENTO\n",
    "   07 - SOMENTE EM BENEFÍCIO\n",
    "   09 - IGNORADO\n",
    "   10 - até  ½ SALÁRIO MÍNIMO\n",
    "   11 - mais de ½ SM a 1 SM\n",
    "   12 - mais de 1 SM a 2 SM\n",
    "   13 - mais de 2 SM a 4 SM\n",
    "   14 - mais de 4 SM a  6 SM\n",
    "   15 - mais de 6 SM a 8 SM\n",
    "   16 - mais de 8 SM a 10 SM\n",
    "   17 - mais de 10 SM a 12 SM\n",
    "   18 - mais de 12 SM a 14 SM\n",
    "   19 - mais de 14 SM a 16 SM\n",
    "   20 - mais de 16 SM a 18 SM\n",
    "   21 - mais de 18 SM a 20 SM\n",
    "   22 - mais de 20 SM a 25 SM\n",
    "   23 - mais de 25 SM a 30 SM\n",
    "   24 - mais de 30 SM a 35 SM\n",
    "   25 - mais de 35 SM a 40 SM\n",
    "   26 - mais de 40 SM a 50 SM\n",
    "   27 - mais de 50 SM a 60 SM  \n",
    "   28 - mais de 60 SM a 70 SM\n",
    "   29 - mais de 70 SM a 80 SM\n",
    "   30 - 80 SM ou mais   \n",
    "v311: Rendimiento efectivamente recibido al mes de sus otros trabajos\n",
    "v341: Tasa de rendimiento en dinero de sus otros trabajos con base en el salario mínimo vigente del mes de abril de 1004\n",
    "   06 - SEM RENDIMENTO\n",
    "   07 - SOMENTE EM BENEFÍCIO\n",
    "   09 - IGNORADO\n",
    "   10 - até  ½ SALÁRIO MÍNIMO\n",
    "   11 - mais de ½ SM a 1 SM\n",
    "   12 - mais de 1 SM a 2 SM\n",
    "   13 - mais de 2 SM a 4 SM\n",
    "   14 - mais de 4 SM a  6 SM\n",
    "   15 - mais de 6 SM a 8 SM\n",
    "   16 - mais de 8 SM a 10 SM\n",
    "   17 - mais de 10 SM a 12 SM\n",
    "   18 - mais de 12 SM a 14 SM\n",
    "   19 - mais de 14 SM a 16 SM\n",
    "   20 - mais de 16 SM a 18 SM\n",
    "   21 - mais de 18 SM a 20 SM\n",
    "   22 - mais de 20 SM a 25 SM\n",
    "   23 - mais de 25 SM a 30 SM\n",
    "   24 - mais de 30 SM a 35 SM\n",
    "   25 - mais de 35 SM a 40 SM\n",
    "   26 - mais de 40 SM a 50 SM\n",
    "   27 - mais de 50 SM a 60 SM  \n",
    "   28 - mais de 60 SM a 70 SM\n",
    "   29 - mais de 70 SM a 80 SM\n",
    "   30 - 80 SM ou mais \n",
    "v0109: Total de moradores en el hogar\n",
    "v0110: Total de moradores con 10 años o más\n",
    "peso: Peso para expansión que debe ser dividido para 1000 para poder ser usado \n"
   ]
  },
  {
   "cell_type": "code",
   "execution_count": 7,
   "id": "691ff926",
   "metadata": {},
   "outputs": [
    {
     "data": {
      "text/html": [
       "<div>\n",
       "<style scoped>\n",
       "    .dataframe tbody tr th:only-of-type {\n",
       "        vertical-align: middle;\n",
       "    }\n",
       "\n",
       "    .dataframe tbody tr th {\n",
       "        vertical-align: top;\n",
       "    }\n",
       "\n",
       "    .dataframe thead th {\n",
       "        text-align: right;\n",
       "    }\n",
       "</style>\n",
       "<table border=\"1\" class=\"dataframe\">\n",
       "  <thead>\n",
       "    <tr style=\"text-align: right;\">\n",
       "      <th></th>\n",
       "      <th>v0002</th>\n",
       "      <th>v0003</th>\n",
       "      <th>uf</th>\n",
       "      <th>v0101</th>\n",
       "      <th>v102</th>\n",
       "      <th>v103</th>\n",
       "      <th>v0104</th>\n",
       "      <th>v0105</th>\n",
       "      <th>v0106</th>\n",
       "      <th>v0107</th>\n",
       "      <th>v0108</th>\n",
       "      <th>v0109</th>\n",
       "      <th>v0110</th>\n",
       "      <th>v0111</th>\n",
       "      <th>v0112</th>\n",
       "      <th>v0113</th>\n",
       "      <th>v2001</th>\n",
       "      <th>v2002</th>\n",
       "      <th>mes</th>\n",
       "      <th>ano</th>\n",
       "    </tr>\n",
       "  </thead>\n",
       "  <tbody>\n",
       "    <tr>\n",
       "      <th>0</th>\n",
       "      <td>29001</td>\n",
       "      <td>1</td>\n",
       "      <td>29</td>\n",
       "      <td>17</td>\n",
       "      <td>29000017</td>\n",
       "      <td>1</td>\n",
       "      <td>1</td>\n",
       "      <td>1</td>\n",
       "      <td>1</td>\n",
       "      <td>268</td>\n",
       "      <td>3</td>\n",
       "      <td>5</td>\n",
       "      <td>4</td>\n",
       "      <td>2.0</td>\n",
       "      <td>2.0</td>\n",
       "      <td>3.0</td>\n",
       "      <td>7</td>\n",
       "      <td>1</td>\n",
       "      <td>1</td>\n",
       "      <td>2001</td>\n",
       "    </tr>\n",
       "    <tr>\n",
       "      <th>1</th>\n",
       "      <td>29001</td>\n",
       "      <td>1</td>\n",
       "      <td>29</td>\n",
       "      <td>36</td>\n",
       "      <td>29000017</td>\n",
       "      <td>2</td>\n",
       "      <td>1</td>\n",
       "      <td>1</td>\n",
       "      <td>1</td>\n",
       "      <td>268</td>\n",
       "      <td>3</td>\n",
       "      <td>2</td>\n",
       "      <td>1</td>\n",
       "      <td>1.0</td>\n",
       "      <td>2.0</td>\n",
       "      <td>3.0</td>\n",
       "      <td>7</td>\n",
       "      <td>1</td>\n",
       "      <td>1</td>\n",
       "      <td>2001</td>\n",
       "    </tr>\n",
       "    <tr>\n",
       "      <th>2</th>\n",
       "      <td>29001</td>\n",
       "      <td>1</td>\n",
       "      <td>29</td>\n",
       "      <td>54</td>\n",
       "      <td>29000017</td>\n",
       "      <td>3</td>\n",
       "      <td>1</td>\n",
       "      <td>1</td>\n",
       "      <td>1</td>\n",
       "      <td>243</td>\n",
       "      <td>3</td>\n",
       "      <td>9</td>\n",
       "      <td>9</td>\n",
       "      <td>2.0</td>\n",
       "      <td>2.0</td>\n",
       "      <td>1.0</td>\n",
       "      <td>7</td>\n",
       "      <td>1</td>\n",
       "      <td>1</td>\n",
       "      <td>2001</td>\n",
       "    </tr>\n",
       "    <tr>\n",
       "      <th>3</th>\n",
       "      <td>29001</td>\n",
       "      <td>1</td>\n",
       "      <td>29</td>\n",
       "      <td>73</td>\n",
       "      <td>29000017</td>\n",
       "      <td>4</td>\n",
       "      <td>1</td>\n",
       "      <td>1</td>\n",
       "      <td>1</td>\n",
       "      <td>268</td>\n",
       "      <td>3</td>\n",
       "      <td>3</td>\n",
       "      <td>2</td>\n",
       "      <td>2.0</td>\n",
       "      <td>2.0</td>\n",
       "      <td>3.0</td>\n",
       "      <td>7</td>\n",
       "      <td>1</td>\n",
       "      <td>1</td>\n",
       "      <td>2001</td>\n",
       "    </tr>\n",
       "    <tr>\n",
       "      <th>4</th>\n",
       "      <td>29001</td>\n",
       "      <td>1</td>\n",
       "      <td>29</td>\n",
       "      <td>92</td>\n",
       "      <td>29000017</td>\n",
       "      <td>5</td>\n",
       "      <td>1</td>\n",
       "      <td>1</td>\n",
       "      <td>1</td>\n",
       "      <td>243</td>\n",
       "      <td>3</td>\n",
       "      <td>4</td>\n",
       "      <td>4</td>\n",
       "      <td>1.0</td>\n",
       "      <td>2.0</td>\n",
       "      <td>1.0</td>\n",
       "      <td>7</td>\n",
       "      <td>1</td>\n",
       "      <td>1</td>\n",
       "      <td>2001</td>\n",
       "    </tr>\n",
       "    <tr>\n",
       "      <th>...</th>\n",
       "      <td>...</td>\n",
       "      <td>...</td>\n",
       "      <td>...</td>\n",
       "      <td>...</td>\n",
       "      <td>...</td>\n",
       "      <td>...</td>\n",
       "      <td>...</td>\n",
       "      <td>...</td>\n",
       "      <td>...</td>\n",
       "      <td>...</td>\n",
       "      <td>...</td>\n",
       "      <td>...</td>\n",
       "      <td>...</td>\n",
       "      <td>...</td>\n",
       "      <td>...</td>\n",
       "      <td>...</td>\n",
       "      <td>...</td>\n",
       "      <td>...</td>\n",
       "      <td>...</td>\n",
       "      <td>...</td>\n",
       "    </tr>\n",
       "    <tr>\n",
       "      <th>542338</th>\n",
       "      <td>35053</td>\n",
       "      <td>1</td>\n",
       "      <td>35</td>\n",
       "      <td>491</td>\n",
       "      <td>35607190</td>\n",
       "      <td>1</td>\n",
       "      <td>1</td>\n",
       "      <td>12</td>\n",
       "      <td>3</td>\n",
       "      <td>240</td>\n",
       "      <td>3</td>\n",
       "      <td>3</td>\n",
       "      <td>2</td>\n",
       "      <td>2.0</td>\n",
       "      <td>2.0</td>\n",
       "      <td>3.0</td>\n",
       "      <td>23</td>\n",
       "      <td>12</td>\n",
       "      <td>12</td>\n",
       "      <td>2001</td>\n",
       "    </tr>\n",
       "    <tr>\n",
       "      <th>542339</th>\n",
       "      <td>35032</td>\n",
       "      <td>1</td>\n",
       "      <td>35</td>\n",
       "      <td>24</td>\n",
       "      <td>35607785</td>\n",
       "      <td>1</td>\n",
       "      <td>1</td>\n",
       "      <td>12</td>\n",
       "      <td>2</td>\n",
       "      <td>295</td>\n",
       "      <td>3</td>\n",
       "      <td>5</td>\n",
       "      <td>3</td>\n",
       "      <td>2.0</td>\n",
       "      <td>2.0</td>\n",
       "      <td>3.0</td>\n",
       "      <td>16</td>\n",
       "      <td>12</td>\n",
       "      <td>12</td>\n",
       "      <td>2001</td>\n",
       "    </tr>\n",
       "    <tr>\n",
       "      <th>542340</th>\n",
       "      <td>35012</td>\n",
       "      <td>1</td>\n",
       "      <td>35</td>\n",
       "      <td>152</td>\n",
       "      <td>35608161</td>\n",
       "      <td>1</td>\n",
       "      <td>1</td>\n",
       "      <td>12</td>\n",
       "      <td>1</td>\n",
       "      <td>248</td>\n",
       "      <td>3</td>\n",
       "      <td>4</td>\n",
       "      <td>3</td>\n",
       "      <td>1.0</td>\n",
       "      <td>2.0</td>\n",
       "      <td>3.0</td>\n",
       "      <td>9</td>\n",
       "      <td>12</td>\n",
       "      <td>12</td>\n",
       "      <td>2001</td>\n",
       "    </tr>\n",
       "    <tr>\n",
       "      <th>542341</th>\n",
       "      <td>35032</td>\n",
       "      <td>1</td>\n",
       "      <td>35</td>\n",
       "      <td>24</td>\n",
       "      <td>35608781</td>\n",
       "      <td>1</td>\n",
       "      <td>5</td>\n",
       "      <td>12</td>\n",
       "      <td>2</td>\n",
       "      <td>267</td>\n",
       "      <td>3</td>\n",
       "      <td>0</td>\n",
       "      <td>0</td>\n",
       "      <td>NaN</td>\n",
       "      <td>NaN</td>\n",
       "      <td>NaN</td>\n",
       "      <td>16</td>\n",
       "      <td>12</td>\n",
       "      <td>12</td>\n",
       "      <td>2001</td>\n",
       "    </tr>\n",
       "    <tr>\n",
       "      <th>542342</th>\n",
       "      <td>35012</td>\n",
       "      <td>1</td>\n",
       "      <td>35</td>\n",
       "      <td>44</td>\n",
       "      <td>35609125</td>\n",
       "      <td>1</td>\n",
       "      <td>1</td>\n",
       "      <td>12</td>\n",
       "      <td>1</td>\n",
       "      <td>282</td>\n",
       "      <td>3</td>\n",
       "      <td>4</td>\n",
       "      <td>4</td>\n",
       "      <td>2.0</td>\n",
       "      <td>2.0</td>\n",
       "      <td>3.0</td>\n",
       "      <td>9</td>\n",
       "      <td>12</td>\n",
       "      <td>12</td>\n",
       "      <td>2001</td>\n",
       "    </tr>\n",
       "  </tbody>\n",
       "</table>\n",
       "<p>542343 rows × 20 columns</p>\n",
       "</div>"
      ],
      "text/plain": [
       "        v0002  v0003  uf  v0101      v102  v103  v0104  v0105  v0106  v0107  \\\n",
       "0       29001      1  29     17  29000017     1      1      1      1    268   \n",
       "1       29001      1  29     36  29000017     2      1      1      1    268   \n",
       "2       29001      1  29     54  29000017     3      1      1      1    243   \n",
       "3       29001      1  29     73  29000017     4      1      1      1    268   \n",
       "4       29001      1  29     92  29000017     5      1      1      1    243   \n",
       "...       ...    ...  ..    ...       ...   ...    ...    ...    ...    ...   \n",
       "542338  35053      1  35    491  35607190     1      1     12      3    240   \n",
       "542339  35032      1  35     24  35607785     1      1     12      2    295   \n",
       "542340  35012      1  35    152  35608161     1      1     12      1    248   \n",
       "542341  35032      1  35     24  35608781     1      5     12      2    267   \n",
       "542342  35012      1  35     44  35609125     1      1     12      1    282   \n",
       "\n",
       "        v0108  v0109  v0110  v0111  v0112  v0113  v2001  v2002  mes   ano  \n",
       "0           3      5      4    2.0    2.0    3.0      7      1    1  2001  \n",
       "1           3      2      1    1.0    2.0    3.0      7      1    1  2001  \n",
       "2           3      9      9    2.0    2.0    1.0      7      1    1  2001  \n",
       "3           3      3      2    2.0    2.0    3.0      7      1    1  2001  \n",
       "4           3      4      4    1.0    2.0    1.0      7      1    1  2001  \n",
       "...       ...    ...    ...    ...    ...    ...    ...    ...  ...   ...  \n",
       "542338      3      3      2    2.0    2.0    3.0     23     12   12  2001  \n",
       "542339      3      5      3    2.0    2.0    3.0     16     12   12  2001  \n",
       "542340      3      4      3    1.0    2.0    3.0      9     12   12  2001  \n",
       "542341      3      0      0    NaN    NaN    NaN     16     12   12  2001  \n",
       "542342      3      4      4    2.0    2.0    3.0      9     12   12  2001  \n",
       "\n",
       "[542343 rows x 20 columns]"
      ]
     },
     "execution_count": 7,
     "metadata": {},
     "output_type": "execute_result"
    }
   ],
   "source": [
    "b2001p"
   ]
  },
  {
   "cell_type": "code",
   "execution_count": 5,
   "id": "1a4e6f34",
   "metadata": {},
   "outputs": [
    {
     "ename": "KeyError",
     "evalue": "\"['v202', 'v204', 'v210', 'v236', 'v246', 'v306', 'v309', 'v339', 'v311', 'v341'] not in index\"",
     "output_type": "error",
     "traceback": [
      "\u001b[1;31m---------------------------------------------------------------------------\u001b[0m",
      "\u001b[1;31mKeyError\u001b[0m                                  Traceback (most recent call last)",
      "Cell \u001b[1;32mIn [5], line 2\u001b[0m\n\u001b[0;32m      1\u001b[0m \u001b[38;5;66;03m#Nos quedamos con los datos que necesitamos\u001b[39;00m\n\u001b[1;32m----> 2\u001b[0m b2001pf \u001b[38;5;241m=\u001b[39m \u001b[43mb2001p\u001b[49m\u001b[43m[\u001b[49m\u001b[43m[\u001b[49m\u001b[38;5;124;43m'\u001b[39;49m\u001b[38;5;124;43muf\u001b[39;49m\u001b[38;5;124;43m'\u001b[39;49m\u001b[43m,\u001b[49m\u001b[43m \u001b[49m\u001b[38;5;124;43m'\u001b[39;49m\u001b[38;5;124;43mano\u001b[39;49m\u001b[38;5;124;43m'\u001b[39;49m\u001b[43m,\u001b[49m\u001b[43m \u001b[49m\u001b[38;5;124;43m'\u001b[39;49m\u001b[38;5;124;43mmes\u001b[39;49m\u001b[38;5;124;43m'\u001b[39;49m\u001b[43m,\u001b[49m\u001b[43m \u001b[49m\u001b[38;5;124;43m'\u001b[39;49m\u001b[38;5;124;43mv102\u001b[39;49m\u001b[38;5;124;43m'\u001b[39;49m\u001b[43m,\u001b[49m\u001b[43m \u001b[49m\u001b[38;5;124;43m'\u001b[39;49m\u001b[38;5;124;43mv103\u001b[39;49m\u001b[38;5;124;43m'\u001b[39;49m\u001b[43m,\u001b[49m\u001b[43m \u001b[49m\u001b[38;5;124;43m'\u001b[39;49m\u001b[38;5;124;43mv202\u001b[39;49m\u001b[38;5;124;43m'\u001b[39;49m\u001b[43m,\u001b[49m\u001b[43m \u001b[49m\u001b[38;5;124;43m'\u001b[39;49m\u001b[38;5;124;43mv204\u001b[39;49m\u001b[38;5;124;43m'\u001b[39;49m\u001b[43m,\u001b[49m\u001b[43m \u001b[49m\u001b[38;5;124;43m'\u001b[39;49m\u001b[38;5;124;43mv210\u001b[39;49m\u001b[38;5;124;43m'\u001b[39;49m\u001b[43m,\u001b[49m\u001b[43m \u001b[49m\u001b[38;5;124;43m'\u001b[39;49m\u001b[38;5;124;43mv236\u001b[39;49m\u001b[38;5;124;43m'\u001b[39;49m\u001b[43m,\u001b[49m\u001b[43m \u001b[49m\u001b[38;5;124;43m'\u001b[39;49m\u001b[38;5;124;43mv246\u001b[39;49m\u001b[38;5;124;43m'\u001b[39;49m\u001b[43m,\u001b[49m\u001b[43m \u001b[49m\u001b[38;5;124;43m'\u001b[39;49m\u001b[38;5;124;43mv306\u001b[39;49m\u001b[38;5;124;43m'\u001b[39;49m\u001b[43m,\u001b[49m\u001b[43m \u001b[49m\u001b[38;5;124;43m'\u001b[39;49m\u001b[38;5;124;43mv309\u001b[39;49m\u001b[38;5;124;43m'\u001b[39;49m\u001b[43m,\u001b[49m\u001b[43m \u001b[49m\u001b[38;5;124;43m'\u001b[39;49m\u001b[38;5;124;43mv339\u001b[39;49m\u001b[38;5;124;43m'\u001b[39;49m\u001b[43m,\u001b[49m\u001b[43m \u001b[49m\u001b[38;5;124;43m'\u001b[39;49m\u001b[38;5;124;43mv311\u001b[39;49m\u001b[38;5;124;43m'\u001b[39;49m\u001b[43m,\u001b[49m\u001b[43m \u001b[49m\u001b[38;5;124;43m'\u001b[39;49m\u001b[38;5;124;43mv341\u001b[39;49m\u001b[38;5;124;43m'\u001b[39;49m\u001b[43m,\u001b[49m\u001b[43m \u001b[49m\u001b[38;5;124;43m'\u001b[39;49m\u001b[38;5;124;43mv0109\u001b[39;49m\u001b[38;5;124;43m'\u001b[39;49m\u001b[43m,\u001b[49m\u001b[43m \u001b[49m\u001b[38;5;124;43m'\u001b[39;49m\u001b[38;5;124;43mv0110\u001b[39;49m\u001b[38;5;124;43m'\u001b[39;49m\u001b[43m]\u001b[49m\u001b[43m]\u001b[49m\n\u001b[0;32m      3\u001b[0m b2001pf\u001b[38;5;241m.\u001b[39mhead()\n",
      "File \u001b[1;32m~\\AppData\\Local\\Programs\\Python\\Python310\\lib\\site-packages\\pandas\\core\\frame.py:3811\u001b[0m, in \u001b[0;36mDataFrame.__getitem__\u001b[1;34m(self, key)\u001b[0m\n\u001b[0;32m   3809\u001b[0m     \u001b[38;5;28;01mif\u001b[39;00m is_iterator(key):\n\u001b[0;32m   3810\u001b[0m         key \u001b[38;5;241m=\u001b[39m \u001b[38;5;28mlist\u001b[39m(key)\n\u001b[1;32m-> 3811\u001b[0m     indexer \u001b[38;5;241m=\u001b[39m \u001b[38;5;28;43mself\u001b[39;49m\u001b[38;5;241;43m.\u001b[39;49m\u001b[43mcolumns\u001b[49m\u001b[38;5;241;43m.\u001b[39;49m\u001b[43m_get_indexer_strict\u001b[49m\u001b[43m(\u001b[49m\u001b[43mkey\u001b[49m\u001b[43m,\u001b[49m\u001b[43m \u001b[49m\u001b[38;5;124;43m\"\u001b[39;49m\u001b[38;5;124;43mcolumns\u001b[39;49m\u001b[38;5;124;43m\"\u001b[39;49m\u001b[43m)\u001b[49m[\u001b[38;5;241m1\u001b[39m]\n\u001b[0;32m   3813\u001b[0m \u001b[38;5;66;03m# take() does not accept boolean indexers\u001b[39;00m\n\u001b[0;32m   3814\u001b[0m \u001b[38;5;28;01mif\u001b[39;00m \u001b[38;5;28mgetattr\u001b[39m(indexer, \u001b[38;5;124m\"\u001b[39m\u001b[38;5;124mdtype\u001b[39m\u001b[38;5;124m\"\u001b[39m, \u001b[38;5;28;01mNone\u001b[39;00m) \u001b[38;5;241m==\u001b[39m \u001b[38;5;28mbool\u001b[39m:\n",
      "File \u001b[1;32m~\\AppData\\Local\\Programs\\Python\\Python310\\lib\\site-packages\\pandas\\core\\indexes\\base.py:6108\u001b[0m, in \u001b[0;36mIndex._get_indexer_strict\u001b[1;34m(self, key, axis_name)\u001b[0m\n\u001b[0;32m   6105\u001b[0m \u001b[38;5;28;01melse\u001b[39;00m:\n\u001b[0;32m   6106\u001b[0m     keyarr, indexer, new_indexer \u001b[38;5;241m=\u001b[39m \u001b[38;5;28mself\u001b[39m\u001b[38;5;241m.\u001b[39m_reindex_non_unique(keyarr)\n\u001b[1;32m-> 6108\u001b[0m \u001b[38;5;28;43mself\u001b[39;49m\u001b[38;5;241;43m.\u001b[39;49m\u001b[43m_raise_if_missing\u001b[49m\u001b[43m(\u001b[49m\u001b[43mkeyarr\u001b[49m\u001b[43m,\u001b[49m\u001b[43m \u001b[49m\u001b[43mindexer\u001b[49m\u001b[43m,\u001b[49m\u001b[43m \u001b[49m\u001b[43maxis_name\u001b[49m\u001b[43m)\u001b[49m\n\u001b[0;32m   6110\u001b[0m keyarr \u001b[38;5;241m=\u001b[39m \u001b[38;5;28mself\u001b[39m\u001b[38;5;241m.\u001b[39mtake(indexer)\n\u001b[0;32m   6111\u001b[0m \u001b[38;5;28;01mif\u001b[39;00m \u001b[38;5;28misinstance\u001b[39m(key, Index):\n\u001b[0;32m   6112\u001b[0m     \u001b[38;5;66;03m# GH 42790 - Preserve name from an Index\u001b[39;00m\n",
      "File \u001b[1;32m~\\AppData\\Local\\Programs\\Python\\Python310\\lib\\site-packages\\pandas\\core\\indexes\\base.py:6171\u001b[0m, in \u001b[0;36mIndex._raise_if_missing\u001b[1;34m(self, key, indexer, axis_name)\u001b[0m\n\u001b[0;32m   6168\u001b[0m     \u001b[38;5;28;01mraise\u001b[39;00m \u001b[38;5;167;01mKeyError\u001b[39;00m(\u001b[38;5;124mf\u001b[39m\u001b[38;5;124m\"\u001b[39m\u001b[38;5;124mNone of [\u001b[39m\u001b[38;5;132;01m{\u001b[39;00mkey\u001b[38;5;132;01m}\u001b[39;00m\u001b[38;5;124m] are in the [\u001b[39m\u001b[38;5;132;01m{\u001b[39;00maxis_name\u001b[38;5;132;01m}\u001b[39;00m\u001b[38;5;124m]\u001b[39m\u001b[38;5;124m\"\u001b[39m)\n\u001b[0;32m   6170\u001b[0m not_found \u001b[38;5;241m=\u001b[39m \u001b[38;5;28mlist\u001b[39m(ensure_index(key)[missing_mask\u001b[38;5;241m.\u001b[39mnonzero()[\u001b[38;5;241m0\u001b[39m]]\u001b[38;5;241m.\u001b[39munique())\n\u001b[1;32m-> 6171\u001b[0m \u001b[38;5;28;01mraise\u001b[39;00m \u001b[38;5;167;01mKeyError\u001b[39;00m(\u001b[38;5;124mf\u001b[39m\u001b[38;5;124m\"\u001b[39m\u001b[38;5;132;01m{\u001b[39;00mnot_found\u001b[38;5;132;01m}\u001b[39;00m\u001b[38;5;124m not in index\u001b[39m\u001b[38;5;124m\"\u001b[39m)\n",
      "\u001b[1;31mKeyError\u001b[0m: \"['v202', 'v204', 'v210', 'v236', 'v246', 'v306', 'v309', 'v339', 'v311', 'v341'] not in index\""
     ]
    }
   ],
   "source": [
    "#Nos quedamos con los datos que necesitamos\n",
    "b2001pf = b2001p[['uf', 'ano', 'mes', 'v102', 'v103','v204', 'v210', 'v236', 'v246', 'v306', 'v309', 'v339', 'v311', 'v341', 'v0109', 'v0110']]\n",
    "b2001pf.head()"
   ]
  },
  {
   "cell_type": "code",
   "execution_count": null,
   "id": "21420c4d",
   "metadata": {},
   "outputs": [],
   "source": [
    "b2001pf.describe"
   ]
  },
  {
   "cell_type": "code",
   "execution_count": null,
   "id": "0b746230",
   "metadata": {},
   "outputs": [],
   "source": [
    "b2001pf.info()"
   ]
  },
  {
   "cell_type": "markdown",
   "id": "6ec40fd1",
   "metadata": {},
   "source": [
    "## Corregimos los valores NA llenando con ceros"
   ]
  },
  {
   "cell_type": "code",
   "execution_count": null,
   "id": "c6799da3",
   "metadata": {
    "scrolled": true
   },
   "outputs": [],
   "source": [
    "b2001pf['v306'] = b2001pf['v306'].fillna(0)\n",
    "b2001pf['v309'] = b2001pf['v309'].fillna(0)\n",
    "b2001pf['v339'] = b2001pf['v339'].fillna(0)\n",
    "b2001pf['v341'] = b2001pf['v341'].fillna(0)\n",
    "b2001pf['v311'] = b2001pf['v311'].fillna(0)\n",
    "b2001pf.info()"
   ]
  },
  {
   "cell_type": "markdown",
   "id": "1b6000d7",
   "metadata": {},
   "source": [
    "## Calculamos el ingreso bruto por persona\n",
    "### ingr_b es la suma del ingreso del trabajo principal y el ingreso de los trabajos no principales"
   ]
  },
  {
   "cell_type": "code",
   "execution_count": null,
   "id": "3dd10b0f",
   "metadata": {
    "scrolled": true
   },
   "outputs": [],
   "source": [
    "b2001pf['ingr_b'] = b2001pf['v309'] + b2001pf['v311']\n",
    "b2001pf"
   ]
  },
  {
   "cell_type": "code",
   "execution_count": null,
   "id": "960ad7df",
   "metadata": {},
   "outputs": [],
   "source": [
    "b2001pf['ingr_b']"
   ]
  },
  {
   "cell_type": "markdown",
   "id": "514aa4d9",
   "metadata": {},
   "source": [
    "## Deflactamos el ingreso"
   ]
  },
  {
   "cell_type": "markdown",
   "id": "40e6ff27",
   "metadata": {},
   "source": [
    "La información de la inflación mensual basada en el ipc de Brasil se tomó de la página web https://www.inflation.eu/es/tasas-de-inflacion/brasil/inflacion-historica/ipc-inflacion-brasil-1004.aspx"
   ]
  },
  {
   "cell_type": "code",
   "execution_count": null,
   "id": "7003b972",
   "metadata": {},
   "outputs": [],
   "source": [
    "b2001pf['defl'] = 0"
   ]
  },
  {
   "cell_type": "code",
   "execution_count": null,
   "id": "4ecd6008",
   "metadata": {},
   "outputs": [],
   "source": [
    "def2001 = infb.loc[infb['ano']==2001]\n",
    "def2001['index'] = np.arange(1,13)\n",
    "def2001 = def2001.set_index('index')\n",
    "def2001"
   ]
  },
  {
   "cell_type": "code",
   "execution_count": null,
   "id": "0a9feab2",
   "metadata": {},
   "outputs": [],
   "source": [
    "for x in np.array([1,2,3,4,5,6,7,8,9,10,11,12]):\n",
    "    print('mes', x)\n",
    "    fl = b2001pf.loc[b2001pf['mes']==x]\n",
    "    fl['defl'] = def2001['defl'][x]\n",
    "    b2001pf['defl'].loc[b2001pf['mes']==x] = fl['defl']\n",
    "    del(fl)\n",
    "    "
   ]
  },
  {
   "cell_type": "code",
   "execution_count": null,
   "id": "22bf57e2",
   "metadata": {},
   "outputs": [],
   "source": [
    "b2001pf['ingr_r'] = b2001pf['ingr_b']/b2001pf['defl']\n",
    "b2001pf"
   ]
  },
  {
   "cell_type": "markdown",
   "id": "b0a0700e",
   "metadata": {},
   "source": [
    "## Intento de crear un índice para hogares y una variable ingreso hogares"
   ]
  },
  {
   "cell_type": "markdown",
   "id": "1c31a98f",
   "metadata": {},
   "source": [
    "Los intentos de crear un indice para hogares y de calcular el ingreso de cada hogar como la suma de los perceptores de ingresos individuales es posible, pero es demasiado largo y requiere mayor capacidad de cómputo, con 1534 áreas cada una con un promedio de 40 hogares y por doce meses son aproximadamente 736320 iteraciones por año.\n",
    "\n",
    "Este procedimiento para cada uno de los 20 años, asumiendo que el número de hogares se mantenga igual sería un total de 14 726 400 iteraciones, asumiendo que mi computador sea capáz de realizar 20 iteraciones por segundo el trabajo se completaría en 8.52 días donde la computadora tendría que estar funcionando las 24 horas del día sin descanso.\n",
    "\n",
    "Desconozco si existe otra base u otros cálculos de la PME donde tengamos el ingreso por hogares como la suma de los ingresos de las personas encuestadas mes a mes o si el autor calculó de esta o de alguna otra forma el ingreso de los hogares.\n",
    "\n",
    "Ya que al final el autor después de calcular el ingreso de los hogares lo divide para cada uno de los miembros, intentaré aproximar la fórmula del autor directamente para cada persona, de esta manera tendremos un resultado parecido.\n",
    "\n",
    "Queda el código necesario para calcular el ingreso de los hogares."
   ]
  },
  {
   "cell_type": "code",
   "execution_count": null,
   "id": "e05cbbba",
   "metadata": {},
   "outputs": [],
   "source": [
    "#b2001pf['ingr_h'] = 0\n",
    "#b2001pf"
   ]
  },
  {
   "cell_type": "code",
   "execution_count": null,
   "id": "7054e885",
   "metadata": {
    "scrolled": true
   },
   "outputs": [],
   "source": [
    "#for x in b2001pf['mes'].unique():\n",
    "#   for y in b2001pf['v102'].unique():\n",
    "#       for z in b2001pf['v103'].unique():\n",
    "#          print('mes', x, 'Área', y, 'Hogar', z)\n",
    "#           ig = b2001pf.loc[(b2001pf['mes']==x) & (b2001pf['v102']==y) & (b2001pf['v103']==z)]\n",
    "#           ig['h'] = ig['ingr_b'].sum()\n",
    "#           b2001pf['ingr_h'].loc[(b2001pf['mes']==x) & (b2001pf['v102']==y) & (b2001pf['v103']==z)] = ig['h']\n",
    "#           del(ig)\n",
    "\n",
    "            "
   ]
  },
  {
   "cell_type": "markdown",
   "id": "982bf502",
   "metadata": {},
   "source": [
    "Para calcular un índice de hogares, el siguiente código arroja todos los hogares posibles durante cada mes"
   ]
  },
  {
   "cell_type": "code",
   "execution_count": null,
   "id": "4353c660",
   "metadata": {},
   "outputs": [],
   "source": [
    "#for x in b1004pf['mes'].unique():\n",
    "#   for y in b1004pf['v102'].unique():\n",
    "#       for z in b1004pf['v103'].unique():\n",
    "#           print(x,y,z)"
   ]
  },
  {
   "cell_type": "markdown",
   "id": "7f89d43f",
   "metadata": {},
   "source": [
    "## Calculamos la edad"
   ]
  },
  {
   "cell_type": "code",
   "execution_count": null,
   "id": "64c872a0",
   "metadata": {
    "scrolled": true
   },
   "outputs": [],
   "source": [
    "b2001pf['v246_b'] = 0\n",
    "b2001pf"
   ]
  },
  {
   "cell_type": "markdown",
   "id": "79e71fa6",
   "metadata": {},
   "source": [
    "Para las edades de tres dígitos les sumamos 1000"
   ]
  },
  {
   "cell_type": "code",
   "execution_count": null,
   "id": "d8c9c77e",
   "metadata": {},
   "outputs": [],
   "source": [
    "tres = b2001pf.loc[b2001pf['v246'] < 1000]\n",
    "tres['v246_b'] = b2001pf.loc[b2001pf['v246']<1000]['v246']+1000\n",
    "b2001pf['v246_b'].loc[b2001pf['v246']<1000] = tres['v246_b']\n",
    "del(tres)\n",
    "b2001pf"
   ]
  },
  {
   "cell_type": "markdown",
   "id": "79b92dba",
   "metadata": {},
   "source": [
    "Para las edades que solo tienen dos dígitos, los corregimos sumando 1900"
   ]
  },
  {
   "cell_type": "code",
   "execution_count": null,
   "id": "991fe1da",
   "metadata": {},
   "outputs": [],
   "source": [
    "cien = b2001pf.loc[b2001pf['v246'] < 100]\n",
    "cien['v246_b'] = b2001pf.loc[b2001pf['v246']<100]['v246']+1900\n",
    "b2001pf['v246_b'].loc[b2001pf['v246']<100] = cien['v246_b']\n",
    "del(cien)\n",
    "b2001pf"
   ]
  },
  {
   "cell_type": "markdown",
   "id": "83586dbb",
   "metadata": {},
   "source": [
    "Calculamos la edad"
   ]
  },
  {
   "cell_type": "code",
   "execution_count": null,
   "id": "38befd2a",
   "metadata": {
    "scrolled": true
   },
   "outputs": [],
   "source": [
    "b2001pf['edad_c'] = 2001-b2001pf['v246_b']\n",
    "b2001pf"
   ]
  },
  {
   "cell_type": "markdown",
   "id": "294c6301",
   "metadata": {},
   "source": [
    "Limpiamos de la base los datos con edades negativas"
   ]
  },
  {
   "cell_type": "code",
   "execution_count": null,
   "id": "019df3ce",
   "metadata": {
    "scrolled": true
   },
   "outputs": [],
   "source": [
    "b2001pf = b2001pf.loc[b2001pf['edad_c']>0]"
   ]
  },
  {
   "cell_type": "markdown",
   "id": "1e495387",
   "metadata": {},
   "source": [
    "Limpiamos también los datos con edades mayores a 100 años"
   ]
  },
  {
   "cell_type": "code",
   "execution_count": null,
   "id": "fe389571",
   "metadata": {},
   "outputs": [],
   "source": [
    "b2001pf = b2001pf.loc[b2001pf['edad_c']<100]"
   ]
  },
  {
   "cell_type": "markdown",
   "id": "8c51c049",
   "metadata": {},
   "source": [
    "Eliminamos también aquellos datos que tienen menos de 10 años"
   ]
  },
  {
   "cell_type": "code",
   "execution_count": null,
   "id": "e4bada51",
   "metadata": {},
   "outputs": [],
   "source": [
    "b2001pf = b2001pf.loc[b2001pf['edad_c']>10]"
   ]
  },
  {
   "cell_type": "markdown",
   "id": "8ce753f4",
   "metadata": {},
   "source": [
    "Eliminamos ingresos igual a 0000000000"
   ]
  },
  {
   "cell_type": "code",
   "execution_count": null,
   "id": "40c8adda",
   "metadata": {},
   "outputs": [],
   "source": [
    "b2001pf = b2001pf.loc[b2001pf['ingr_b']!=999999999]\n",
    "b2001pf"
   ]
  },
  {
   "cell_type": "markdown",
   "id": "03e67b6d",
   "metadata": {},
   "source": [
    "## Ingreso descontando \"cargas familiares\""
   ]
  },
  {
   "cell_type": "markdown",
   "id": "bd64dfbf",
   "metadata": {},
   "source": [
    "En lugar de aproximar el ingreso de los hogares, vamos a considerara solo los indiviuos con ingresos superiores a 0 y les vamos a descontar un valor estimado de cargas familiares y de mantener a la familia, para de esta manera mantener el impacto en el hogar, para eso vamos a calcular el mismo índice que calcula el autor pero utilizando el ingreso individual, de esta manera, el resultado ya puede considerarse ponderado en cierto sentido.\n",
    " "
   ]
  },
  {
   "cell_type": "markdown",
   "id": "b242f64e",
   "metadata": {},
   "source": [
    "den: significa denominador y considera la fórmula del autor para aproximar un descuento del ingreso que considera el número de adultos y menores en el hogar, vamos a considerar como niños todos aquellos que la base nos dice que tienen menos de 10 años"
   ]
  },
  {
   "cell_type": "code",
   "execution_count": null,
   "id": "0355cc23",
   "metadata": {},
   "outputs": [],
   "source": [
    "k = 0.4\n",
    "s = 0.9"
   ]
  },
  {
   "cell_type": "code",
   "execution_count": null,
   "id": "2398b600",
   "metadata": {},
   "outputs": [],
   "source": [
    "b2001pf"
   ]
  },
  {
   "cell_type": "code",
   "execution_count": null,
   "id": "68621165",
   "metadata": {},
   "outputs": [],
   "source": [
    "b2001pf['den'] = b2001pf['v0110'] + k*(b2001pf['v0109']-b2001pf['v0110'])**s\n",
    "b2001pf"
   ]
  },
  {
   "cell_type": "code",
   "execution_count": null,
   "id": "2182cb87",
   "metadata": {},
   "outputs": [],
   "source": [
    "b2001pf['ingr_t'] = b2001pf['ingr_r']/b2001pf['den']\n",
    "b2001pf"
   ]
  },
  {
   "cell_type": "markdown",
   "id": "7f4ed854",
   "metadata": {},
   "source": [
    "---------------------------------------"
   ]
  },
  {
   "cell_type": "code",
   "execution_count": null,
   "id": "7125beb9",
   "metadata": {},
   "outputs": [],
   "source": [
    "b2001pi = b2001pf[['uf', 'mes', 'v102', 'v103', 'v0109', 'v0110', 'ingr_b', 'defl', 'ingr_r', 'den', 'ingr_t', 'edad_c']]\n",
    "b2001pi"
   ]
  },
  {
   "cell_type": "markdown",
   "id": "0d2cadd2",
   "metadata": {},
   "source": [
    "Vamos a descartar las personas con ingresos de 0"
   ]
  },
  {
   "cell_type": "code",
   "execution_count": null,
   "id": "d1a67291",
   "metadata": {
    "scrolled": true
   },
   "outputs": [],
   "source": [
    "b2001pi = b2001pi.loc[b2001pi['ingr_t']>0]\n",
    "b2001pi"
   ]
  },
  {
   "cell_type": "markdown",
   "id": "205b821c",
   "metadata": {
    "scrolled": true
   },
   "source": [
    "Incluimos los umbrales de pobreza por región, para esto se utilizó los umbrales de pobreza calculados por Rocha (2003) en el libro \"Pobreza no Brasil: afinal, de que se trata?: afinal, de que se trata?\", https://books.google.com.ar/books?hl=es&lr=&id=06HDRhYrmRgC&oi=fnd&pg=PA7&ots=lshyb6aRik&sig=_p85bkWRJ8a03OjMBtTFIRBPQOE&redir_esc=y#v=onepage&q&f=false los mismos que usa el autor, se tomaron los de los años 2001, y se mantuvo el mismo índice a lo largo de los años ya que de igual manera los ingresos están deflactados"
   ]
  },
  {
   "cell_type": "code",
   "execution_count": null,
   "id": "b85d8452",
   "metadata": {},
   "outputs": [],
   "source": [
    "b2001pi['um_pobr']=0\n",
    "b2001pi"
   ]
  },
  {
   "cell_type": "code",
   "execution_count": null,
   "id": "bf250769",
   "metadata": {},
   "outputs": [],
   "source": [
    "pobr = pd.Series([00.72, 92.37, 82.11, 00.21, 119.55, 62.28], index=[26,29,31,33,35,43])\n",
    "pobr"
   ]
  },
  {
   "cell_type": "code",
   "execution_count": null,
   "id": "6bba95a6",
   "metadata": {},
   "outputs": [],
   "source": [
    "for x in np.array([43,33,29,35,31,26]):\n",
    "    print('Región', x)\n",
    "    p = b2001pi.loc[b2001pi['uf']==x]\n",
    "    p['um_pobr'] = pobr[x]\n",
    "    b2001pi['um_pobr'].loc[b2001pi['uf']==x] = p['um_pobr']\n",
    "    del(p)\n",
    "    "
   ]
  },
  {
   "cell_type": "markdown",
   "id": "5f844d60",
   "metadata": {},
   "source": [
    "-------------------------------------\n",
    "        "
   ]
  },
  {
   "cell_type": "markdown",
   "id": "fca9f6d8",
   "metadata": {},
   "source": [
    "## Calculo del índice de pobreza de Foster, Greer y Thorbecke"
   ]
  },
  {
   "cell_type": "markdown",
   "id": "1a56242d",
   "metadata": {},
   "source": [
    "Para calcular un ínidce de pobreza se utiliza a Foster, Greer y Thorbecke (1004), ya que satisface algunas caracterísitcas de distribución que son positivas e igual a las enunciadas por Sen, el autor usa el mismo índice."
   ]
  },
  {
   "cell_type": "code",
   "execution_count": null,
   "id": "915b2fe1",
   "metadata": {},
   "outputs": [],
   "source": [
    "b2001pi = b2001pi.sort_values(['mes', 'ingr_t'])\n",
    "b2001pi"
   ]
  },
  {
   "cell_type": "markdown",
   "id": "e16fac15",
   "metadata": {},
   "source": [
    "Creamos la variable g = um_pobr - ingr_t"
   ]
  },
  {
   "cell_type": "code",
   "execution_count": null,
   "id": "d07adb34",
   "metadata": {
    "scrolled": true
   },
   "outputs": [],
   "source": [
    "b2001pi['g']=b2001pi['um_pobr']-b2001pi['ingr_t']\n",
    "b2001pi"
   ]
  },
  {
   "cell_type": "markdown",
   "id": "bf9dc5bc",
   "metadata": {},
   "source": [
    "Creamos la variable q que será la cantidad de personas bajo el umbral de pobreza, es decir que g > 0"
   ]
  },
  {
   "cell_type": "code",
   "execution_count": null,
   "id": "1843e357",
   "metadata": {},
   "outputs": [],
   "source": [
    "b2001pi['q'] = 0\n",
    "b2001pi"
   ]
  },
  {
   "cell_type": "code",
   "execution_count": null,
   "id": "099ba43b",
   "metadata": {},
   "outputs": [],
   "source": [
    "ma = b2001pi.loc[b2001pi['g']>0]\n",
    "ma['q'] = 1\n",
    "b2001pi['q'] = ma['q']\n",
    "b2001pi"
   ]
  },
  {
   "cell_type": "code",
   "execution_count": null,
   "id": "add14f39",
   "metadata": {},
   "outputs": [],
   "source": [
    "b2001pi['q'] = b2001pi['q'].fillna(0)\n",
    "b2001pi"
   ]
  },
  {
   "cell_type": "markdown",
   "id": "b08342af",
   "metadata": {},
   "source": [
    "qs es una Serie con la cantidad de hogares pobres (q) en cada mes"
   ]
  },
  {
   "cell_type": "code",
   "execution_count": null,
   "id": "830f2506",
   "metadata": {},
   "outputs": [],
   "source": [
    "qs = pd.DataFrame([np.zeros(6)], index=[1,2,3,4,5,6,7,8,9,10,11,12], columns=[26,29,31,33,35,43])"
   ]
  },
  {
   "cell_type": "code",
   "execution_count": null,
   "id": "2c04e746",
   "metadata": {},
   "outputs": [],
   "source": [
    "for x in np.array([26,29,31,33,35,43]):\n",
    "    for y in np.array([1,2,3,4,5,6,7,8,9,10,11,12]):\n",
    "        qs[x][y] = b2001pi.loc[(b2001pi['uf']==x) & (b2001pi['mes']==y)]['q'].sum()\n",
    "del(x)\n",
    "del(y)\n",
    "qs"
   ]
  },
  {
   "cell_type": "markdown",
   "id": "1763e295",
   "metadata": {},
   "source": [
    "ns es una Serie con la cantidad de personas (n) en cada mes y en cada región"
   ]
  },
  {
   "cell_type": "code",
   "execution_count": null,
   "id": "0ec0ce97",
   "metadata": {},
   "outputs": [],
   "source": [
    "ns = pd.DataFrame([np.zeros(6)], index=[1,2,3,4,5,6,7,8,9,10,11,12], columns=[26,29,31,33,35,43])\n"
   ]
  },
  {
   "cell_type": "code",
   "execution_count": null,
   "id": "5750d64b",
   "metadata": {},
   "outputs": [],
   "source": [
    "for x in np.array([26,29,31,33,35,43]):\n",
    "    for y in np.array([1,2,3,4,5,6,7,8,9,10,11,12]):\n",
    "        ns[x][y] = b2001pi.loc[(b2001pi['uf']==x) & (b2001pi['mes']==y)]['mes'].count()\n",
    "del(x)\n",
    "del(y)\n",
    "ns"
   ]
  },
  {
   "cell_type": "markdown",
   "id": "4e5711c3",
   "metadata": {},
   "source": [
    "sumag es una Serie con la sumatoria de g para cada uno de los hogares pobres por cada mes"
   ]
  },
  {
   "cell_type": "code",
   "execution_count": null,
   "id": "0ddea2a3",
   "metadata": {},
   "outputs": [],
   "source": [
    "b2001pi['gq'] = b2001pi['g']*b2001pi['q']\n",
    "b2001pi"
   ]
  },
  {
   "cell_type": "code",
   "execution_count": null,
   "id": "de8c803c",
   "metadata": {},
   "outputs": [],
   "source": [
    "b2001pi['sumag_z'] = b2001pi['gq']/b2001pi['um_pobr']\n",
    "b2001pi"
   ]
  },
  {
   "cell_type": "code",
   "execution_count": null,
   "id": "5269d791",
   "metadata": {},
   "outputs": [],
   "source": [
    "b2001pi['sumag_z0'] = b2001pi['q']\n",
    "b2001pi['sumag_z1'] = b2001pi['sumag_z']**1\n",
    "b2001pi['sumag_z2'] = b2001pi['sumag_z']**2\n",
    "b2001pi"
   ]
  },
  {
   "cell_type": "code",
   "execution_count": null,
   "id": "03dedac7",
   "metadata": {},
   "outputs": [],
   "source": [
    "sumag_z0 = pd.DataFrame([np.zeros(6)], index=[1,2,3,4,5,6,7,8,9,10,11,12], columns=[26,29,31,33,35,43])"
   ]
  },
  {
   "cell_type": "code",
   "execution_count": null,
   "id": "e1f0db11",
   "metadata": {},
   "outputs": [],
   "source": [
    "for x in np.array([26,29,31,33,35,43]):\n",
    "    for y in np.array([1,2,3,4,5,6,7,8,9,10,11,12]):\n",
    "        sumag_z0[x][y] = b2001pi.loc[(b2001pi['uf']==x) & (b2001pi['mes']==y)]['sumag_z0'].sum()\n",
    "del(x)\n",
    "del(y)\n",
    "sumag_z0"
   ]
  },
  {
   "cell_type": "code",
   "execution_count": null,
   "id": "3fb2a67e",
   "metadata": {},
   "outputs": [],
   "source": [
    "sumag_z1 = pd.DataFrame([np.zeros(6)], index=[1,2,3,4,5,6,7,8,9,10,11,12], columns=[26,29,31,33,35,43])"
   ]
  },
  {
   "cell_type": "code",
   "execution_count": null,
   "id": "1c6234dc",
   "metadata": {},
   "outputs": [],
   "source": [
    "for x in np.array([26,29,31,33,35,43]):\n",
    "    for y in np.array([1,2,3,4,5,6,7,8,9,10,11,12]):\n",
    "        sumag_z1[x][y] = b2001pi.loc[(b2001pi['uf']==x) & (b2001pi['mes']==y)]['sumag_z1'].sum()\n",
    "del(x)\n",
    "del(y)\n",
    "sumag_z1"
   ]
  },
  {
   "cell_type": "code",
   "execution_count": null,
   "id": "f4130465",
   "metadata": {},
   "outputs": [],
   "source": [
    "sumag_z2 = pd.DataFrame([np.zeros(6)], index=[1,2,3,4,5,6,7,8,9,10,11,12], columns=[26,29,31,33,35,43])"
   ]
  },
  {
   "cell_type": "code",
   "execution_count": null,
   "id": "7938e090",
   "metadata": {},
   "outputs": [],
   "source": [
    "for x in np.array([26,29,31,33,35,43]):\n",
    "    for y in np.array([1,2,3,4,5,6,7,8,9,10,11,12]):\n",
    "        sumag_z2[x][y] = b2001pi.loc[(b2001pi['uf']==x) & (b2001pi['mes']==y)]['sumag_z2'].sum()\n",
    "del(x)\n",
    "del(y)\n",
    "sumag_z2"
   ]
  },
  {
   "cell_type": "markdown",
   "id": "f5dd9d59",
   "metadata": {
    "scrolled": true
   },
   "source": [
    "Calculamos la medida de pobreza como parte de una clase de índices de pobreza indexados por un alpha que se interpreta como un índice de aversión a la pobreza, con la siguiente fórmula 1/(n)*sumatoria(g/um_pobr)**2 para cada mes y cada región"
   ]
  },
  {
   "cell_type": "code",
   "execution_count": null,
   "id": "9b58900c",
   "metadata": {},
   "outputs": [],
   "source": [
    "fgt0 = pd.DataFrame([np.zeros(6)], index=[1,2,3,4,5,6,7,8,9,10,11,12], columns=[26,29,31,33,35,43])"
   ]
  },
  {
   "cell_type": "code",
   "execution_count": null,
   "id": "9a57ee37",
   "metadata": {},
   "outputs": [],
   "source": [
    "for x in np.array([26,29,31,33,35,43]):\n",
    "    for y in np.array([1,2,3,4,5,6,7,8,9,10,11,12]):\n",
    "        fgt0[x][y] = 1/(ns[x][y])*sumag_z0[x][y]\n",
    "del(x)\n",
    "del(y)\n",
    "fgt0    "
   ]
  },
  {
   "cell_type": "code",
   "execution_count": null,
   "id": "3920ed65",
   "metadata": {},
   "outputs": [],
   "source": [
    "fgt1 = pd.DataFrame([np.zeros(6)], index=[1,2,3,4,5,6,7,8,9,10,11,12], columns=[26,29,31,33,35,43])"
   ]
  },
  {
   "cell_type": "code",
   "execution_count": null,
   "id": "ab1ed6e8",
   "metadata": {},
   "outputs": [],
   "source": [
    "for x in np.array([26,29,31,33,35,43]):\n",
    "    for y in np.array([1,2,3,4,5,6,7,8,9,10,11,12]):\n",
    "        fgt1[x][y] = 1/(ns[x][y])*sumag_z1[x][y]\n",
    "del(x)\n",
    "del(y)\n",
    "fgt1    "
   ]
  },
  {
   "cell_type": "code",
   "execution_count": null,
   "id": "9409e792",
   "metadata": {},
   "outputs": [],
   "source": [
    "fgt2 = pd.DataFrame([np.zeros(6)], index=[1,2,3,4,5,6,7,8,9,10,11,12], columns=[26,29,31,33,35,43])"
   ]
  },
  {
   "cell_type": "code",
   "execution_count": null,
   "id": "4f11e686",
   "metadata": {},
   "outputs": [],
   "source": [
    "for x in np.array([26,29,31,33,35,43]):\n",
    "    for y in np.array([1,2,3,4,5,6,7,8,9,10,11,12]):\n",
    "        fgt2[x][y] = 1/(ns[x][y])*sumag_z2[x][y]\n",
    "del(x)\n",
    "del(y)\n",
    "fgt2    "
   ]
  },
  {
   "cell_type": "markdown",
   "id": "b0fc1f6d",
   "metadata": {},
   "source": [
    "El autor menciona también los trabajos de Ravallion 1004 y 2016 pero parece ser que no los calcula"
   ]
  },
  {
   "cell_type": "markdown",
   "id": "43b032ee",
   "metadata": {},
   "source": [
    "----------------------------------"
   ]
  },
  {
   "cell_type": "markdown",
   "id": "6708e967",
   "metadata": {},
   "source": [
    "## Calculo del ínidce de desigualdad de Atkinson"
   ]
  },
  {
   "cell_type": "markdown",
   "id": "7d06f9af",
   "metadata": {},
   "source": [
    "Vamos a calcular el índice de desigualdad de atkinson con un parámetro (épsilon) de aversión a la desigualdad y un mu que es igual a la media de los ingresos individuales, con la siguiente fórmula 1-1/mu(1/N*sumatoria(y**(1-épsilon))**(1/(1-épsilon)"
   ]
  },
  {
   "cell_type": "markdown",
   "id": "3d86131a",
   "metadata": {},
   "source": [
    "Utilizaremos valores de epsilon 0.25, 0.5, 0.75 como en Amiel, Creedy y Hurn (2001)"
   ]
  },
  {
   "cell_type": "code",
   "execution_count": null,
   "id": "fa830d70",
   "metadata": {},
   "outputs": [],
   "source": [
    "b2001pi = b2001pi[['uf', 'mes', 'ingr_b', 'ingr_r', 'den', 'ingr_t']]"
   ]
  },
  {
   "cell_type": "code",
   "execution_count": null,
   "id": "dd4eee0a",
   "metadata": {},
   "outputs": [],
   "source": [
    "mu = pd.DataFrame([np.zeros(6)], index=[1,2,3,4,5,6,7,8,9,10,11,12], columns=[26,29,31,33,35,43])"
   ]
  },
  {
   "cell_type": "code",
   "execution_count": null,
   "id": "d37f8dba",
   "metadata": {},
   "outputs": [],
   "source": [
    "for x in np.array([26,29,31,33,35,43]):\n",
    "    for y in np.array([1,2,3,4,5,6,7,8,9,10,11,12]):\n",
    "        mu[x][y] = b2001pi.loc[(b2001pi['uf']==x) & (b2001pi['mes']==y)]['ingr_t'].mean()\n",
    "del(x)\n",
    "del(y)\n",
    "mu"
   ]
  },
  {
   "cell_type": "code",
   "execution_count": null,
   "id": "c5539316",
   "metadata": {},
   "outputs": [],
   "source": [
    "b2001pi['ingr_t25'] = b2001pi['ingr_t']**(1-0.25)\n",
    "b2001pi['ingr_t50'] = b2001pi['ingr_t']**(1-0.5)\n",
    "b2001pi['ingr_t75'] = b2001pi['ingr_t']**(1-0.75)\n",
    "b2001pi"
   ]
  },
  {
   "cell_type": "code",
   "execution_count": null,
   "id": "4753f321",
   "metadata": {},
   "outputs": [],
   "source": [
    "suma25 = pd.DataFrame([np.zeros(6)], index=[1,2,3,4,5,6,7,8,9,10,11,12], columns=[26,29,31,33,35,43])"
   ]
  },
  {
   "cell_type": "code",
   "execution_count": null,
   "id": "8a7da424",
   "metadata": {},
   "outputs": [],
   "source": [
    "for x in np.array([26,29,31,33,35,43]):\n",
    "    for y in np.array([1,2,3,4,5,6,7,8,9,10,11,12]):\n",
    "        suma25[x][y] = b2001pi.loc[(b2001pi['uf']==x) & (b2001pi['mes']==y)]['ingr_t25'].sum()\n",
    "del(x)\n",
    "del(y)\n",
    "suma25"
   ]
  },
  {
   "cell_type": "code",
   "execution_count": null,
   "id": "7e136459",
   "metadata": {},
   "outputs": [],
   "source": [
    "suma50 = pd.DataFrame([np.zeros(6)], index=[1,2,3,4,5,6,7,8,9,10,11,12], columns=[26,29,31,33,35,43])"
   ]
  },
  {
   "cell_type": "code",
   "execution_count": null,
   "id": "570975b8",
   "metadata": {},
   "outputs": [],
   "source": [
    "for x in np.array([26,29,31,33,35,43]):\n",
    "    for y in np.array([1,2,3,4,5,6,7,8,9,10,11,12]):\n",
    "        suma50[x][y] = b2001pi.loc[(b2001pi['uf']==x) & (b2001pi['mes']==y)]['ingr_t50'].sum()\n",
    "del(x)\n",
    "del(y)\n",
    "suma50"
   ]
  },
  {
   "cell_type": "code",
   "execution_count": null,
   "id": "766524e3",
   "metadata": {},
   "outputs": [],
   "source": [
    "suma75 = pd.DataFrame([np.zeros(6)], index=[1,2,3,4,5,6,7,8,9,10,11,12], columns=[26,29,31,33,35,43])"
   ]
  },
  {
   "cell_type": "code",
   "execution_count": null,
   "id": "0d88c757",
   "metadata": {},
   "outputs": [],
   "source": [
    "for x in np.array([26,29,31,33,35,43]):\n",
    "    for y in np.array([1,2,3,4,5,6,7,8,9,10,11,12]):\n",
    "        suma75[x][y] = b2001pi.loc[(b2001pi['uf']==x) & (b2001pi['mes']==y)]['ingr_t75'].sum()\n",
    "del(x)\n",
    "del(y)\n",
    "suma75"
   ]
  },
  {
   "cell_type": "code",
   "execution_count": null,
   "id": "825707f9",
   "metadata": {},
   "outputs": [],
   "source": [
    "a25 = pd.DataFrame([np.zeros(6)], index=[1,2,3,4,5,6,7,8,9,10,11,12], columns=[26,29,31,33,35,43])"
   ]
  },
  {
   "cell_type": "code",
   "execution_count": null,
   "id": "ab67ed97",
   "metadata": {},
   "outputs": [],
   "source": [
    "for x in np.array([26,29,31,33,35,43]):\n",
    "    for y in np.array([1,2,3,4,5,6,7,8,9,10,11,12]):\n",
    "        a25[x][y] = 1-1/mu[x][y]*(1/(ns[x][y])*suma25[x][y])**(1/(1-0.25))\n",
    "del(x)\n",
    "del(y)\n",
    "a25"
   ]
  },
  {
   "cell_type": "code",
   "execution_count": null,
   "id": "b024eee9",
   "metadata": {},
   "outputs": [],
   "source": [
    "a50 = pd.DataFrame([np.zeros(6)], index=[1,2,3,4,5,6,7,8,9,10,11,12], columns=[26,29,31,33,35,43])"
   ]
  },
  {
   "cell_type": "code",
   "execution_count": null,
   "id": "48ab9770",
   "metadata": {},
   "outputs": [],
   "source": [
    "for x in np.array([26,29,31,33,35,43]):\n",
    "    for y in np.array([1,2,3,4,5,6,7,8,9,10,11,12]):\n",
    "        a50[x][y] = 1-1/mu[x][y]*(1/(ns[x][y])*suma50[x][y])**(1/(1-0.50))\n",
    "del(x)\n",
    "del(y)\n",
    "a50"
   ]
  },
  {
   "cell_type": "code",
   "execution_count": null,
   "id": "35ba91e4",
   "metadata": {},
   "outputs": [],
   "source": [
    "a75 = pd.DataFrame([np.zeros(6)], index=[1,2,3,4,5,6,7,8,9,10,11,12], columns=[26,29,31,33,35,43])"
   ]
  },
  {
   "cell_type": "code",
   "execution_count": null,
   "id": "56cef69b",
   "metadata": {},
   "outputs": [],
   "source": [
    "for x in np.array([26,29,31,33,35,43]):\n",
    "    for y in np.array([1,2,3,4,5,6,7,8,9,10,11,12]):\n",
    "        a75[x][y] = 1-1/mu[x][y]*(1/(ns[x][y])*suma75[x][y])**(1/(1-0.75))\n",
    "del(x)\n",
    "del(y)\n",
    "a75"
   ]
  },
  {
   "cell_type": "code",
   "execution_count": null,
   "id": "f3f3fdef",
   "metadata": {},
   "outputs": [],
   "source": [
    "a25['ano'] = 2001\n",
    "a50['ano'] = 2001\n",
    "a75['ano'] = 2001\n",
    "fgt0['ano'] = 2001\n",
    "fgt1['ano'] = 2001\n",
    "fgt2['ano'] = 2001"
   ]
  },
  {
   "cell_type": "markdown",
   "id": "d2768256",
   "metadata": {},
   "source": [
    "## Calculamos el ingreso promedio por año y región"
   ]
  },
  {
   "cell_type": "code",
   "execution_count": null,
   "id": "cca921c2",
   "metadata": {},
   "outputs": [],
   "source": [
    "ynr = pd.DataFrame([np.zeros(6)], index=[1,2,3,4,5,6,7,8,9,10,11,12], columns=[26,29,31,33,35,43])"
   ]
  },
  {
   "cell_type": "code",
   "execution_count": null,
   "id": "e8802e3c",
   "metadata": {},
   "outputs": [],
   "source": [
    "for x in np.array([26,29,31,33,35,43]):\n",
    "    for y in np.array([1,2,3,4,5,6,7,8,9,10,11,12]):\n",
    "        ynr[x][y] = b2001pi.loc[(b2001pi['uf']==x) & (b2001pi['mes']==y)]['ingr_t'].mean()\n",
    "del(x)\n",
    "del(y)\n",
    "ynr"
   ]
  },
  {
   "cell_type": "code",
   "execution_count": null,
   "id": "601026b1",
   "metadata": {},
   "outputs": [],
   "source": [
    "ynr['ano'] = 2001"
   ]
  },
  {
   "cell_type": "markdown",
   "id": "7d18425f",
   "metadata": {},
   "source": [
    "--------------------------------------"
   ]
  },
  {
   "cell_type": "markdown",
   "id": "6c77c074",
   "metadata": {},
   "source": [
    "## Nos quedamos con los valores finales para pasar a otro año"
   ]
  },
  {
   "cell_type": "code",
   "execution_count": null,
   "id": "0daf58c7",
   "metadata": {},
   "outputs": [],
   "source": [
    "a25_01 = a25\n",
    "a50_01 = a50\n",
    "a75_01 = a75\n",
    "fgt0_01 = fgt0\n",
    "fgt1_01 = fgt1\n",
    "fgt2_01 = fgt2\n",
    "ynr_01 = ynr"
   ]
  },
  {
   "cell_type": "code",
   "execution_count": null,
   "id": "6ae1f975",
   "metadata": {},
   "outputs": [],
   "source": [
    "del(a25, a50, a75, fgt0, fgt1, fgt2, b2001p, b2001pf, b2001pi, ns, sumag_z0, sumag_z1, sumag_z2, qs, ma, mu, suma25, suma50, suma75, ynr, infb)"
   ]
  },
  {
   "cell_type": "markdown",
   "id": "312d640d",
   "metadata": {},
   "source": [
    "Guardamos los archivos "
   ]
  },
  {
   "cell_type": "code",
   "execution_count": null,
   "id": "ee78cdac",
   "metadata": {},
   "outputs": [],
   "source": [
    "a25_01.to_csv('C:\\\\edu\\\\Investigación\\\\Replicación\\\\datos\\\\final\\\\2001\\\\a25_00.csv')\n",
    "a50_01.to_csv('C:\\\\edu\\\\Investigación\\\\Replicación\\\\datos\\\\final\\\\2001\\\\a50_00.csv')\n",
    "a75_01.to_csv('C:\\\\edu\\\\Investigación\\\\Replicación\\\\datos\\\\final\\\\2001\\\\a75_00.csv')\n",
    "fgt0_01.to_csv('C:\\\\edu\\\\Investigación\\\\Replicación\\\\datos\\\\final\\\\2001\\\\fgt0_00.csv')\n",
    "fgt1_01.to_csv('C:\\\\edu\\\\Investigación\\\\Replicación\\\\datos\\\\final\\\\2001\\\\fgt1_00.csv')\n",
    "fgt2_01.to_csv('C:\\\\edu\\\\Investigación\\\\Replicación\\\\datos\\\\final\\\\2001\\\\fgt2_00.csv')\n",
    "ynr_01.to_csv('C:\\\\edu\\\\Investigación\\\\Replicación\\\\datos\\\\final\\\\2001\\\\ynr_00.csv')"
   ]
  },
  {
   "cell_type": "code",
   "execution_count": null,
   "id": "7606d545",
   "metadata": {},
   "outputs": [],
   "source": [
    "ynr_01"
   ]
  }
 ],
 "metadata": {
  "kernelspec": {
   "display_name": "Python 3 (ipykernel)",
   "language": "python",
   "name": "python3"
  },
  "language_info": {
   "codemirror_mode": {
    "name": "ipython",
    "version": 3
   },
   "file_extension": ".py",
   "mimetype": "text/x-python",
   "name": "python",
   "nbconvert_exporter": "python",
   "pygments_lexer": "ipython3",
   "version": "3.10.6"
  }
 },
 "nbformat": 4,
 "nbformat_minor": 5
}
