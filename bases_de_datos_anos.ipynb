{
 "cells": [
  {
   "cell_type": "code",
   "execution_count": 169,
   "metadata": {},
   "outputs": [],
   "source": [
    "import numpy as np\n",
    "import pandas as pd\n",
    "import matplotlib.pyplot as plt"
   ]
  },
  {
   "cell_type": "markdown",
   "metadata": {},
   "source": [
    "Este script toma las bases de datos de cada año y genera las bases finales juntando resultados previos, es importante reemplazar el año en todo el script, se hizo de esta manera para evitar tener demasiados scripts"
   ]
  },
  {
   "cell_type": "markdown",
   "metadata": {},
   "source": [
    "Escoger el año"
   ]
  },
  {
   "cell_type": "code",
   "execution_count": 170,
   "metadata": {},
   "outputs": [],
   "source": [
    "chunk_size = 10000 \n",
    "chunks = pd.read_csv(r'microdados\\datazoom\\pmenova\\2015_dz.csv', chunksize=chunk_size)\n",
    "\n",
    "all_chunks = []\n",
    "\n",
    "for chunk in chunks:\n",
    "    all_chunks.append(chunk)\n",
    "\n",
    "ano = pd.concat(all_chunks, ignore_index=True)"
   ]
  },
  {
   "cell_type": "code",
   "execution_count": 171,
   "metadata": {},
   "outputs": [],
   "source": [
    "#ano = pd.read_csv(r'microdados\\datazoom\\pmenova\\2015_dz.csv')"
   ]
  },
  {
   "cell_type": "markdown",
   "metadata": {},
   "source": [
    "### Equivalent Income"
   ]
  },
  {
   "cell_type": "markdown",
   "metadata": {},
   "source": [
    "Dividimos la base en meses"
   ]
  },
  {
   "cell_type": "code",
   "execution_count": 172,
   "metadata": {},
   "outputs": [],
   "source": [
    "b2015_1 = ano.loc[ano['v070'] == 1]\n",
    "b2015_2 = ano.loc[ano['v070'] == 2]\n",
    "b2015_3 = ano.loc[ano['v070'] == 3]\n",
    "b2015_4 = ano.loc[ano['v070'] == 4]\n",
    "b2015_5 = ano.loc[ano['v070'] == 5]\n",
    "b2015_6 = ano.loc[ano['v070'] == 6]\n",
    "b2015_7 = ano.loc[ano['v070'] == 7]\n",
    "b2015_8 = ano.loc[ano['v070'] == 8]\n",
    "b2015_9 = ano.loc[ano['v070'] == 9]\n",
    "b2015_10 = ano.loc[ano['v070'] == 10]\n",
    "b2015_11 = ano.loc[ano['v070'] == 11]\n",
    "b2015_12 = ano.loc[ano['v070'] == 12]"
   ]
  },
  {
   "cell_type": "markdown",
   "metadata": {},
   "source": [
    "Sumamos los ingresos por hogares, Los hogares son todas las observaciones únicas de v050 dentro de cada v040 "
   ]
  },
  {
   "cell_type": "code",
   "execution_count": 173,
   "metadata": {},
   "outputs": [
    {
     "name": "stderr",
     "output_type": "stream",
     "text": [
      "C:\\Users\\OscarJaramillo\\AppData\\Local\\Temp\\ipykernel_15460\\1706337067.py:1: SettingWithCopyWarning: \n",
      "A value is trying to be set on a copy of a slice from a DataFrame.\n",
      "Try using .loc[row_indexer,col_indexer] = value instead\n",
      "\n",
      "See the caveats in the documentation: https://pandas.pydata.org/pandas-docs/stable/user_guide/indexing.html#returning-a-view-versus-a-copy\n",
      "  b2015_1['ingr_hogar'] = b2015_1.groupby(['v040','v050'])['vD26'].transform('sum')\n",
      "C:\\Users\\OscarJaramillo\\AppData\\Local\\Temp\\ipykernel_15460\\1706337067.py:2: SettingWithCopyWarning: \n",
      "A value is trying to be set on a copy of a slice from a DataFrame.\n",
      "Try using .loc[row_indexer,col_indexer] = value instead\n",
      "\n",
      "See the caveats in the documentation: https://pandas.pydata.org/pandas-docs/stable/user_guide/indexing.html#returning-a-view-versus-a-copy\n",
      "  b2015_2['ingr_hogar'] = b2015_2.groupby(['v040','v050'])['vD26'].transform('sum')\n",
      "C:\\Users\\OscarJaramillo\\AppData\\Local\\Temp\\ipykernel_15460\\1706337067.py:3: SettingWithCopyWarning: \n",
      "A value is trying to be set on a copy of a slice from a DataFrame.\n",
      "Try using .loc[row_indexer,col_indexer] = value instead\n",
      "\n",
      "See the caveats in the documentation: https://pandas.pydata.org/pandas-docs/stable/user_guide/indexing.html#returning-a-view-versus-a-copy\n",
      "  b2015_3['ingr_hogar'] = b2015_3.groupby(['v040','v050'])['vD26'].transform('sum')\n",
      "C:\\Users\\OscarJaramillo\\AppData\\Local\\Temp\\ipykernel_15460\\1706337067.py:4: SettingWithCopyWarning: \n",
      "A value is trying to be set on a copy of a slice from a DataFrame.\n",
      "Try using .loc[row_indexer,col_indexer] = value instead\n",
      "\n",
      "See the caveats in the documentation: https://pandas.pydata.org/pandas-docs/stable/user_guide/indexing.html#returning-a-view-versus-a-copy\n",
      "  b2015_4['ingr_hogar'] = b2015_4.groupby(['v040','v050'])['vD26'].transform('sum')\n",
      "C:\\Users\\OscarJaramillo\\AppData\\Local\\Temp\\ipykernel_15460\\1706337067.py:5: SettingWithCopyWarning: \n",
      "A value is trying to be set on a copy of a slice from a DataFrame.\n",
      "Try using .loc[row_indexer,col_indexer] = value instead\n",
      "\n",
      "See the caveats in the documentation: https://pandas.pydata.org/pandas-docs/stable/user_guide/indexing.html#returning-a-view-versus-a-copy\n",
      "  b2015_5['ingr_hogar'] = b2015_5.groupby(['v040','v050'])['vD26'].transform('sum')\n",
      "C:\\Users\\OscarJaramillo\\AppData\\Local\\Temp\\ipykernel_15460\\1706337067.py:6: SettingWithCopyWarning: \n",
      "A value is trying to be set on a copy of a slice from a DataFrame.\n",
      "Try using .loc[row_indexer,col_indexer] = value instead\n",
      "\n",
      "See the caveats in the documentation: https://pandas.pydata.org/pandas-docs/stable/user_guide/indexing.html#returning-a-view-versus-a-copy\n",
      "  b2015_6['ingr_hogar'] = b2015_6.groupby(['v040','v050'])['vD26'].transform('sum')\n",
      "C:\\Users\\OscarJaramillo\\AppData\\Local\\Temp\\ipykernel_15460\\1706337067.py:7: SettingWithCopyWarning: \n",
      "A value is trying to be set on a copy of a slice from a DataFrame.\n",
      "Try using .loc[row_indexer,col_indexer] = value instead\n",
      "\n",
      "See the caveats in the documentation: https://pandas.pydata.org/pandas-docs/stable/user_guide/indexing.html#returning-a-view-versus-a-copy\n",
      "  b2015_7['ingr_hogar'] = b2015_7.groupby(['v040','v050'])['vD26'].transform('sum')\n",
      "C:\\Users\\OscarJaramillo\\AppData\\Local\\Temp\\ipykernel_15460\\1706337067.py:8: SettingWithCopyWarning: \n",
      "A value is trying to be set on a copy of a slice from a DataFrame.\n",
      "Try using .loc[row_indexer,col_indexer] = value instead\n",
      "\n",
      "See the caveats in the documentation: https://pandas.pydata.org/pandas-docs/stable/user_guide/indexing.html#returning-a-view-versus-a-copy\n",
      "  b2015_8['ingr_hogar'] = b2015_8.groupby(['v040','v050'])['vD26'].transform('sum')\n",
      "C:\\Users\\OscarJaramillo\\AppData\\Local\\Temp\\ipykernel_15460\\1706337067.py:9: SettingWithCopyWarning: \n",
      "A value is trying to be set on a copy of a slice from a DataFrame.\n",
      "Try using .loc[row_indexer,col_indexer] = value instead\n",
      "\n",
      "See the caveats in the documentation: https://pandas.pydata.org/pandas-docs/stable/user_guide/indexing.html#returning-a-view-versus-a-copy\n",
      "  b2015_9['ingr_hogar'] = b2015_9.groupby(['v040','v050'])['vD26'].transform('sum')\n",
      "C:\\Users\\OscarJaramillo\\AppData\\Local\\Temp\\ipykernel_15460\\1706337067.py:10: SettingWithCopyWarning: \n",
      "A value is trying to be set on a copy of a slice from a DataFrame.\n",
      "Try using .loc[row_indexer,col_indexer] = value instead\n",
      "\n",
      "See the caveats in the documentation: https://pandas.pydata.org/pandas-docs/stable/user_guide/indexing.html#returning-a-view-versus-a-copy\n",
      "  b2015_10['ingr_hogar'] = b2015_10.groupby(['v040','v050'])['vD26'].transform('sum')\n",
      "C:\\Users\\OscarJaramillo\\AppData\\Local\\Temp\\ipykernel_15460\\1706337067.py:11: SettingWithCopyWarning: \n",
      "A value is trying to be set on a copy of a slice from a DataFrame.\n",
      "Try using .loc[row_indexer,col_indexer] = value instead\n",
      "\n",
      "See the caveats in the documentation: https://pandas.pydata.org/pandas-docs/stable/user_guide/indexing.html#returning-a-view-versus-a-copy\n",
      "  b2015_11['ingr_hogar'] = b2015_11.groupby(['v040','v050'])['vD26'].transform('sum')\n",
      "C:\\Users\\OscarJaramillo\\AppData\\Local\\Temp\\ipykernel_15460\\1706337067.py:12: SettingWithCopyWarning: \n",
      "A value is trying to be set on a copy of a slice from a DataFrame.\n",
      "Try using .loc[row_indexer,col_indexer] = value instead\n",
      "\n",
      "See the caveats in the documentation: https://pandas.pydata.org/pandas-docs/stable/user_guide/indexing.html#returning-a-view-versus-a-copy\n",
      "  b2015_12['ingr_hogar'] = b2015_12.groupby(['v040','v050'])['vD26'].transform('sum')\n"
     ]
    }
   ],
   "source": [
    "b2015_1['ingr_hogar'] = b2015_1.groupby(['v040','v050'])['vD26'].transform('sum')\n",
    "b2015_2['ingr_hogar'] = b2015_2.groupby(['v040','v050'])['vD26'].transform('sum')\n",
    "b2015_3['ingr_hogar'] = b2015_3.groupby(['v040','v050'])['vD26'].transform('sum')\n",
    "b2015_4['ingr_hogar'] = b2015_4.groupby(['v040','v050'])['vD26'].transform('sum')\n",
    "b2015_5['ingr_hogar'] = b2015_5.groupby(['v040','v050'])['vD26'].transform('sum')\n",
    "b2015_6['ingr_hogar'] = b2015_6.groupby(['v040','v050'])['vD26'].transform('sum')\n",
    "b2015_7['ingr_hogar'] = b2015_7.groupby(['v040','v050'])['vD26'].transform('sum')\n",
    "b2015_8['ingr_hogar'] = b2015_8.groupby(['v040','v050'])['vD26'].transform('sum')\n",
    "b2015_9['ingr_hogar'] = b2015_9.groupby(['v040','v050'])['vD26'].transform('sum')\n",
    "b2015_10['ingr_hogar'] = b2015_10.groupby(['v040','v050'])['vD26'].transform('sum')\n",
    "b2015_11['ingr_hogar'] = b2015_11.groupby(['v040','v050'])['vD26'].transform('sum')\n",
    "b2015_12['ingr_hogar'] = b2015_12.groupby(['v040','v050'])['vD26'].transform('sum')"
   ]
  },
  {
   "cell_type": "markdown",
   "metadata": {},
   "source": [
    "Calculamos el número de niños como la diferencia de moradores del hogar menos moradores de menos de 10 años"
   ]
  },
  {
   "cell_type": "code",
   "execution_count": 174,
   "metadata": {},
   "outputs": [
    {
     "name": "stderr",
     "output_type": "stream",
     "text": [
      "C:\\Users\\OscarJaramillo\\AppData\\Local\\Temp\\ipykernel_15460\\1113848219.py:1: SettingWithCopyWarning: \n",
      "A value is trying to be set on a copy of a slice from a DataFrame.\n",
      "Try using .loc[row_indexer,col_indexer] = value instead\n",
      "\n",
      "See the caveats in the documentation: https://pandas.pydata.org/pandas-docs/stable/user_guide/indexing.html#returning-a-view-versus-a-copy\n",
      "  b2015_1['ninos'] = b2015_1['v209'] - b2015_1['v210']\n",
      "C:\\Users\\OscarJaramillo\\AppData\\Local\\Temp\\ipykernel_15460\\1113848219.py:2: SettingWithCopyWarning: \n",
      "A value is trying to be set on a copy of a slice from a DataFrame.\n",
      "Try using .loc[row_indexer,col_indexer] = value instead\n",
      "\n",
      "See the caveats in the documentation: https://pandas.pydata.org/pandas-docs/stable/user_guide/indexing.html#returning-a-view-versus-a-copy\n",
      "  b2015_2['ninos'] = b2015_2['v209'] - b2015_2['v210']\n",
      "C:\\Users\\OscarJaramillo\\AppData\\Local\\Temp\\ipykernel_15460\\1113848219.py:3: SettingWithCopyWarning: \n",
      "A value is trying to be set on a copy of a slice from a DataFrame.\n",
      "Try using .loc[row_indexer,col_indexer] = value instead\n",
      "\n",
      "See the caveats in the documentation: https://pandas.pydata.org/pandas-docs/stable/user_guide/indexing.html#returning-a-view-versus-a-copy\n",
      "  b2015_3['ninos'] = b2015_3['v209'] - b2015_3['v210']\n",
      "C:\\Users\\OscarJaramillo\\AppData\\Local\\Temp\\ipykernel_15460\\1113848219.py:4: SettingWithCopyWarning: \n",
      "A value is trying to be set on a copy of a slice from a DataFrame.\n",
      "Try using .loc[row_indexer,col_indexer] = value instead\n",
      "\n",
      "See the caveats in the documentation: https://pandas.pydata.org/pandas-docs/stable/user_guide/indexing.html#returning-a-view-versus-a-copy\n",
      "  b2015_4['ninos'] = b2015_4['v209'] - b2015_4['v210']\n",
      "C:\\Users\\OscarJaramillo\\AppData\\Local\\Temp\\ipykernel_15460\\1113848219.py:5: SettingWithCopyWarning: \n",
      "A value is trying to be set on a copy of a slice from a DataFrame.\n",
      "Try using .loc[row_indexer,col_indexer] = value instead\n",
      "\n",
      "See the caveats in the documentation: https://pandas.pydata.org/pandas-docs/stable/user_guide/indexing.html#returning-a-view-versus-a-copy\n",
      "  b2015_5['ninos'] = b2015_5['v209'] - b2015_5['v210']\n",
      "C:\\Users\\OscarJaramillo\\AppData\\Local\\Temp\\ipykernel_15460\\1113848219.py:6: SettingWithCopyWarning: \n",
      "A value is trying to be set on a copy of a slice from a DataFrame.\n",
      "Try using .loc[row_indexer,col_indexer] = value instead\n",
      "\n",
      "See the caveats in the documentation: https://pandas.pydata.org/pandas-docs/stable/user_guide/indexing.html#returning-a-view-versus-a-copy\n",
      "  b2015_6['ninos'] = b2015_6['v209'] - b2015_6['v210']\n",
      "C:\\Users\\OscarJaramillo\\AppData\\Local\\Temp\\ipykernel_15460\\1113848219.py:7: SettingWithCopyWarning: \n",
      "A value is trying to be set on a copy of a slice from a DataFrame.\n",
      "Try using .loc[row_indexer,col_indexer] = value instead\n",
      "\n",
      "See the caveats in the documentation: https://pandas.pydata.org/pandas-docs/stable/user_guide/indexing.html#returning-a-view-versus-a-copy\n",
      "  b2015_7['ninos'] = b2015_7['v209'] - b2015_7['v210']\n",
      "C:\\Users\\OscarJaramillo\\AppData\\Local\\Temp\\ipykernel_15460\\1113848219.py:8: SettingWithCopyWarning: \n",
      "A value is trying to be set on a copy of a slice from a DataFrame.\n",
      "Try using .loc[row_indexer,col_indexer] = value instead\n",
      "\n",
      "See the caveats in the documentation: https://pandas.pydata.org/pandas-docs/stable/user_guide/indexing.html#returning-a-view-versus-a-copy\n",
      "  b2015_8['ninos'] = b2015_8['v209'] - b2015_8['v210']\n",
      "C:\\Users\\OscarJaramillo\\AppData\\Local\\Temp\\ipykernel_15460\\1113848219.py:9: SettingWithCopyWarning: \n",
      "A value is trying to be set on a copy of a slice from a DataFrame.\n",
      "Try using .loc[row_indexer,col_indexer] = value instead\n",
      "\n",
      "See the caveats in the documentation: https://pandas.pydata.org/pandas-docs/stable/user_guide/indexing.html#returning-a-view-versus-a-copy\n",
      "  b2015_9['ninos'] = b2015_9['v209'] - b2015_9['v210']\n",
      "C:\\Users\\OscarJaramillo\\AppData\\Local\\Temp\\ipykernel_15460\\1113848219.py:10: SettingWithCopyWarning: \n",
      "A value is trying to be set on a copy of a slice from a DataFrame.\n",
      "Try using .loc[row_indexer,col_indexer] = value instead\n",
      "\n",
      "See the caveats in the documentation: https://pandas.pydata.org/pandas-docs/stable/user_guide/indexing.html#returning-a-view-versus-a-copy\n",
      "  b2015_10['ninos'] = b2015_10['v209'] - b2015_10['v210']\n",
      "C:\\Users\\OscarJaramillo\\AppData\\Local\\Temp\\ipykernel_15460\\1113848219.py:11: SettingWithCopyWarning: \n",
      "A value is trying to be set on a copy of a slice from a DataFrame.\n",
      "Try using .loc[row_indexer,col_indexer] = value instead\n",
      "\n",
      "See the caveats in the documentation: https://pandas.pydata.org/pandas-docs/stable/user_guide/indexing.html#returning-a-view-versus-a-copy\n",
      "  b2015_11['ninos'] = b2015_11['v209'] - b2015_11['v210']\n",
      "C:\\Users\\OscarJaramillo\\AppData\\Local\\Temp\\ipykernel_15460\\1113848219.py:12: SettingWithCopyWarning: \n",
      "A value is trying to be set on a copy of a slice from a DataFrame.\n",
      "Try using .loc[row_indexer,col_indexer] = value instead\n",
      "\n",
      "See the caveats in the documentation: https://pandas.pydata.org/pandas-docs/stable/user_guide/indexing.html#returning-a-view-versus-a-copy\n",
      "  b2015_12['ninos'] = b2015_12['v209'] - b2015_12['v210']\n"
     ]
    }
   ],
   "source": [
    "b2015_1['ninos'] = b2015_1['v209'] - b2015_1['v210']\n",
    "b2015_2['ninos'] = b2015_2['v209'] - b2015_2['v210']\n",
    "b2015_3['ninos'] = b2015_3['v209'] - b2015_3['v210']\n",
    "b2015_4['ninos'] = b2015_4['v209'] - b2015_4['v210']\n",
    "b2015_5['ninos'] = b2015_5['v209'] - b2015_5['v210']\n",
    "b2015_6['ninos'] = b2015_6['v209'] - b2015_6['v210']\n",
    "b2015_7['ninos'] = b2015_7['v209'] - b2015_7['v210']\n",
    "b2015_8['ninos'] = b2015_8['v209'] - b2015_8['v210']\n",
    "b2015_9['ninos'] = b2015_9['v209'] - b2015_9['v210']\n",
    "b2015_10['ninos'] = b2015_10['v209'] - b2015_10['v210']\n",
    "b2015_11['ninos'] = b2015_11['v209'] - b2015_11['v210']\n",
    "b2015_12['ninos'] = b2015_12['v209'] - b2015_12['v210']"
   ]
  },
  {
   "cell_type": "markdown",
   "metadata": {},
   "source": [
    "Calculamos ingreso individual con la fórmula del autor dividiendo el ingreso del hogar para la escala $(A_{i}+kC_{i})^{s}$"
   ]
  },
  {
   "cell_type": "code",
   "execution_count": 175,
   "metadata": {},
   "outputs": [],
   "source": [
    "k = 0.4\n",
    "s = 0.9"
   ]
  },
  {
   "cell_type": "code",
   "execution_count": 176,
   "metadata": {},
   "outputs": [
    {
     "name": "stderr",
     "output_type": "stream",
     "text": [
      "C:\\Users\\OscarJaramillo\\AppData\\Local\\Temp\\ipykernel_15460\\3547059969.py:3: SettingWithCopyWarning: \n",
      "A value is trying to be set on a copy of a slice from a DataFrame.\n",
      "Try using .loc[row_indexer,col_indexer] = value instead\n",
      "\n",
      "See the caveats in the documentation: https://pandas.pydata.org/pandas-docs/stable/user_guide/indexing.html#returning-a-view-versus-a-copy\n",
      "  b_df['ingr'] = b_df['ingr_hogar'] / (b_df['v210'] + k * b_df['ninos'])**s\n",
      "C:\\Users\\OscarJaramillo\\AppData\\Local\\Temp\\ipykernel_15460\\3547059969.py:3: SettingWithCopyWarning: \n",
      "A value is trying to be set on a copy of a slice from a DataFrame.\n",
      "Try using .loc[row_indexer,col_indexer] = value instead\n",
      "\n",
      "See the caveats in the documentation: https://pandas.pydata.org/pandas-docs/stable/user_guide/indexing.html#returning-a-view-versus-a-copy\n",
      "  b_df['ingr'] = b_df['ingr_hogar'] / (b_df['v210'] + k * b_df['ninos'])**s\n",
      "C:\\Users\\OscarJaramillo\\AppData\\Local\\Temp\\ipykernel_15460\\3547059969.py:3: SettingWithCopyWarning: \n",
      "A value is trying to be set on a copy of a slice from a DataFrame.\n",
      "Try using .loc[row_indexer,col_indexer] = value instead\n",
      "\n",
      "See the caveats in the documentation: https://pandas.pydata.org/pandas-docs/stable/user_guide/indexing.html#returning-a-view-versus-a-copy\n",
      "  b_df['ingr'] = b_df['ingr_hogar'] / (b_df['v210'] + k * b_df['ninos'])**s\n",
      "C:\\Users\\OscarJaramillo\\AppData\\Local\\Temp\\ipykernel_15460\\3547059969.py:3: SettingWithCopyWarning: \n",
      "A value is trying to be set on a copy of a slice from a DataFrame.\n",
      "Try using .loc[row_indexer,col_indexer] = value instead\n",
      "\n",
      "See the caveats in the documentation: https://pandas.pydata.org/pandas-docs/stable/user_guide/indexing.html#returning-a-view-versus-a-copy\n",
      "  b_df['ingr'] = b_df['ingr_hogar'] / (b_df['v210'] + k * b_df['ninos'])**s\n",
      "C:\\Users\\OscarJaramillo\\AppData\\Local\\Temp\\ipykernel_15460\\3547059969.py:3: SettingWithCopyWarning: \n",
      "A value is trying to be set on a copy of a slice from a DataFrame.\n",
      "Try using .loc[row_indexer,col_indexer] = value instead\n",
      "\n",
      "See the caveats in the documentation: https://pandas.pydata.org/pandas-docs/stable/user_guide/indexing.html#returning-a-view-versus-a-copy\n",
      "  b_df['ingr'] = b_df['ingr_hogar'] / (b_df['v210'] + k * b_df['ninos'])**s\n",
      "C:\\Users\\OscarJaramillo\\AppData\\Local\\Temp\\ipykernel_15460\\3547059969.py:3: SettingWithCopyWarning: \n",
      "A value is trying to be set on a copy of a slice from a DataFrame.\n",
      "Try using .loc[row_indexer,col_indexer] = value instead\n",
      "\n",
      "See the caveats in the documentation: https://pandas.pydata.org/pandas-docs/stable/user_guide/indexing.html#returning-a-view-versus-a-copy\n",
      "  b_df['ingr'] = b_df['ingr_hogar'] / (b_df['v210'] + k * b_df['ninos'])**s\n",
      "C:\\Users\\OscarJaramillo\\AppData\\Local\\Temp\\ipykernel_15460\\3547059969.py:3: SettingWithCopyWarning: \n",
      "A value is trying to be set on a copy of a slice from a DataFrame.\n",
      "Try using .loc[row_indexer,col_indexer] = value instead\n",
      "\n",
      "See the caveats in the documentation: https://pandas.pydata.org/pandas-docs/stable/user_guide/indexing.html#returning-a-view-versus-a-copy\n",
      "  b_df['ingr'] = b_df['ingr_hogar'] / (b_df['v210'] + k * b_df['ninos'])**s\n",
      "C:\\Users\\OscarJaramillo\\AppData\\Local\\Temp\\ipykernel_15460\\3547059969.py:3: SettingWithCopyWarning: \n",
      "A value is trying to be set on a copy of a slice from a DataFrame.\n",
      "Try using .loc[row_indexer,col_indexer] = value instead\n",
      "\n",
      "See the caveats in the documentation: https://pandas.pydata.org/pandas-docs/stable/user_guide/indexing.html#returning-a-view-versus-a-copy\n",
      "  b_df['ingr'] = b_df['ingr_hogar'] / (b_df['v210'] + k * b_df['ninos'])**s\n",
      "C:\\Users\\OscarJaramillo\\AppData\\Local\\Temp\\ipykernel_15460\\3547059969.py:3: SettingWithCopyWarning: \n",
      "A value is trying to be set on a copy of a slice from a DataFrame.\n",
      "Try using .loc[row_indexer,col_indexer] = value instead\n",
      "\n",
      "See the caveats in the documentation: https://pandas.pydata.org/pandas-docs/stable/user_guide/indexing.html#returning-a-view-versus-a-copy\n",
      "  b_df['ingr'] = b_df['ingr_hogar'] / (b_df['v210'] + k * b_df['ninos'])**s\n",
      "C:\\Users\\OscarJaramillo\\AppData\\Local\\Temp\\ipykernel_15460\\3547059969.py:3: SettingWithCopyWarning: \n",
      "A value is trying to be set on a copy of a slice from a DataFrame.\n",
      "Try using .loc[row_indexer,col_indexer] = value instead\n",
      "\n",
      "See the caveats in the documentation: https://pandas.pydata.org/pandas-docs/stable/user_guide/indexing.html#returning-a-view-versus-a-copy\n",
      "  b_df['ingr'] = b_df['ingr_hogar'] / (b_df['v210'] + k * b_df['ninos'])**s\n",
      "C:\\Users\\OscarJaramillo\\AppData\\Local\\Temp\\ipykernel_15460\\3547059969.py:3: SettingWithCopyWarning: \n",
      "A value is trying to be set on a copy of a slice from a DataFrame.\n",
      "Try using .loc[row_indexer,col_indexer] = value instead\n",
      "\n",
      "See the caveats in the documentation: https://pandas.pydata.org/pandas-docs/stable/user_guide/indexing.html#returning-a-view-versus-a-copy\n",
      "  b_df['ingr'] = b_df['ingr_hogar'] / (b_df['v210'] + k * b_df['ninos'])**s\n",
      "C:\\Users\\OscarJaramillo\\AppData\\Local\\Temp\\ipykernel_15460\\3547059969.py:3: SettingWithCopyWarning: \n",
      "A value is trying to be set on a copy of a slice from a DataFrame.\n",
      "Try using .loc[row_indexer,col_indexer] = value instead\n",
      "\n",
      "See the caveats in the documentation: https://pandas.pydata.org/pandas-docs/stable/user_guide/indexing.html#returning-a-view-versus-a-copy\n",
      "  b_df['ingr'] = b_df['ingr_hogar'] / (b_df['v210'] + k * b_df['ninos'])**s\n"
     ]
    }
   ],
   "source": [
    "for i in range(1, 13):\n",
    "    b_df = globals()[f'b2015_{i}']\n",
    "    b_df['ingr'] = b_df['ingr_hogar'] / (b_df['v210'] + k * b_df['ninos'])**s"
   ]
  },
  {
   "cell_type": "code",
   "execution_count": 177,
   "metadata": {},
   "outputs": [
    {
     "name": "stderr",
     "output_type": "stream",
     "text": [
      "C:\\Users\\OscarJaramillo\\AppData\\Local\\Temp\\ipykernel_15460\\3304974872.py:3: SettingWithCopyWarning: \n",
      "A value is trying to be set on a copy of a slice from a DataFrame.\n",
      "Try using .loc[row_indexer,col_indexer] = value instead\n",
      "\n",
      "See the caveats in the documentation: https://pandas.pydata.org/pandas-docs/stable/user_guide/indexing.html#returning-a-view-versus-a-copy\n",
      "  b_df['ingr_ind'] = b_df['ingr'] / b_df['v209']\n",
      "C:\\Users\\OscarJaramillo\\AppData\\Local\\Temp\\ipykernel_15460\\3304974872.py:3: SettingWithCopyWarning: \n",
      "A value is trying to be set on a copy of a slice from a DataFrame.\n",
      "Try using .loc[row_indexer,col_indexer] = value instead\n",
      "\n",
      "See the caveats in the documentation: https://pandas.pydata.org/pandas-docs/stable/user_guide/indexing.html#returning-a-view-versus-a-copy\n",
      "  b_df['ingr_ind'] = b_df['ingr'] / b_df['v209']\n",
      "C:\\Users\\OscarJaramillo\\AppData\\Local\\Temp\\ipykernel_15460\\3304974872.py:3: SettingWithCopyWarning: \n",
      "A value is trying to be set on a copy of a slice from a DataFrame.\n",
      "Try using .loc[row_indexer,col_indexer] = value instead\n",
      "\n",
      "See the caveats in the documentation: https://pandas.pydata.org/pandas-docs/stable/user_guide/indexing.html#returning-a-view-versus-a-copy\n",
      "  b_df['ingr_ind'] = b_df['ingr'] / b_df['v209']\n",
      "C:\\Users\\OscarJaramillo\\AppData\\Local\\Temp\\ipykernel_15460\\3304974872.py:3: SettingWithCopyWarning: \n",
      "A value is trying to be set on a copy of a slice from a DataFrame.\n",
      "Try using .loc[row_indexer,col_indexer] = value instead\n",
      "\n",
      "See the caveats in the documentation: https://pandas.pydata.org/pandas-docs/stable/user_guide/indexing.html#returning-a-view-versus-a-copy\n",
      "  b_df['ingr_ind'] = b_df['ingr'] / b_df['v209']\n",
      "C:\\Users\\OscarJaramillo\\AppData\\Local\\Temp\\ipykernel_15460\\3304974872.py:3: SettingWithCopyWarning: \n",
      "A value is trying to be set on a copy of a slice from a DataFrame.\n",
      "Try using .loc[row_indexer,col_indexer] = value instead\n",
      "\n",
      "See the caveats in the documentation: https://pandas.pydata.org/pandas-docs/stable/user_guide/indexing.html#returning-a-view-versus-a-copy\n",
      "  b_df['ingr_ind'] = b_df['ingr'] / b_df['v209']\n",
      "C:\\Users\\OscarJaramillo\\AppData\\Local\\Temp\\ipykernel_15460\\3304974872.py:3: SettingWithCopyWarning: \n",
      "A value is trying to be set on a copy of a slice from a DataFrame.\n",
      "Try using .loc[row_indexer,col_indexer] = value instead\n",
      "\n",
      "See the caveats in the documentation: https://pandas.pydata.org/pandas-docs/stable/user_guide/indexing.html#returning-a-view-versus-a-copy\n",
      "  b_df['ingr_ind'] = b_df['ingr'] / b_df['v209']\n",
      "C:\\Users\\OscarJaramillo\\AppData\\Local\\Temp\\ipykernel_15460\\3304974872.py:3: SettingWithCopyWarning: \n",
      "A value is trying to be set on a copy of a slice from a DataFrame.\n",
      "Try using .loc[row_indexer,col_indexer] = value instead\n",
      "\n",
      "See the caveats in the documentation: https://pandas.pydata.org/pandas-docs/stable/user_guide/indexing.html#returning-a-view-versus-a-copy\n",
      "  b_df['ingr_ind'] = b_df['ingr'] / b_df['v209']\n",
      "C:\\Users\\OscarJaramillo\\AppData\\Local\\Temp\\ipykernel_15460\\3304974872.py:3: SettingWithCopyWarning: \n",
      "A value is trying to be set on a copy of a slice from a DataFrame.\n",
      "Try using .loc[row_indexer,col_indexer] = value instead\n",
      "\n",
      "See the caveats in the documentation: https://pandas.pydata.org/pandas-docs/stable/user_guide/indexing.html#returning-a-view-versus-a-copy\n",
      "  b_df['ingr_ind'] = b_df['ingr'] / b_df['v209']\n",
      "C:\\Users\\OscarJaramillo\\AppData\\Local\\Temp\\ipykernel_15460\\3304974872.py:3: SettingWithCopyWarning: \n",
      "A value is trying to be set on a copy of a slice from a DataFrame.\n",
      "Try using .loc[row_indexer,col_indexer] = value instead\n",
      "\n",
      "See the caveats in the documentation: https://pandas.pydata.org/pandas-docs/stable/user_guide/indexing.html#returning-a-view-versus-a-copy\n",
      "  b_df['ingr_ind'] = b_df['ingr'] / b_df['v209']\n",
      "C:\\Users\\OscarJaramillo\\AppData\\Local\\Temp\\ipykernel_15460\\3304974872.py:3: SettingWithCopyWarning: \n",
      "A value is trying to be set on a copy of a slice from a DataFrame.\n",
      "Try using .loc[row_indexer,col_indexer] = value instead\n",
      "\n",
      "See the caveats in the documentation: https://pandas.pydata.org/pandas-docs/stable/user_guide/indexing.html#returning-a-view-versus-a-copy\n",
      "  b_df['ingr_ind'] = b_df['ingr'] / b_df['v209']\n",
      "C:\\Users\\OscarJaramillo\\AppData\\Local\\Temp\\ipykernel_15460\\3304974872.py:3: SettingWithCopyWarning: \n",
      "A value is trying to be set on a copy of a slice from a DataFrame.\n",
      "Try using .loc[row_indexer,col_indexer] = value instead\n",
      "\n",
      "See the caveats in the documentation: https://pandas.pydata.org/pandas-docs/stable/user_guide/indexing.html#returning-a-view-versus-a-copy\n",
      "  b_df['ingr_ind'] = b_df['ingr'] / b_df['v209']\n",
      "C:\\Users\\OscarJaramillo\\AppData\\Local\\Temp\\ipykernel_15460\\3304974872.py:3: SettingWithCopyWarning: \n",
      "A value is trying to be set on a copy of a slice from a DataFrame.\n",
      "Try using .loc[row_indexer,col_indexer] = value instead\n",
      "\n",
      "See the caveats in the documentation: https://pandas.pydata.org/pandas-docs/stable/user_guide/indexing.html#returning-a-view-versus-a-copy\n",
      "  b_df['ingr_ind'] = b_df['ingr'] / b_df['v209']\n"
     ]
    }
   ],
   "source": [
    "for i in range(1, 13):\n",
    "    b_df = globals()[f'b2015_{i}']\n",
    "    b_df['ingr_ind'] = b_df['ingr'] / b_df['v209']"
   ]
  },
  {
   "cell_type": "markdown",
   "metadata": {},
   "source": [
    "Deflactamos el ingreso"
   ]
  },
  {
   "cell_type": "code",
   "execution_count": 178,
   "metadata": {},
   "outputs": [],
   "source": [
    "defl = pd.read_csv('datos finales\\defl.csv')"
   ]
  },
  {
   "cell_type": "code",
   "execution_count": 179,
   "metadata": {},
   "outputs": [
    {
     "name": "stderr",
     "output_type": "stream",
     "text": [
      "C:\\Users\\OscarJaramillo\\AppData\\Local\\Temp\\ipykernel_15460\\3444182679.py:1: SettingWithCopyWarning: \n",
      "A value is trying to be set on a copy of a slice from a DataFrame.\n",
      "Try using .loc[row_indexer,col_indexer] = value instead\n",
      "\n",
      "See the caveats in the documentation: https://pandas.pydata.org/pandas-docs/stable/user_guide/indexing.html#returning-a-view-versus-a-copy\n",
      "  b2015_1['defl'] = defl['defl'][101]\n",
      "C:\\Users\\OscarJaramillo\\AppData\\Local\\Temp\\ipykernel_15460\\3444182679.py:2: SettingWithCopyWarning: \n",
      "A value is trying to be set on a copy of a slice from a DataFrame.\n",
      "Try using .loc[row_indexer,col_indexer] = value instead\n",
      "\n",
      "See the caveats in the documentation: https://pandas.pydata.org/pandas-docs/stable/user_guide/indexing.html#returning-a-view-versus-a-copy\n",
      "  b2015_2['defl'] = defl['defl'][102]\n",
      "C:\\Users\\OscarJaramillo\\AppData\\Local\\Temp\\ipykernel_15460\\3444182679.py:3: SettingWithCopyWarning: \n",
      "A value is trying to be set on a copy of a slice from a DataFrame.\n",
      "Try using .loc[row_indexer,col_indexer] = value instead\n",
      "\n",
      "See the caveats in the documentation: https://pandas.pydata.org/pandas-docs/stable/user_guide/indexing.html#returning-a-view-versus-a-copy\n",
      "  b2015_3['defl'] = defl['defl'][103]\n",
      "C:\\Users\\OscarJaramillo\\AppData\\Local\\Temp\\ipykernel_15460\\3444182679.py:4: SettingWithCopyWarning: \n",
      "A value is trying to be set on a copy of a slice from a DataFrame.\n",
      "Try using .loc[row_indexer,col_indexer] = value instead\n",
      "\n",
      "See the caveats in the documentation: https://pandas.pydata.org/pandas-docs/stable/user_guide/indexing.html#returning-a-view-versus-a-copy\n",
      "  b2015_4['defl'] = defl['defl'][104]\n",
      "C:\\Users\\OscarJaramillo\\AppData\\Local\\Temp\\ipykernel_15460\\3444182679.py:5: SettingWithCopyWarning: \n",
      "A value is trying to be set on a copy of a slice from a DataFrame.\n",
      "Try using .loc[row_indexer,col_indexer] = value instead\n",
      "\n",
      "See the caveats in the documentation: https://pandas.pydata.org/pandas-docs/stable/user_guide/indexing.html#returning-a-view-versus-a-copy\n",
      "  b2015_5['defl'] = defl['defl'][105]\n",
      "C:\\Users\\OscarJaramillo\\AppData\\Local\\Temp\\ipykernel_15460\\3444182679.py:6: SettingWithCopyWarning: \n",
      "A value is trying to be set on a copy of a slice from a DataFrame.\n",
      "Try using .loc[row_indexer,col_indexer] = value instead\n",
      "\n",
      "See the caveats in the documentation: https://pandas.pydata.org/pandas-docs/stable/user_guide/indexing.html#returning-a-view-versus-a-copy\n",
      "  b2015_6['defl'] = defl['defl'][106]\n",
      "C:\\Users\\OscarJaramillo\\AppData\\Local\\Temp\\ipykernel_15460\\3444182679.py:7: SettingWithCopyWarning: \n",
      "A value is trying to be set on a copy of a slice from a DataFrame.\n",
      "Try using .loc[row_indexer,col_indexer] = value instead\n",
      "\n",
      "See the caveats in the documentation: https://pandas.pydata.org/pandas-docs/stable/user_guide/indexing.html#returning-a-view-versus-a-copy\n",
      "  b2015_7['defl'] = defl['defl'][107]\n",
      "C:\\Users\\OscarJaramillo\\AppData\\Local\\Temp\\ipykernel_15460\\3444182679.py:8: SettingWithCopyWarning: \n",
      "A value is trying to be set on a copy of a slice from a DataFrame.\n",
      "Try using .loc[row_indexer,col_indexer] = value instead\n",
      "\n",
      "See the caveats in the documentation: https://pandas.pydata.org/pandas-docs/stable/user_guide/indexing.html#returning-a-view-versus-a-copy\n",
      "  b2015_8['defl'] = defl['defl'][108]\n",
      "C:\\Users\\OscarJaramillo\\AppData\\Local\\Temp\\ipykernel_15460\\3444182679.py:9: SettingWithCopyWarning: \n",
      "A value is trying to be set on a copy of a slice from a DataFrame.\n",
      "Try using .loc[row_indexer,col_indexer] = value instead\n",
      "\n",
      "See the caveats in the documentation: https://pandas.pydata.org/pandas-docs/stable/user_guide/indexing.html#returning-a-view-versus-a-copy\n",
      "  b2015_9['defl'] = defl['defl'][109]\n",
      "C:\\Users\\OscarJaramillo\\AppData\\Local\\Temp\\ipykernel_15460\\3444182679.py:10: SettingWithCopyWarning: \n",
      "A value is trying to be set on a copy of a slice from a DataFrame.\n",
      "Try using .loc[row_indexer,col_indexer] = value instead\n",
      "\n",
      "See the caveats in the documentation: https://pandas.pydata.org/pandas-docs/stable/user_guide/indexing.html#returning-a-view-versus-a-copy\n",
      "  b2015_10['defl'] = defl['defl'][110]\n",
      "C:\\Users\\OscarJaramillo\\AppData\\Local\\Temp\\ipykernel_15460\\3444182679.py:11: SettingWithCopyWarning: \n",
      "A value is trying to be set on a copy of a slice from a DataFrame.\n",
      "Try using .loc[row_indexer,col_indexer] = value instead\n",
      "\n",
      "See the caveats in the documentation: https://pandas.pydata.org/pandas-docs/stable/user_guide/indexing.html#returning-a-view-versus-a-copy\n",
      "  b2015_11['defl'] = defl['defl'][111]\n",
      "C:\\Users\\OscarJaramillo\\AppData\\Local\\Temp\\ipykernel_15460\\3444182679.py:12: SettingWithCopyWarning: \n",
      "A value is trying to be set on a copy of a slice from a DataFrame.\n",
      "Try using .loc[row_indexer,col_indexer] = value instead\n",
      "\n",
      "See the caveats in the documentation: https://pandas.pydata.org/pandas-docs/stable/user_guide/indexing.html#returning-a-view-versus-a-copy\n",
      "  b2015_12['defl'] = defl['defl'][112]\n"
     ]
    }
   ],
   "source": [
    "b2015_1['defl'] = defl['defl'][101]\n",
    "b2015_2['defl'] = defl['defl'][102]\n",
    "b2015_3['defl'] = defl['defl'][103]\n",
    "b2015_4['defl'] = defl['defl'][104]\n",
    "b2015_5['defl'] = defl['defl'][105]\n",
    "b2015_6['defl'] = defl['defl'][106]\n",
    "b2015_7['defl'] = defl['defl'][107]\n",
    "b2015_8['defl'] = defl['defl'][108]\n",
    "b2015_9['defl'] = defl['defl'][109]\n",
    "b2015_10['defl'] = defl['defl'][110]\n",
    "b2015_11['defl'] = defl['defl'][111]\n",
    "b2015_12['defl'] = defl['defl'][112]"
   ]
  },
  {
   "cell_type": "code",
   "execution_count": 180,
   "metadata": {},
   "outputs": [
    {
     "name": "stderr",
     "output_type": "stream",
     "text": [
      "C:\\Users\\OscarJaramillo\\AppData\\Local\\Temp\\ipykernel_15460\\3416971286.py:3: SettingWithCopyWarning: \n",
      "A value is trying to be set on a copy of a slice from a DataFrame.\n",
      "Try using .loc[row_indexer,col_indexer] = value instead\n",
      "\n",
      "See the caveats in the documentation: https://pandas.pydata.org/pandas-docs/stable/user_guide/indexing.html#returning-a-view-versus-a-copy\n",
      "  b_df['ingr_defl'] = b_df['ingr_ind'] / b_df['defl']\n",
      "C:\\Users\\OscarJaramillo\\AppData\\Local\\Temp\\ipykernel_15460\\3416971286.py:3: SettingWithCopyWarning: \n",
      "A value is trying to be set on a copy of a slice from a DataFrame.\n",
      "Try using .loc[row_indexer,col_indexer] = value instead\n",
      "\n",
      "See the caveats in the documentation: https://pandas.pydata.org/pandas-docs/stable/user_guide/indexing.html#returning-a-view-versus-a-copy\n",
      "  b_df['ingr_defl'] = b_df['ingr_ind'] / b_df['defl']\n",
      "C:\\Users\\OscarJaramillo\\AppData\\Local\\Temp\\ipykernel_15460\\3416971286.py:3: SettingWithCopyWarning: \n",
      "A value is trying to be set on a copy of a slice from a DataFrame.\n",
      "Try using .loc[row_indexer,col_indexer] = value instead\n",
      "\n",
      "See the caveats in the documentation: https://pandas.pydata.org/pandas-docs/stable/user_guide/indexing.html#returning-a-view-versus-a-copy\n",
      "  b_df['ingr_defl'] = b_df['ingr_ind'] / b_df['defl']\n",
      "C:\\Users\\OscarJaramillo\\AppData\\Local\\Temp\\ipykernel_15460\\3416971286.py:3: SettingWithCopyWarning: \n",
      "A value is trying to be set on a copy of a slice from a DataFrame.\n",
      "Try using .loc[row_indexer,col_indexer] = value instead\n",
      "\n",
      "See the caveats in the documentation: https://pandas.pydata.org/pandas-docs/stable/user_guide/indexing.html#returning-a-view-versus-a-copy\n",
      "  b_df['ingr_defl'] = b_df['ingr_ind'] / b_df['defl']\n",
      "C:\\Users\\OscarJaramillo\\AppData\\Local\\Temp\\ipykernel_15460\\3416971286.py:3: SettingWithCopyWarning: \n",
      "A value is trying to be set on a copy of a slice from a DataFrame.\n",
      "Try using .loc[row_indexer,col_indexer] = value instead\n",
      "\n",
      "See the caveats in the documentation: https://pandas.pydata.org/pandas-docs/stable/user_guide/indexing.html#returning-a-view-versus-a-copy\n",
      "  b_df['ingr_defl'] = b_df['ingr_ind'] / b_df['defl']\n",
      "C:\\Users\\OscarJaramillo\\AppData\\Local\\Temp\\ipykernel_15460\\3416971286.py:3: SettingWithCopyWarning: \n",
      "A value is trying to be set on a copy of a slice from a DataFrame.\n",
      "Try using .loc[row_indexer,col_indexer] = value instead\n",
      "\n",
      "See the caveats in the documentation: https://pandas.pydata.org/pandas-docs/stable/user_guide/indexing.html#returning-a-view-versus-a-copy\n",
      "  b_df['ingr_defl'] = b_df['ingr_ind'] / b_df['defl']\n",
      "C:\\Users\\OscarJaramillo\\AppData\\Local\\Temp\\ipykernel_15460\\3416971286.py:3: SettingWithCopyWarning: \n",
      "A value is trying to be set on a copy of a slice from a DataFrame.\n",
      "Try using .loc[row_indexer,col_indexer] = value instead\n",
      "\n",
      "See the caveats in the documentation: https://pandas.pydata.org/pandas-docs/stable/user_guide/indexing.html#returning-a-view-versus-a-copy\n",
      "  b_df['ingr_defl'] = b_df['ingr_ind'] / b_df['defl']\n",
      "C:\\Users\\OscarJaramillo\\AppData\\Local\\Temp\\ipykernel_15460\\3416971286.py:3: SettingWithCopyWarning: \n",
      "A value is trying to be set on a copy of a slice from a DataFrame.\n",
      "Try using .loc[row_indexer,col_indexer] = value instead\n",
      "\n",
      "See the caveats in the documentation: https://pandas.pydata.org/pandas-docs/stable/user_guide/indexing.html#returning-a-view-versus-a-copy\n",
      "  b_df['ingr_defl'] = b_df['ingr_ind'] / b_df['defl']\n",
      "C:\\Users\\OscarJaramillo\\AppData\\Local\\Temp\\ipykernel_15460\\3416971286.py:3: SettingWithCopyWarning: \n",
      "A value is trying to be set on a copy of a slice from a DataFrame.\n",
      "Try using .loc[row_indexer,col_indexer] = value instead\n",
      "\n",
      "See the caveats in the documentation: https://pandas.pydata.org/pandas-docs/stable/user_guide/indexing.html#returning-a-view-versus-a-copy\n",
      "  b_df['ingr_defl'] = b_df['ingr_ind'] / b_df['defl']\n",
      "C:\\Users\\OscarJaramillo\\AppData\\Local\\Temp\\ipykernel_15460\\3416971286.py:3: SettingWithCopyWarning: \n",
      "A value is trying to be set on a copy of a slice from a DataFrame.\n",
      "Try using .loc[row_indexer,col_indexer] = value instead\n",
      "\n",
      "See the caveats in the documentation: https://pandas.pydata.org/pandas-docs/stable/user_guide/indexing.html#returning-a-view-versus-a-copy\n",
      "  b_df['ingr_defl'] = b_df['ingr_ind'] / b_df['defl']\n",
      "C:\\Users\\OscarJaramillo\\AppData\\Local\\Temp\\ipykernel_15460\\3416971286.py:3: SettingWithCopyWarning: \n",
      "A value is trying to be set on a copy of a slice from a DataFrame.\n",
      "Try using .loc[row_indexer,col_indexer] = value instead\n",
      "\n",
      "See the caveats in the documentation: https://pandas.pydata.org/pandas-docs/stable/user_guide/indexing.html#returning-a-view-versus-a-copy\n",
      "  b_df['ingr_defl'] = b_df['ingr_ind'] / b_df['defl']\n",
      "C:\\Users\\OscarJaramillo\\AppData\\Local\\Temp\\ipykernel_15460\\3416971286.py:3: SettingWithCopyWarning: \n",
      "A value is trying to be set on a copy of a slice from a DataFrame.\n",
      "Try using .loc[row_indexer,col_indexer] = value instead\n",
      "\n",
      "See the caveats in the documentation: https://pandas.pydata.org/pandas-docs/stable/user_guide/indexing.html#returning-a-view-versus-a-copy\n",
      "  b_df['ingr_defl'] = b_df['ingr_ind'] / b_df['defl']\n"
     ]
    }
   ],
   "source": [
    "for i in range(1, 13):\n",
    "    b_df = globals()[f'b2015_{i}']\n",
    "    b_df['ingr_defl'] = b_df['ingr_ind'] / b_df['defl']"
   ]
  },
  {
   "cell_type": "markdown",
   "metadata": {},
   "source": [
    "### Índices"
   ]
  },
  {
   "cell_type": "markdown",
   "metadata": {},
   "source": [
    "Umbrales de pobreza por región"
   ]
  },
  {
   "cell_type": "code",
   "execution_count": 181,
   "metadata": {},
   "outputs": [],
   "source": [
    "pobr = {\n",
    "    26: 98.72,\n",
    "    29: 92.37,\n",
    "    31: 82.11,\n",
    "    33: 99.21,\n",
    "    35: 119.55,\n",
    "    43: 62.28\n",
    "}"
   ]
  },
  {
   "cell_type": "code",
   "execution_count": 182,
   "metadata": {},
   "outputs": [
    {
     "name": "stderr",
     "output_type": "stream",
     "text": [
      "C:\\Users\\OscarJaramillo\\AppData\\Local\\Temp\\ipykernel_15460\\1097844296.py:3: SettingWithCopyWarning: \n",
      "A value is trying to be set on a copy of a slice from a DataFrame.\n",
      "Try using .loc[row_indexer,col_indexer] = value instead\n",
      "\n",
      "See the caveats in the documentation: https://pandas.pydata.org/pandas-docs/stable/user_guide/indexing.html#returning-a-view-versus-a-copy\n",
      "  b_df['um_pobr'] = b_df['v035'].map(pobr)\n",
      "C:\\Users\\OscarJaramillo\\AppData\\Local\\Temp\\ipykernel_15460\\1097844296.py:3: SettingWithCopyWarning: \n",
      "A value is trying to be set on a copy of a slice from a DataFrame.\n",
      "Try using .loc[row_indexer,col_indexer] = value instead\n",
      "\n",
      "See the caveats in the documentation: https://pandas.pydata.org/pandas-docs/stable/user_guide/indexing.html#returning-a-view-versus-a-copy\n",
      "  b_df['um_pobr'] = b_df['v035'].map(pobr)\n",
      "C:\\Users\\OscarJaramillo\\AppData\\Local\\Temp\\ipykernel_15460\\1097844296.py:3: SettingWithCopyWarning: \n",
      "A value is trying to be set on a copy of a slice from a DataFrame.\n",
      "Try using .loc[row_indexer,col_indexer] = value instead\n",
      "\n",
      "See the caveats in the documentation: https://pandas.pydata.org/pandas-docs/stable/user_guide/indexing.html#returning-a-view-versus-a-copy\n",
      "  b_df['um_pobr'] = b_df['v035'].map(pobr)\n",
      "C:\\Users\\OscarJaramillo\\AppData\\Local\\Temp\\ipykernel_15460\\1097844296.py:3: SettingWithCopyWarning: \n",
      "A value is trying to be set on a copy of a slice from a DataFrame.\n",
      "Try using .loc[row_indexer,col_indexer] = value instead\n",
      "\n",
      "See the caveats in the documentation: https://pandas.pydata.org/pandas-docs/stable/user_guide/indexing.html#returning-a-view-versus-a-copy\n",
      "  b_df['um_pobr'] = b_df['v035'].map(pobr)\n",
      "C:\\Users\\OscarJaramillo\\AppData\\Local\\Temp\\ipykernel_15460\\1097844296.py:3: SettingWithCopyWarning: \n",
      "A value is trying to be set on a copy of a slice from a DataFrame.\n",
      "Try using .loc[row_indexer,col_indexer] = value instead\n",
      "\n",
      "See the caveats in the documentation: https://pandas.pydata.org/pandas-docs/stable/user_guide/indexing.html#returning-a-view-versus-a-copy\n",
      "  b_df['um_pobr'] = b_df['v035'].map(pobr)\n",
      "C:\\Users\\OscarJaramillo\\AppData\\Local\\Temp\\ipykernel_15460\\1097844296.py:3: SettingWithCopyWarning: \n",
      "A value is trying to be set on a copy of a slice from a DataFrame.\n",
      "Try using .loc[row_indexer,col_indexer] = value instead\n",
      "\n",
      "See the caveats in the documentation: https://pandas.pydata.org/pandas-docs/stable/user_guide/indexing.html#returning-a-view-versus-a-copy\n",
      "  b_df['um_pobr'] = b_df['v035'].map(pobr)\n",
      "C:\\Users\\OscarJaramillo\\AppData\\Local\\Temp\\ipykernel_15460\\1097844296.py:3: SettingWithCopyWarning: \n",
      "A value is trying to be set on a copy of a slice from a DataFrame.\n",
      "Try using .loc[row_indexer,col_indexer] = value instead\n",
      "\n",
      "See the caveats in the documentation: https://pandas.pydata.org/pandas-docs/stable/user_guide/indexing.html#returning-a-view-versus-a-copy\n",
      "  b_df['um_pobr'] = b_df['v035'].map(pobr)\n",
      "C:\\Users\\OscarJaramillo\\AppData\\Local\\Temp\\ipykernel_15460\\1097844296.py:3: SettingWithCopyWarning: \n",
      "A value is trying to be set on a copy of a slice from a DataFrame.\n",
      "Try using .loc[row_indexer,col_indexer] = value instead\n",
      "\n",
      "See the caveats in the documentation: https://pandas.pydata.org/pandas-docs/stable/user_guide/indexing.html#returning-a-view-versus-a-copy\n",
      "  b_df['um_pobr'] = b_df['v035'].map(pobr)\n",
      "C:\\Users\\OscarJaramillo\\AppData\\Local\\Temp\\ipykernel_15460\\1097844296.py:3: SettingWithCopyWarning: \n",
      "A value is trying to be set on a copy of a slice from a DataFrame.\n",
      "Try using .loc[row_indexer,col_indexer] = value instead\n",
      "\n",
      "See the caveats in the documentation: https://pandas.pydata.org/pandas-docs/stable/user_guide/indexing.html#returning-a-view-versus-a-copy\n",
      "  b_df['um_pobr'] = b_df['v035'].map(pobr)\n",
      "C:\\Users\\OscarJaramillo\\AppData\\Local\\Temp\\ipykernel_15460\\1097844296.py:3: SettingWithCopyWarning: \n",
      "A value is trying to be set on a copy of a slice from a DataFrame.\n",
      "Try using .loc[row_indexer,col_indexer] = value instead\n",
      "\n",
      "See the caveats in the documentation: https://pandas.pydata.org/pandas-docs/stable/user_guide/indexing.html#returning-a-view-versus-a-copy\n",
      "  b_df['um_pobr'] = b_df['v035'].map(pobr)\n",
      "C:\\Users\\OscarJaramillo\\AppData\\Local\\Temp\\ipykernel_15460\\1097844296.py:3: SettingWithCopyWarning: \n",
      "A value is trying to be set on a copy of a slice from a DataFrame.\n",
      "Try using .loc[row_indexer,col_indexer] = value instead\n",
      "\n",
      "See the caveats in the documentation: https://pandas.pydata.org/pandas-docs/stable/user_guide/indexing.html#returning-a-view-versus-a-copy\n",
      "  b_df['um_pobr'] = b_df['v035'].map(pobr)\n",
      "C:\\Users\\OscarJaramillo\\AppData\\Local\\Temp\\ipykernel_15460\\1097844296.py:3: SettingWithCopyWarning: \n",
      "A value is trying to be set on a copy of a slice from a DataFrame.\n",
      "Try using .loc[row_indexer,col_indexer] = value instead\n",
      "\n",
      "See the caveats in the documentation: https://pandas.pydata.org/pandas-docs/stable/user_guide/indexing.html#returning-a-view-versus-a-copy\n",
      "  b_df['um_pobr'] = b_df['v035'].map(pobr)\n"
     ]
    }
   ],
   "source": [
    "for i in range(1, 13):\n",
    "    b_df = globals()[f'b2015_{i}']\n",
    "    b_df['um_pobr'] = b_df['v035'].map(pobr)"
   ]
  },
  {
   "cell_type": "markdown",
   "metadata": {},
   "source": [
    "Índice de Foster-Greer-Thorbecke\n",
    "\n",
    "$FGT_{\\alpha}=\\frac{1}{N}\\sum_{i=1}^{H}\\left(\\frac{z-y_{i}}{z}\\right)^{\\alpha}$"
   ]
  },
  {
   "cell_type": "code",
   "execution_count": 183,
   "metadata": {},
   "outputs": [],
   "source": [
    "alpha = 0"
   ]
  },
  {
   "cell_type": "code",
   "execution_count": 184,
   "metadata": {},
   "outputs": [],
   "source": [
    "qs = pd.DataFrame([np.zeros(6)], index=[1,2,3,4,5,6,7,8,9,10,11,12], columns=[26,29,31,33,35,43]) #Cantidad de personas pobres\n",
    "ns = pd.DataFrame([np.zeros(6)], index=[1,2,3,4,5,6,7,8,9,10,11,12], columns=[26,29,31,33,35,43]) #Cantidad de personas total"
   ]
  },
  {
   "cell_type": "code",
   "execution_count": 185,
   "metadata": {},
   "outputs": [
    {
     "name": "stderr",
     "output_type": "stream",
     "text": [
      "C:\\Users\\OscarJaramillo\\AppData\\Local\\Temp\\ipykernel_15460\\1606152160.py:3: SettingWithCopyWarning: \n",
      "A value is trying to be set on a copy of a slice from a DataFrame.\n",
      "Try using .loc[row_indexer,col_indexer] = value instead\n",
      "\n",
      "See the caveats in the documentation: https://pandas.pydata.org/pandas-docs/stable/user_guide/indexing.html#returning-a-view-versus-a-copy\n",
      "  b_df['g'] = b_df['um_pobr'] - b_df['ingr_defl']\n",
      "C:\\Users\\OscarJaramillo\\AppData\\Local\\Temp\\ipykernel_15460\\1606152160.py:3: SettingWithCopyWarning: \n",
      "A value is trying to be set on a copy of a slice from a DataFrame.\n",
      "Try using .loc[row_indexer,col_indexer] = value instead\n",
      "\n",
      "See the caveats in the documentation: https://pandas.pydata.org/pandas-docs/stable/user_guide/indexing.html#returning-a-view-versus-a-copy\n",
      "  b_df['g'] = b_df['um_pobr'] - b_df['ingr_defl']\n",
      "C:\\Users\\OscarJaramillo\\AppData\\Local\\Temp\\ipykernel_15460\\1606152160.py:3: SettingWithCopyWarning: \n",
      "A value is trying to be set on a copy of a slice from a DataFrame.\n",
      "Try using .loc[row_indexer,col_indexer] = value instead\n",
      "\n",
      "See the caveats in the documentation: https://pandas.pydata.org/pandas-docs/stable/user_guide/indexing.html#returning-a-view-versus-a-copy\n",
      "  b_df['g'] = b_df['um_pobr'] - b_df['ingr_defl']\n",
      "C:\\Users\\OscarJaramillo\\AppData\\Local\\Temp\\ipykernel_15460\\1606152160.py:3: SettingWithCopyWarning: \n",
      "A value is trying to be set on a copy of a slice from a DataFrame.\n",
      "Try using .loc[row_indexer,col_indexer] = value instead\n",
      "\n",
      "See the caveats in the documentation: https://pandas.pydata.org/pandas-docs/stable/user_guide/indexing.html#returning-a-view-versus-a-copy\n",
      "  b_df['g'] = b_df['um_pobr'] - b_df['ingr_defl']\n",
      "C:\\Users\\OscarJaramillo\\AppData\\Local\\Temp\\ipykernel_15460\\1606152160.py:3: SettingWithCopyWarning: \n",
      "A value is trying to be set on a copy of a slice from a DataFrame.\n",
      "Try using .loc[row_indexer,col_indexer] = value instead\n",
      "\n",
      "See the caveats in the documentation: https://pandas.pydata.org/pandas-docs/stable/user_guide/indexing.html#returning-a-view-versus-a-copy\n",
      "  b_df['g'] = b_df['um_pobr'] - b_df['ingr_defl']\n",
      "C:\\Users\\OscarJaramillo\\AppData\\Local\\Temp\\ipykernel_15460\\1606152160.py:3: SettingWithCopyWarning: \n",
      "A value is trying to be set on a copy of a slice from a DataFrame.\n",
      "Try using .loc[row_indexer,col_indexer] = value instead\n",
      "\n",
      "See the caveats in the documentation: https://pandas.pydata.org/pandas-docs/stable/user_guide/indexing.html#returning-a-view-versus-a-copy\n",
      "  b_df['g'] = b_df['um_pobr'] - b_df['ingr_defl']\n",
      "C:\\Users\\OscarJaramillo\\AppData\\Local\\Temp\\ipykernel_15460\\1606152160.py:3: SettingWithCopyWarning: \n",
      "A value is trying to be set on a copy of a slice from a DataFrame.\n",
      "Try using .loc[row_indexer,col_indexer] = value instead\n",
      "\n",
      "See the caveats in the documentation: https://pandas.pydata.org/pandas-docs/stable/user_guide/indexing.html#returning-a-view-versus-a-copy\n",
      "  b_df['g'] = b_df['um_pobr'] - b_df['ingr_defl']\n",
      "C:\\Users\\OscarJaramillo\\AppData\\Local\\Temp\\ipykernel_15460\\1606152160.py:3: SettingWithCopyWarning: \n",
      "A value is trying to be set on a copy of a slice from a DataFrame.\n",
      "Try using .loc[row_indexer,col_indexer] = value instead\n",
      "\n",
      "See the caveats in the documentation: https://pandas.pydata.org/pandas-docs/stable/user_guide/indexing.html#returning-a-view-versus-a-copy\n",
      "  b_df['g'] = b_df['um_pobr'] - b_df['ingr_defl']\n",
      "C:\\Users\\OscarJaramillo\\AppData\\Local\\Temp\\ipykernel_15460\\1606152160.py:3: SettingWithCopyWarning: \n",
      "A value is trying to be set on a copy of a slice from a DataFrame.\n",
      "Try using .loc[row_indexer,col_indexer] = value instead\n",
      "\n",
      "See the caveats in the documentation: https://pandas.pydata.org/pandas-docs/stable/user_guide/indexing.html#returning-a-view-versus-a-copy\n",
      "  b_df['g'] = b_df['um_pobr'] - b_df['ingr_defl']\n",
      "C:\\Users\\OscarJaramillo\\AppData\\Local\\Temp\\ipykernel_15460\\1606152160.py:3: SettingWithCopyWarning: \n",
      "A value is trying to be set on a copy of a slice from a DataFrame.\n",
      "Try using .loc[row_indexer,col_indexer] = value instead\n",
      "\n",
      "See the caveats in the documentation: https://pandas.pydata.org/pandas-docs/stable/user_guide/indexing.html#returning-a-view-versus-a-copy\n",
      "  b_df['g'] = b_df['um_pobr'] - b_df['ingr_defl']\n",
      "C:\\Users\\OscarJaramillo\\AppData\\Local\\Temp\\ipykernel_15460\\1606152160.py:3: SettingWithCopyWarning: \n",
      "A value is trying to be set on a copy of a slice from a DataFrame.\n",
      "Try using .loc[row_indexer,col_indexer] = value instead\n",
      "\n",
      "See the caveats in the documentation: https://pandas.pydata.org/pandas-docs/stable/user_guide/indexing.html#returning-a-view-versus-a-copy\n",
      "  b_df['g'] = b_df['um_pobr'] - b_df['ingr_defl']\n",
      "C:\\Users\\OscarJaramillo\\AppData\\Local\\Temp\\ipykernel_15460\\1606152160.py:3: SettingWithCopyWarning: \n",
      "A value is trying to be set on a copy of a slice from a DataFrame.\n",
      "Try using .loc[row_indexer,col_indexer] = value instead\n",
      "\n",
      "See the caveats in the documentation: https://pandas.pydata.org/pandas-docs/stable/user_guide/indexing.html#returning-a-view-versus-a-copy\n",
      "  b_df['g'] = b_df['um_pobr'] - b_df['ingr_defl']\n"
     ]
    }
   ],
   "source": [
    "for i in range(1, 13):\n",
    "    b_df = globals()[f'b2015_{i}']\n",
    "    b_df['g'] = b_df['um_pobr'] - b_df['ingr_defl']"
   ]
  },
  {
   "cell_type": "code",
   "execution_count": 186,
   "metadata": {},
   "outputs": [
    {
     "name": "stderr",
     "output_type": "stream",
     "text": [
      "C:\\Users\\OscarJaramillo\\AppData\\Local\\Temp\\ipykernel_15460\\2827886463.py:3: SettingWithCopyWarning: \n",
      "A value is trying to be set on a copy of a slice from a DataFrame.\n",
      "Try using .loc[row_indexer,col_indexer] = value instead\n",
      "\n",
      "See the caveats in the documentation: https://pandas.pydata.org/pandas-docs/stable/user_guide/indexing.html#returning-a-view-versus-a-copy\n",
      "  b_df['q'] = b_df['g'].apply(lambda x: 1 if x > 0 else 0)\n",
      "C:\\Users\\OscarJaramillo\\AppData\\Local\\Temp\\ipykernel_15460\\2827886463.py:3: SettingWithCopyWarning: \n",
      "A value is trying to be set on a copy of a slice from a DataFrame.\n",
      "Try using .loc[row_indexer,col_indexer] = value instead\n",
      "\n",
      "See the caveats in the documentation: https://pandas.pydata.org/pandas-docs/stable/user_guide/indexing.html#returning-a-view-versus-a-copy\n",
      "  b_df['q'] = b_df['g'].apply(lambda x: 1 if x > 0 else 0)\n",
      "C:\\Users\\OscarJaramillo\\AppData\\Local\\Temp\\ipykernel_15460\\2827886463.py:3: SettingWithCopyWarning: \n",
      "A value is trying to be set on a copy of a slice from a DataFrame.\n",
      "Try using .loc[row_indexer,col_indexer] = value instead\n",
      "\n",
      "See the caveats in the documentation: https://pandas.pydata.org/pandas-docs/stable/user_guide/indexing.html#returning-a-view-versus-a-copy\n",
      "  b_df['q'] = b_df['g'].apply(lambda x: 1 if x > 0 else 0)\n",
      "C:\\Users\\OscarJaramillo\\AppData\\Local\\Temp\\ipykernel_15460\\2827886463.py:3: SettingWithCopyWarning: \n",
      "A value is trying to be set on a copy of a slice from a DataFrame.\n",
      "Try using .loc[row_indexer,col_indexer] = value instead\n",
      "\n",
      "See the caveats in the documentation: https://pandas.pydata.org/pandas-docs/stable/user_guide/indexing.html#returning-a-view-versus-a-copy\n",
      "  b_df['q'] = b_df['g'].apply(lambda x: 1 if x > 0 else 0)\n",
      "C:\\Users\\OscarJaramillo\\AppData\\Local\\Temp\\ipykernel_15460\\2827886463.py:3: SettingWithCopyWarning: \n",
      "A value is trying to be set on a copy of a slice from a DataFrame.\n",
      "Try using .loc[row_indexer,col_indexer] = value instead\n",
      "\n",
      "See the caveats in the documentation: https://pandas.pydata.org/pandas-docs/stable/user_guide/indexing.html#returning-a-view-versus-a-copy\n",
      "  b_df['q'] = b_df['g'].apply(lambda x: 1 if x > 0 else 0)\n",
      "C:\\Users\\OscarJaramillo\\AppData\\Local\\Temp\\ipykernel_15460\\2827886463.py:3: SettingWithCopyWarning: \n",
      "A value is trying to be set on a copy of a slice from a DataFrame.\n",
      "Try using .loc[row_indexer,col_indexer] = value instead\n",
      "\n",
      "See the caveats in the documentation: https://pandas.pydata.org/pandas-docs/stable/user_guide/indexing.html#returning-a-view-versus-a-copy\n",
      "  b_df['q'] = b_df['g'].apply(lambda x: 1 if x > 0 else 0)\n",
      "C:\\Users\\OscarJaramillo\\AppData\\Local\\Temp\\ipykernel_15460\\2827886463.py:3: SettingWithCopyWarning: \n",
      "A value is trying to be set on a copy of a slice from a DataFrame.\n",
      "Try using .loc[row_indexer,col_indexer] = value instead\n",
      "\n",
      "See the caveats in the documentation: https://pandas.pydata.org/pandas-docs/stable/user_guide/indexing.html#returning-a-view-versus-a-copy\n",
      "  b_df['q'] = b_df['g'].apply(lambda x: 1 if x > 0 else 0)\n",
      "C:\\Users\\OscarJaramillo\\AppData\\Local\\Temp\\ipykernel_15460\\2827886463.py:3: SettingWithCopyWarning: \n",
      "A value is trying to be set on a copy of a slice from a DataFrame.\n",
      "Try using .loc[row_indexer,col_indexer] = value instead\n",
      "\n",
      "See the caveats in the documentation: https://pandas.pydata.org/pandas-docs/stable/user_guide/indexing.html#returning-a-view-versus-a-copy\n",
      "  b_df['q'] = b_df['g'].apply(lambda x: 1 if x > 0 else 0)\n",
      "C:\\Users\\OscarJaramillo\\AppData\\Local\\Temp\\ipykernel_15460\\2827886463.py:3: SettingWithCopyWarning: \n",
      "A value is trying to be set on a copy of a slice from a DataFrame.\n",
      "Try using .loc[row_indexer,col_indexer] = value instead\n",
      "\n",
      "See the caveats in the documentation: https://pandas.pydata.org/pandas-docs/stable/user_guide/indexing.html#returning-a-view-versus-a-copy\n",
      "  b_df['q'] = b_df['g'].apply(lambda x: 1 if x > 0 else 0)\n",
      "C:\\Users\\OscarJaramillo\\AppData\\Local\\Temp\\ipykernel_15460\\2827886463.py:3: SettingWithCopyWarning: \n",
      "A value is trying to be set on a copy of a slice from a DataFrame.\n",
      "Try using .loc[row_indexer,col_indexer] = value instead\n",
      "\n",
      "See the caveats in the documentation: https://pandas.pydata.org/pandas-docs/stable/user_guide/indexing.html#returning-a-view-versus-a-copy\n",
      "  b_df['q'] = b_df['g'].apply(lambda x: 1 if x > 0 else 0)\n",
      "C:\\Users\\OscarJaramillo\\AppData\\Local\\Temp\\ipykernel_15460\\2827886463.py:3: SettingWithCopyWarning: \n",
      "A value is trying to be set on a copy of a slice from a DataFrame.\n",
      "Try using .loc[row_indexer,col_indexer] = value instead\n",
      "\n",
      "See the caveats in the documentation: https://pandas.pydata.org/pandas-docs/stable/user_guide/indexing.html#returning-a-view-versus-a-copy\n",
      "  b_df['q'] = b_df['g'].apply(lambda x: 1 if x > 0 else 0)\n",
      "C:\\Users\\OscarJaramillo\\AppData\\Local\\Temp\\ipykernel_15460\\2827886463.py:3: SettingWithCopyWarning: \n",
      "A value is trying to be set on a copy of a slice from a DataFrame.\n",
      "Try using .loc[row_indexer,col_indexer] = value instead\n",
      "\n",
      "See the caveats in the documentation: https://pandas.pydata.org/pandas-docs/stable/user_guide/indexing.html#returning-a-view-versus-a-copy\n",
      "  b_df['q'] = b_df['g'].apply(lambda x: 1 if x > 0 else 0)\n"
     ]
    }
   ],
   "source": [
    "for i in range(1, 13):\n",
    "    b_df = globals()[f'b2015_{i}']\n",
    "    b_df['q'] = b_df['g'].apply(lambda x: 1 if x > 0 else 0)"
   ]
  },
  {
   "cell_type": "code",
   "execution_count": 187,
   "metadata": {},
   "outputs": [],
   "source": [
    "qs.iloc[0] = b2015_1.groupby('v035')['q'].sum()\n",
    "qs.iloc[1] = b2015_2.groupby('v035')['q'].sum()\n",
    "qs.iloc[2] = b2015_3.groupby('v035')['q'].sum()\n",
    "qs.iloc[3] = b2015_4.groupby('v035')['q'].sum()\n",
    "qs.iloc[4] = b2015_5.groupby('v035')['q'].sum()\n",
    "qs.iloc[5] = b2015_6.groupby('v035')['q'].sum()\n",
    "qs.iloc[6] = b2015_7.groupby('v035')['q'].sum()\n",
    "qs.iloc[7] = b2015_8.groupby('v035')['q'].sum()\n",
    "qs.iloc[8] = b2015_9.groupby('v035')['q'].sum()\n",
    "qs.iloc[9] = b2015_10.groupby('v035')['q'].sum()\n",
    "qs.iloc[10] = b2015_11.groupby('v035')['q'].sum()\n",
    "qs.iloc[11] = b2015_12.groupby('v035')['q'].sum()"
   ]
  },
  {
   "cell_type": "code",
   "execution_count": 188,
   "metadata": {},
   "outputs": [],
   "source": [
    "ns.iloc[0] = b2015_1['v035'].value_counts()\n",
    "ns.iloc[1] = b2015_2['v035'].value_counts()\n",
    "ns.iloc[2] = b2015_3['v035'].value_counts()\n",
    "ns.iloc[3] = b2015_4['v035'].value_counts()\n",
    "ns.iloc[4] = b2015_5['v035'].value_counts()\n",
    "ns.iloc[5] = b2015_6['v035'].value_counts()\n",
    "ns.iloc[6] = b2015_7['v035'].value_counts()\n",
    "ns.iloc[7] = b2015_8['v035'].value_counts()\n",
    "ns.iloc[8] = b2015_9['v035'].value_counts()\n",
    "ns.iloc[9] = b2015_10['v035'].value_counts()\n",
    "ns.iloc[10] = b2015_11['v035'].value_counts()\n",
    "ns.iloc[11] = b2015_12['v035'].value_counts()"
   ]
  },
  {
   "cell_type": "markdown",
   "metadata": {},
   "source": [
    "FGT 0"
   ]
  },
  {
   "cell_type": "code",
   "execution_count": 189,
   "metadata": {},
   "outputs": [],
   "source": [
    "fgt0 = pd.DataFrame([np.zeros(6)], index=[1,2,3,4,5,6,7,8,9,10,11,12], columns=[26,29,31,33,35,43]) #Cantidad de personas total"
   ]
  },
  {
   "cell_type": "code",
   "execution_count": 190,
   "metadata": {},
   "outputs": [
    {
     "name": "stderr",
     "output_type": "stream",
     "text": [
      "C:\\Users\\OscarJaramillo\\AppData\\Local\\Temp\\ipykernel_15460\\3444057872.py:3: SettingWithCopyWarning: \n",
      "A value is trying to be set on a copy of a slice from a DataFrame.\n",
      "Try using .loc[row_indexer,col_indexer] = value instead\n",
      "\n",
      "See the caveats in the documentation: https://pandas.pydata.org/pandas-docs/stable/user_guide/indexing.html#returning-a-view-versus-a-copy\n",
      "  b_df['parentesis'] = ((b_df['um_pobr'] - b_df['ingr_defl'])/b_df['um_pobr'])**alpha\n",
      "C:\\Users\\OscarJaramillo\\AppData\\Local\\Temp\\ipykernel_15460\\3444057872.py:3: SettingWithCopyWarning: \n",
      "A value is trying to be set on a copy of a slice from a DataFrame.\n",
      "Try using .loc[row_indexer,col_indexer] = value instead\n",
      "\n",
      "See the caveats in the documentation: https://pandas.pydata.org/pandas-docs/stable/user_guide/indexing.html#returning-a-view-versus-a-copy\n",
      "  b_df['parentesis'] = ((b_df['um_pobr'] - b_df['ingr_defl'])/b_df['um_pobr'])**alpha\n",
      "C:\\Users\\OscarJaramillo\\AppData\\Local\\Temp\\ipykernel_15460\\3444057872.py:3: SettingWithCopyWarning: \n",
      "A value is trying to be set on a copy of a slice from a DataFrame.\n",
      "Try using .loc[row_indexer,col_indexer] = value instead\n",
      "\n",
      "See the caveats in the documentation: https://pandas.pydata.org/pandas-docs/stable/user_guide/indexing.html#returning-a-view-versus-a-copy\n",
      "  b_df['parentesis'] = ((b_df['um_pobr'] - b_df['ingr_defl'])/b_df['um_pobr'])**alpha\n",
      "C:\\Users\\OscarJaramillo\\AppData\\Local\\Temp\\ipykernel_15460\\3444057872.py:3: SettingWithCopyWarning: \n",
      "A value is trying to be set on a copy of a slice from a DataFrame.\n",
      "Try using .loc[row_indexer,col_indexer] = value instead\n",
      "\n",
      "See the caveats in the documentation: https://pandas.pydata.org/pandas-docs/stable/user_guide/indexing.html#returning-a-view-versus-a-copy\n",
      "  b_df['parentesis'] = ((b_df['um_pobr'] - b_df['ingr_defl'])/b_df['um_pobr'])**alpha\n",
      "C:\\Users\\OscarJaramillo\\AppData\\Local\\Temp\\ipykernel_15460\\3444057872.py:3: SettingWithCopyWarning: \n",
      "A value is trying to be set on a copy of a slice from a DataFrame.\n",
      "Try using .loc[row_indexer,col_indexer] = value instead\n",
      "\n",
      "See the caveats in the documentation: https://pandas.pydata.org/pandas-docs/stable/user_guide/indexing.html#returning-a-view-versus-a-copy\n",
      "  b_df['parentesis'] = ((b_df['um_pobr'] - b_df['ingr_defl'])/b_df['um_pobr'])**alpha\n",
      "C:\\Users\\OscarJaramillo\\AppData\\Local\\Temp\\ipykernel_15460\\3444057872.py:3: SettingWithCopyWarning: \n",
      "A value is trying to be set on a copy of a slice from a DataFrame.\n",
      "Try using .loc[row_indexer,col_indexer] = value instead\n",
      "\n",
      "See the caveats in the documentation: https://pandas.pydata.org/pandas-docs/stable/user_guide/indexing.html#returning-a-view-versus-a-copy\n",
      "  b_df['parentesis'] = ((b_df['um_pobr'] - b_df['ingr_defl'])/b_df['um_pobr'])**alpha\n",
      "C:\\Users\\OscarJaramillo\\AppData\\Local\\Temp\\ipykernel_15460\\3444057872.py:3: SettingWithCopyWarning: \n",
      "A value is trying to be set on a copy of a slice from a DataFrame.\n",
      "Try using .loc[row_indexer,col_indexer] = value instead\n",
      "\n",
      "See the caveats in the documentation: https://pandas.pydata.org/pandas-docs/stable/user_guide/indexing.html#returning-a-view-versus-a-copy\n",
      "  b_df['parentesis'] = ((b_df['um_pobr'] - b_df['ingr_defl'])/b_df['um_pobr'])**alpha\n",
      "C:\\Users\\OscarJaramillo\\AppData\\Local\\Temp\\ipykernel_15460\\3444057872.py:3: SettingWithCopyWarning: \n",
      "A value is trying to be set on a copy of a slice from a DataFrame.\n",
      "Try using .loc[row_indexer,col_indexer] = value instead\n",
      "\n",
      "See the caveats in the documentation: https://pandas.pydata.org/pandas-docs/stable/user_guide/indexing.html#returning-a-view-versus-a-copy\n",
      "  b_df['parentesis'] = ((b_df['um_pobr'] - b_df['ingr_defl'])/b_df['um_pobr'])**alpha\n",
      "C:\\Users\\OscarJaramillo\\AppData\\Local\\Temp\\ipykernel_15460\\3444057872.py:3: SettingWithCopyWarning: \n",
      "A value is trying to be set on a copy of a slice from a DataFrame.\n",
      "Try using .loc[row_indexer,col_indexer] = value instead\n",
      "\n",
      "See the caveats in the documentation: https://pandas.pydata.org/pandas-docs/stable/user_guide/indexing.html#returning-a-view-versus-a-copy\n",
      "  b_df['parentesis'] = ((b_df['um_pobr'] - b_df['ingr_defl'])/b_df['um_pobr'])**alpha\n",
      "C:\\Users\\OscarJaramillo\\AppData\\Local\\Temp\\ipykernel_15460\\3444057872.py:3: SettingWithCopyWarning: \n",
      "A value is trying to be set on a copy of a slice from a DataFrame.\n",
      "Try using .loc[row_indexer,col_indexer] = value instead\n",
      "\n",
      "See the caveats in the documentation: https://pandas.pydata.org/pandas-docs/stable/user_guide/indexing.html#returning-a-view-versus-a-copy\n",
      "  b_df['parentesis'] = ((b_df['um_pobr'] - b_df['ingr_defl'])/b_df['um_pobr'])**alpha\n",
      "C:\\Users\\OscarJaramillo\\AppData\\Local\\Temp\\ipykernel_15460\\3444057872.py:3: SettingWithCopyWarning: \n",
      "A value is trying to be set on a copy of a slice from a DataFrame.\n",
      "Try using .loc[row_indexer,col_indexer] = value instead\n",
      "\n",
      "See the caveats in the documentation: https://pandas.pydata.org/pandas-docs/stable/user_guide/indexing.html#returning-a-view-versus-a-copy\n",
      "  b_df['parentesis'] = ((b_df['um_pobr'] - b_df['ingr_defl'])/b_df['um_pobr'])**alpha\n",
      "C:\\Users\\OscarJaramillo\\AppData\\Local\\Temp\\ipykernel_15460\\3444057872.py:3: SettingWithCopyWarning: \n",
      "A value is trying to be set on a copy of a slice from a DataFrame.\n",
      "Try using .loc[row_indexer,col_indexer] = value instead\n",
      "\n",
      "See the caveats in the documentation: https://pandas.pydata.org/pandas-docs/stable/user_guide/indexing.html#returning-a-view-versus-a-copy\n",
      "  b_df['parentesis'] = ((b_df['um_pobr'] - b_df['ingr_defl'])/b_df['um_pobr'])**alpha\n"
     ]
    }
   ],
   "source": [
    "for i in range(1, 13):\n",
    "    b_df = globals()[f'b2015_{i}']\n",
    "    b_df['parentesis'] = ((b_df['um_pobr'] - b_df['ingr_defl'])/b_df['um_pobr'])**alpha"
   ]
  },
  {
   "cell_type": "code",
   "execution_count": 191,
   "metadata": {},
   "outputs": [],
   "source": [
    "fgt0.iloc[0] = qs.iloc[0]/ns.iloc[0]\n",
    "fgt0.iloc[1] = qs.iloc[1]/ns.iloc[1]\n",
    "fgt0.iloc[2] = qs.iloc[2]/ns.iloc[2]\n",
    "fgt0.iloc[3] = qs.iloc[3]/ns.iloc[3]\n",
    "fgt0.iloc[4] = qs.iloc[4]/ns.iloc[4]\n",
    "fgt0.iloc[5] = qs.iloc[5]/ns.iloc[5]\n",
    "fgt0.iloc[6] = qs.iloc[6]/ns.iloc[6]\n",
    "fgt0.iloc[7] = qs.iloc[7]/ns.iloc[7]\n",
    "fgt0.iloc[8] = qs.iloc[8]/ns.iloc[8]\n",
    "fgt0.iloc[9] = qs.iloc[9]/ns.iloc[9]\n",
    "fgt0.iloc[10] = qs.iloc[10]/ns.iloc[10]\n",
    "fgt0.iloc[11] = qs.iloc[11]/ns.iloc[11]"
   ]
  },
  {
   "cell_type": "markdown",
   "metadata": {},
   "source": [
    "FGT 1"
   ]
  },
  {
   "cell_type": "code",
   "execution_count": 192,
   "metadata": {},
   "outputs": [],
   "source": [
    "alpha = 1"
   ]
  },
  {
   "cell_type": "code",
   "execution_count": 193,
   "metadata": {},
   "outputs": [],
   "source": [
    "fgt1 = pd.DataFrame([np.zeros(6)], index=[1,2,3,4,5,6,7,8,9,10,11,12], columns=[26,29,31,33,35,43]) #Cantidad de personas total"
   ]
  },
  {
   "cell_type": "code",
   "execution_count": 194,
   "metadata": {},
   "outputs": [
    {
     "name": "stderr",
     "output_type": "stream",
     "text": [
      "C:\\Users\\OscarJaramillo\\AppData\\Local\\Temp\\ipykernel_15460\\3444057872.py:3: SettingWithCopyWarning: \n",
      "A value is trying to be set on a copy of a slice from a DataFrame.\n",
      "Try using .loc[row_indexer,col_indexer] = value instead\n",
      "\n",
      "See the caveats in the documentation: https://pandas.pydata.org/pandas-docs/stable/user_guide/indexing.html#returning-a-view-versus-a-copy\n",
      "  b_df['parentesis'] = ((b_df['um_pobr'] - b_df['ingr_defl'])/b_df['um_pobr'])**alpha\n"
     ]
    }
   ],
   "source": [
    "for i in range(1, 13):\n",
    "    b_df = globals()[f'b2015_{i}']\n",
    "    b_df['parentesis'] = ((b_df['um_pobr'] - b_df['ingr_defl'])/b_df['um_pobr'])**alpha"
   ]
  },
  {
   "cell_type": "code",
   "execution_count": 195,
   "metadata": {},
   "outputs": [],
   "source": [
    "fgt1.iloc[0] = b2015_1.loc[b2015_1['q'] == 1].groupby('v035')['parentesis'].sum()/ns.iloc[0]\n",
    "fgt1.iloc[1] = b2015_2.loc[b2015_2['q'] == 1].groupby('v035')['parentesis'].sum()/ns.iloc[1]\n",
    "fgt1.iloc[2] = b2015_3.loc[b2015_3['q'] == 1].groupby('v035')['parentesis'].sum()/ns.iloc[2]\n",
    "fgt1.iloc[3] = b2015_4.loc[b2015_4['q'] == 1].groupby('v035')['parentesis'].sum()/ns.iloc[3]\n",
    "fgt1.iloc[4] = b2015_5.loc[b2015_5['q'] == 1].groupby('v035')['parentesis'].sum()/ns.iloc[4]\n",
    "fgt1.iloc[5] = b2015_6.loc[b2015_6['q'] == 1].groupby('v035')['parentesis'].sum()/ns.iloc[5]\n",
    "fgt1.iloc[6] = b2015_7.loc[b2015_7['q'] == 1].groupby('v035')['parentesis'].sum()/ns.iloc[6]\n",
    "fgt1.iloc[7] = b2015_8.loc[b2015_8['q'] == 1].groupby('v035')['parentesis'].sum()/ns.iloc[7]\n",
    "fgt1.iloc[8] = b2015_9.loc[b2015_9['q'] == 1].groupby('v035')['parentesis'].sum()/ns.iloc[8]\n",
    "fgt1.iloc[9] = b2015_10.loc[b2015_10['q'] == 1].groupby('v035')['parentesis'].sum()/ns.iloc[9]\n",
    "fgt1.iloc[10] = b2015_11.loc[b2015_11['q'] == 1].groupby('v035')['parentesis'].sum()/ns.iloc[10]\n",
    "fgt1.iloc[11] = b2015_12.loc[b2015_12['q'] == 1].groupby('v035')['parentesis'].sum()/ns.iloc[11]"
   ]
  },
  {
   "cell_type": "markdown",
   "metadata": {},
   "source": [
    "FGT 2"
   ]
  },
  {
   "cell_type": "code",
   "execution_count": 196,
   "metadata": {},
   "outputs": [],
   "source": [
    "alpha = 2"
   ]
  },
  {
   "cell_type": "code",
   "execution_count": 197,
   "metadata": {},
   "outputs": [],
   "source": [
    "fgt2 = pd.DataFrame([np.zeros(6)], index=[1,2,3,4,5,6,7,8,9,10,11,12], columns=[26,29,31,33,35,43]) #Cantidad de personas total"
   ]
  },
  {
   "cell_type": "code",
   "execution_count": 198,
   "metadata": {},
   "outputs": [
    {
     "name": "stderr",
     "output_type": "stream",
     "text": [
      "C:\\Users\\OscarJaramillo\\AppData\\Local\\Temp\\ipykernel_15460\\3444057872.py:3: SettingWithCopyWarning: \n",
      "A value is trying to be set on a copy of a slice from a DataFrame.\n",
      "Try using .loc[row_indexer,col_indexer] = value instead\n",
      "\n",
      "See the caveats in the documentation: https://pandas.pydata.org/pandas-docs/stable/user_guide/indexing.html#returning-a-view-versus-a-copy\n",
      "  b_df['parentesis'] = ((b_df['um_pobr'] - b_df['ingr_defl'])/b_df['um_pobr'])**alpha\n"
     ]
    }
   ],
   "source": [
    "for i in range(1, 13):\n",
    "    b_df = globals()[f'b2015_{i}']\n",
    "    b_df['parentesis'] = ((b_df['um_pobr'] - b_df['ingr_defl'])/b_df['um_pobr'])**alpha"
   ]
  },
  {
   "cell_type": "code",
   "execution_count": 199,
   "metadata": {},
   "outputs": [],
   "source": [
    "fgt2.iloc[0] = b2015_1.loc[b2015_1['q'] == 1].groupby('v035')['parentesis'].sum()/ns.iloc[0]\n",
    "fgt2.iloc[1] = b2015_2.loc[b2015_2['q'] == 1].groupby('v035')['parentesis'].sum()/ns.iloc[1]\n",
    "fgt2.iloc[2] = b2015_3.loc[b2015_3['q'] == 1].groupby('v035')['parentesis'].sum()/ns.iloc[2]\n",
    "fgt2.iloc[3] = b2015_4.loc[b2015_4['q'] == 1].groupby('v035')['parentesis'].sum()/ns.iloc[3]\n",
    "fgt2.iloc[4] = b2015_5.loc[b2015_5['q'] == 1].groupby('v035')['parentesis'].sum()/ns.iloc[4]\n",
    "fgt2.iloc[5] = b2015_6.loc[b2015_6['q'] == 1].groupby('v035')['parentesis'].sum()/ns.iloc[5]\n",
    "fgt2.iloc[6] = b2015_7.loc[b2015_7['q'] == 1].groupby('v035')['parentesis'].sum()/ns.iloc[6]\n",
    "fgt2.iloc[7] = b2015_8.loc[b2015_8['q'] == 1].groupby('v035')['parentesis'].sum()/ns.iloc[7]\n",
    "fgt2.iloc[8] = b2015_9.loc[b2015_9['q'] == 1].groupby('v035')['parentesis'].sum()/ns.iloc[8]\n",
    "fgt2.iloc[9] = b2015_10.loc[b2015_10['q'] == 1].groupby('v035')['parentesis'].sum()/ns.iloc[9]\n",
    "fgt2.iloc[10] = b2015_11.loc[b2015_11['q'] == 1].groupby('v035')['parentesis'].sum()/ns.iloc[10]\n",
    "fgt2.iloc[11] = b2015_12.loc[b2015_12['q'] == 1].groupby('v035')['parentesis'].sum()/ns.iloc[11]"
   ]
  },
  {
   "cell_type": "markdown",
   "metadata": {},
   "source": [
    "Índice de desigualdad de Atkinson\n",
    "$A_{\\epsilon}=1-\\frac{1}{\\mu}\\left(\\frac{1}{N}\\sum_{i=1}^{N}y_{i}^{1-\\epsilon}\\right)^{\\frac{1}{1-\\epsilon}}$"
   ]
  },
  {
   "cell_type": "code",
   "execution_count": 200,
   "metadata": {},
   "outputs": [],
   "source": [
    "mu = pd.DataFrame([np.zeros(6)], index=[1,2,3,4,5,6,7,8,9,10,11,12], columns=[26,29,31,33,35,43])"
   ]
  },
  {
   "cell_type": "code",
   "execution_count": 201,
   "metadata": {},
   "outputs": [],
   "source": [
    "mu.iloc[0] = b2015_1.groupby('v035')['ingr_defl'].mean()\n",
    "mu.iloc[1] = b2015_2.groupby('v035')['ingr_defl'].mean()\n",
    "mu.iloc[2] = b2015_3.groupby('v035')['ingr_defl'].mean()\n",
    "mu.iloc[3] = b2015_4.groupby('v035')['ingr_defl'].mean()\n",
    "mu.iloc[4] = b2015_5.groupby('v035')['ingr_defl'].mean()\n",
    "mu.iloc[5] = b2015_6.groupby('v035')['ingr_defl'].mean()\n",
    "mu.iloc[6] = b2015_7.groupby('v035')['ingr_defl'].mean()\n",
    "mu.iloc[7] = b2015_8.groupby('v035')['ingr_defl'].mean()\n",
    "mu.iloc[8] = b2015_9.groupby('v035')['ingr_defl'].mean()\n",
    "mu.iloc[9] = b2015_10.groupby('v035')['ingr_defl'].mean()\n",
    "mu.iloc[10] = b2015_11.groupby('v035')['ingr_defl'].mean()\n",
    "mu.iloc[11] = b2015_12.groupby('v035')['ingr_defl'].mean()"
   ]
  },
  {
   "cell_type": "markdown",
   "metadata": {},
   "source": [
    "A25"
   ]
  },
  {
   "cell_type": "code",
   "execution_count": 202,
   "metadata": {},
   "outputs": [],
   "source": [
    "a25 = pd.DataFrame([np.zeros(6)], index=[1,2,3,4,5,6,7,8,9,10,11,12], columns=[26,29,31,33,35,43])"
   ]
  },
  {
   "cell_type": "code",
   "execution_count": 203,
   "metadata": {},
   "outputs": [],
   "source": [
    "epsilon = 0.25"
   ]
  },
  {
   "cell_type": "code",
   "execution_count": 204,
   "metadata": {},
   "outputs": [
    {
     "name": "stderr",
     "output_type": "stream",
     "text": [
      "C:\\Users\\OscarJaramillo\\AppData\\Local\\Temp\\ipykernel_15460\\4109133927.py:3: SettingWithCopyWarning: \n",
      "A value is trying to be set on a copy of a slice from a DataFrame.\n",
      "Try using .loc[row_indexer,col_indexer] = value instead\n",
      "\n",
      "See the caveats in the documentation: https://pandas.pydata.org/pandas-docs/stable/user_guide/indexing.html#returning-a-view-versus-a-copy\n",
      "  b_df['ingreso_ep'] = b_df['ingr_defl']**(1-epsilon)\n",
      "C:\\Users\\OscarJaramillo\\AppData\\Local\\Temp\\ipykernel_15460\\4109133927.py:3: SettingWithCopyWarning: \n",
      "A value is trying to be set on a copy of a slice from a DataFrame.\n",
      "Try using .loc[row_indexer,col_indexer] = value instead\n",
      "\n",
      "See the caveats in the documentation: https://pandas.pydata.org/pandas-docs/stable/user_guide/indexing.html#returning-a-view-versus-a-copy\n",
      "  b_df['ingreso_ep'] = b_df['ingr_defl']**(1-epsilon)\n",
      "C:\\Users\\OscarJaramillo\\AppData\\Local\\Temp\\ipykernel_15460\\4109133927.py:3: SettingWithCopyWarning: \n",
      "A value is trying to be set on a copy of a slice from a DataFrame.\n",
      "Try using .loc[row_indexer,col_indexer] = value instead\n",
      "\n",
      "See the caveats in the documentation: https://pandas.pydata.org/pandas-docs/stable/user_guide/indexing.html#returning-a-view-versus-a-copy\n",
      "  b_df['ingreso_ep'] = b_df['ingr_defl']**(1-epsilon)\n",
      "C:\\Users\\OscarJaramillo\\AppData\\Local\\Temp\\ipykernel_15460\\4109133927.py:3: SettingWithCopyWarning: \n",
      "A value is trying to be set on a copy of a slice from a DataFrame.\n",
      "Try using .loc[row_indexer,col_indexer] = value instead\n",
      "\n",
      "See the caveats in the documentation: https://pandas.pydata.org/pandas-docs/stable/user_guide/indexing.html#returning-a-view-versus-a-copy\n",
      "  b_df['ingreso_ep'] = b_df['ingr_defl']**(1-epsilon)\n",
      "C:\\Users\\OscarJaramillo\\AppData\\Local\\Temp\\ipykernel_15460\\4109133927.py:3: SettingWithCopyWarning: \n",
      "A value is trying to be set on a copy of a slice from a DataFrame.\n",
      "Try using .loc[row_indexer,col_indexer] = value instead\n",
      "\n",
      "See the caveats in the documentation: https://pandas.pydata.org/pandas-docs/stable/user_guide/indexing.html#returning-a-view-versus-a-copy\n",
      "  b_df['ingreso_ep'] = b_df['ingr_defl']**(1-epsilon)\n",
      "C:\\Users\\OscarJaramillo\\AppData\\Local\\Temp\\ipykernel_15460\\4109133927.py:3: SettingWithCopyWarning: \n",
      "A value is trying to be set on a copy of a slice from a DataFrame.\n",
      "Try using .loc[row_indexer,col_indexer] = value instead\n",
      "\n",
      "See the caveats in the documentation: https://pandas.pydata.org/pandas-docs/stable/user_guide/indexing.html#returning-a-view-versus-a-copy\n",
      "  b_df['ingreso_ep'] = b_df['ingr_defl']**(1-epsilon)\n",
      "C:\\Users\\OscarJaramillo\\AppData\\Local\\Temp\\ipykernel_15460\\4109133927.py:3: SettingWithCopyWarning: \n",
      "A value is trying to be set on a copy of a slice from a DataFrame.\n",
      "Try using .loc[row_indexer,col_indexer] = value instead\n",
      "\n",
      "See the caveats in the documentation: https://pandas.pydata.org/pandas-docs/stable/user_guide/indexing.html#returning-a-view-versus-a-copy\n",
      "  b_df['ingreso_ep'] = b_df['ingr_defl']**(1-epsilon)\n",
      "C:\\Users\\OscarJaramillo\\AppData\\Local\\Temp\\ipykernel_15460\\4109133927.py:3: SettingWithCopyWarning: \n",
      "A value is trying to be set on a copy of a slice from a DataFrame.\n",
      "Try using .loc[row_indexer,col_indexer] = value instead\n",
      "\n",
      "See the caveats in the documentation: https://pandas.pydata.org/pandas-docs/stable/user_guide/indexing.html#returning-a-view-versus-a-copy\n",
      "  b_df['ingreso_ep'] = b_df['ingr_defl']**(1-epsilon)\n",
      "C:\\Users\\OscarJaramillo\\AppData\\Local\\Temp\\ipykernel_15460\\4109133927.py:3: SettingWithCopyWarning: \n",
      "A value is trying to be set on a copy of a slice from a DataFrame.\n",
      "Try using .loc[row_indexer,col_indexer] = value instead\n",
      "\n",
      "See the caveats in the documentation: https://pandas.pydata.org/pandas-docs/stable/user_guide/indexing.html#returning-a-view-versus-a-copy\n",
      "  b_df['ingreso_ep'] = b_df['ingr_defl']**(1-epsilon)\n",
      "C:\\Users\\OscarJaramillo\\AppData\\Local\\Temp\\ipykernel_15460\\4109133927.py:3: SettingWithCopyWarning: \n",
      "A value is trying to be set on a copy of a slice from a DataFrame.\n",
      "Try using .loc[row_indexer,col_indexer] = value instead\n",
      "\n",
      "See the caveats in the documentation: https://pandas.pydata.org/pandas-docs/stable/user_guide/indexing.html#returning-a-view-versus-a-copy\n",
      "  b_df['ingreso_ep'] = b_df['ingr_defl']**(1-epsilon)\n",
      "C:\\Users\\OscarJaramillo\\AppData\\Local\\Temp\\ipykernel_15460\\4109133927.py:3: SettingWithCopyWarning: \n",
      "A value is trying to be set on a copy of a slice from a DataFrame.\n",
      "Try using .loc[row_indexer,col_indexer] = value instead\n",
      "\n",
      "See the caveats in the documentation: https://pandas.pydata.org/pandas-docs/stable/user_guide/indexing.html#returning-a-view-versus-a-copy\n",
      "  b_df['ingreso_ep'] = b_df['ingr_defl']**(1-epsilon)\n",
      "C:\\Users\\OscarJaramillo\\AppData\\Local\\Temp\\ipykernel_15460\\4109133927.py:3: SettingWithCopyWarning: \n",
      "A value is trying to be set on a copy of a slice from a DataFrame.\n",
      "Try using .loc[row_indexer,col_indexer] = value instead\n",
      "\n",
      "See the caveats in the documentation: https://pandas.pydata.org/pandas-docs/stable/user_guide/indexing.html#returning-a-view-versus-a-copy\n",
      "  b_df['ingreso_ep'] = b_df['ingr_defl']**(1-epsilon)\n"
     ]
    }
   ],
   "source": [
    "for i in range(1, 13):\n",
    "    b_df = globals()[f'b2015_{i}']\n",
    "    b_df['ingreso_ep'] = b_df['ingr_defl']**(1-epsilon)"
   ]
  },
  {
   "cell_type": "code",
   "execution_count": 205,
   "metadata": {},
   "outputs": [],
   "source": [
    "a25.iloc[0] = 1-1/mu.iloc[0]*(b2015_1.groupby('v035')['ingreso_ep'].sum()/ns.iloc[0])**(1/(1-epsilon))\n",
    "a25.iloc[1] = 1-1/mu.iloc[1]*(b2015_2.groupby('v035')['ingreso_ep'].sum()/ns.iloc[1])**(1/(1-epsilon))\n",
    "a25.iloc[2] = 1-1/mu.iloc[2]*(b2015_3.groupby('v035')['ingreso_ep'].sum()/ns.iloc[2])**(1/(1-epsilon))\n",
    "a25.iloc[3] = 1-1/mu.iloc[3]*(b2015_4.groupby('v035')['ingreso_ep'].sum()/ns.iloc[3])**(1/(1-epsilon))\n",
    "a25.iloc[4] = 1-1/mu.iloc[4]*(b2015_5.groupby('v035')['ingreso_ep'].sum()/ns.iloc[4])**(1/(1-epsilon))\n",
    "a25.iloc[5] = 1-1/mu.iloc[5]*(b2015_6.groupby('v035')['ingreso_ep'].sum()/ns.iloc[5])**(1/(1-epsilon))\n",
    "a25.iloc[6] = 1-1/mu.iloc[6]*(b2015_7.groupby('v035')['ingreso_ep'].sum()/ns.iloc[6])**(1/(1-epsilon))\n",
    "a25.iloc[7] = 1-1/mu.iloc[7]*(b2015_8.groupby('v035')['ingreso_ep'].sum()/ns.iloc[7])**(1/(1-epsilon))\n",
    "a25.iloc[8] = 1-1/mu.iloc[8]*(b2015_9.groupby('v035')['ingreso_ep'].sum()/ns.iloc[8])**(1/(1-epsilon))\n",
    "a25.iloc[9] = 1-1/mu.iloc[9]*(b2015_10.groupby('v035')['ingreso_ep'].sum()/ns.iloc[9])**(1/(1-epsilon))\n",
    "a25.iloc[10] = 1-1/mu.iloc[10]*(b2015_11.groupby('v035')['ingreso_ep'].sum()/ns.iloc[10])**(1/(1-epsilon))\n",
    "a25.iloc[11] = 1-1/mu.iloc[11]*(b2015_12.groupby('v035')['ingreso_ep'].sum()/ns.iloc[11])**(1/(1-epsilon))"
   ]
  },
  {
   "cell_type": "markdown",
   "metadata": {},
   "source": [
    "A50"
   ]
  },
  {
   "cell_type": "code",
   "execution_count": 206,
   "metadata": {},
   "outputs": [],
   "source": [
    "a50 = pd.DataFrame([np.zeros(6)], index=[1,2,3,4,5,6,7,8,9,10,11,12], columns=[26,29,31,33,35,43])"
   ]
  },
  {
   "cell_type": "code",
   "execution_count": 207,
   "metadata": {},
   "outputs": [],
   "source": [
    "epsilon = 0.50"
   ]
  },
  {
   "cell_type": "code",
   "execution_count": 208,
   "metadata": {},
   "outputs": [
    {
     "name": "stderr",
     "output_type": "stream",
     "text": [
      "C:\\Users\\OscarJaramillo\\AppData\\Local\\Temp\\ipykernel_15460\\4109133927.py:3: SettingWithCopyWarning: \n",
      "A value is trying to be set on a copy of a slice from a DataFrame.\n",
      "Try using .loc[row_indexer,col_indexer] = value instead\n",
      "\n",
      "See the caveats in the documentation: https://pandas.pydata.org/pandas-docs/stable/user_guide/indexing.html#returning-a-view-versus-a-copy\n",
      "  b_df['ingreso_ep'] = b_df['ingr_defl']**(1-epsilon)\n"
     ]
    }
   ],
   "source": [
    "for i in range(1, 13):\n",
    "    b_df = globals()[f'b2015_{i}']\n",
    "    b_df['ingreso_ep'] = b_df['ingr_defl']**(1-epsilon)"
   ]
  },
  {
   "cell_type": "code",
   "execution_count": 209,
   "metadata": {},
   "outputs": [],
   "source": [
    "a50.iloc[0] = 1-1/mu.iloc[0]*(b2015_1.groupby('v035')['ingreso_ep'].sum()/ns.iloc[0])**(1/(1-epsilon))\n",
    "a50.iloc[1] = 1-1/mu.iloc[1]*(b2015_2.groupby('v035')['ingreso_ep'].sum()/ns.iloc[1])**(1/(1-epsilon))\n",
    "a50.iloc[2] = 1-1/mu.iloc[2]*(b2015_3.groupby('v035')['ingreso_ep'].sum()/ns.iloc[2])**(1/(1-epsilon))\n",
    "a50.iloc[3] = 1-1/mu.iloc[3]*(b2015_4.groupby('v035')['ingreso_ep'].sum()/ns.iloc[3])**(1/(1-epsilon))\n",
    "a50.iloc[4] = 1-1/mu.iloc[4]*(b2015_5.groupby('v035')['ingreso_ep'].sum()/ns.iloc[4])**(1/(1-epsilon))\n",
    "a50.iloc[5] = 1-1/mu.iloc[5]*(b2015_6.groupby('v035')['ingreso_ep'].sum()/ns.iloc[5])**(1/(1-epsilon))\n",
    "a50.iloc[6] = 1-1/mu.iloc[6]*(b2015_7.groupby('v035')['ingreso_ep'].sum()/ns.iloc[6])**(1/(1-epsilon))\n",
    "a50.iloc[7] = 1-1/mu.iloc[7]*(b2015_8.groupby('v035')['ingreso_ep'].sum()/ns.iloc[7])**(1/(1-epsilon))\n",
    "a50.iloc[8] = 1-1/mu.iloc[8]*(b2015_9.groupby('v035')['ingreso_ep'].sum()/ns.iloc[8])**(1/(1-epsilon))\n",
    "a50.iloc[9] = 1-1/mu.iloc[9]*(b2015_10.groupby('v035')['ingreso_ep'].sum()/ns.iloc[9])**(1/(1-epsilon))\n",
    "a50.iloc[10] = 1-1/mu.iloc[10]*(b2015_11.groupby('v035')['ingreso_ep'].sum()/ns.iloc[10])**(1/(1-epsilon))\n",
    "a50.iloc[11] = 1-1/mu.iloc[11]*(b2015_12.groupby('v035')['ingreso_ep'].sum()/ns.iloc[11])**(1/(1-epsilon))"
   ]
  },
  {
   "cell_type": "markdown",
   "metadata": {},
   "source": [
    "A75"
   ]
  },
  {
   "cell_type": "code",
   "execution_count": 210,
   "metadata": {},
   "outputs": [],
   "source": [
    "a75 = pd.DataFrame([np.zeros(6)], index=[1,2,3,4,5,6,7,8,9,10,11,12], columns=[26,29,31,33,35,43])"
   ]
  },
  {
   "cell_type": "code",
   "execution_count": 211,
   "metadata": {},
   "outputs": [],
   "source": [
    "epsilon = 0.75"
   ]
  },
  {
   "cell_type": "code",
   "execution_count": 212,
   "metadata": {},
   "outputs": [
    {
     "name": "stderr",
     "output_type": "stream",
     "text": [
      "C:\\Users\\OscarJaramillo\\AppData\\Local\\Temp\\ipykernel_15460\\4109133927.py:3: SettingWithCopyWarning: \n",
      "A value is trying to be set on a copy of a slice from a DataFrame.\n",
      "Try using .loc[row_indexer,col_indexer] = value instead\n",
      "\n",
      "See the caveats in the documentation: https://pandas.pydata.org/pandas-docs/stable/user_guide/indexing.html#returning-a-view-versus-a-copy\n",
      "  b_df['ingreso_ep'] = b_df['ingr_defl']**(1-epsilon)\n"
     ]
    }
   ],
   "source": [
    "for i in range(1, 13):\n",
    "    b_df = globals()[f'b2015_{i}']\n",
    "    b_df['ingreso_ep'] = b_df['ingr_defl']**(1-epsilon)"
   ]
  },
  {
   "cell_type": "code",
   "execution_count": 213,
   "metadata": {},
   "outputs": [],
   "source": [
    "a75.iloc[0] = 1-1/mu.iloc[0]*(b2015_1.groupby('v035')['ingreso_ep'].sum()/ns.iloc[0])**(1/(1-epsilon))\n",
    "a75.iloc[1] = 1-1/mu.iloc[1]*(b2015_2.groupby('v035')['ingreso_ep'].sum()/ns.iloc[1])**(1/(1-epsilon))\n",
    "a75.iloc[2] = 1-1/mu.iloc[2]*(b2015_3.groupby('v035')['ingreso_ep'].sum()/ns.iloc[2])**(1/(1-epsilon))\n",
    "a75.iloc[3] = 1-1/mu.iloc[3]*(b2015_4.groupby('v035')['ingreso_ep'].sum()/ns.iloc[3])**(1/(1-epsilon))\n",
    "a75.iloc[4] = 1-1/mu.iloc[4]*(b2015_5.groupby('v035')['ingreso_ep'].sum()/ns.iloc[4])**(1/(1-epsilon))\n",
    "a75.iloc[5] = 1-1/mu.iloc[5]*(b2015_6.groupby('v035')['ingreso_ep'].sum()/ns.iloc[5])**(1/(1-epsilon))\n",
    "a75.iloc[6] = 1-1/mu.iloc[6]*(b2015_7.groupby('v035')['ingreso_ep'].sum()/ns.iloc[6])**(1/(1-epsilon))\n",
    "a75.iloc[7] = 1-1/mu.iloc[7]*(b2015_8.groupby('v035')['ingreso_ep'].sum()/ns.iloc[7])**(1/(1-epsilon))\n",
    "a75.iloc[8] = 1-1/mu.iloc[8]*(b2015_9.groupby('v035')['ingreso_ep'].sum()/ns.iloc[8])**(1/(1-epsilon))\n",
    "a75.iloc[9] = 1-1/mu.iloc[9]*(b2015_10.groupby('v035')['ingreso_ep'].sum()/ns.iloc[9])**(1/(1-epsilon))\n",
    "a75.iloc[10] = 1-1/mu.iloc[10]*(b2015_11.groupby('v035')['ingreso_ep'].sum()/ns.iloc[10])**(1/(1-epsilon))\n",
    "a75.iloc[11] = 1-1/mu.iloc[11]*(b2015_12.groupby('v035')['ingreso_ep'].sum()/ns.iloc[11])**(1/(1-epsilon))"
   ]
  },
  {
   "cell_type": "markdown",
   "metadata": {},
   "source": [
    "Minimum wage"
   ]
  },
  {
   "cell_type": "code",
   "execution_count": 214,
   "metadata": {},
   "outputs": [],
   "source": [
    "mw = pd.read_csv('datos finales\\mw.csv')\n",
    "mw.set_index('Unnamed: 0', inplace=True)"
   ]
  },
  {
   "cell_type": "code",
   "execution_count": 215,
   "metadata": {},
   "outputs": [],
   "source": [
    "mw['mw'][2015] = (ano['vD26'] >= ano['v115']).sum() / len(ano)"
   ]
  },
  {
   "cell_type": "markdown",
   "metadata": {},
   "source": [
    "Importamos los datos anteriores"
   ]
  },
  {
   "cell_type": "code",
   "execution_count": 216,
   "metadata": {},
   "outputs": [],
   "source": [
    "a_mu = pd.read_csv('datos finales\\ingr_region_mes.csv')\n",
    "a_fgt0 = pd.read_csv(r'datos finales\\fgt0.csv')\n",
    "a_fgt1 = pd.read_csv(r'datos finales\\fgt1.csv')\n",
    "a_fgt2 = pd.read_csv(r'datos finales\\fgt2.csv')\n",
    "a_a25 = pd.read_csv(r'datos finales\\a25.csv')\n",
    "a_a50 = pd.read_csv(r'datos finales\\a50.csv')\n",
    "a_a75 = pd.read_csv(r'datos finales\\a75.csv')"
   ]
  },
  {
   "cell_type": "markdown",
   "metadata": {},
   "source": [
    "Unimos la base anterior con la nueva"
   ]
  },
  {
   "cell_type": "code",
   "execution_count": 217,
   "metadata": {},
   "outputs": [],
   "source": [
    "columns = mu.columns\n",
    "mu = mu.rename(columns={col: str(col) for col in columns})\n",
    "\n",
    "mu = pd.concat([a_mu, mu], ignore_index=True)"
   ]
  },
  {
   "cell_type": "code",
   "execution_count": 218,
   "metadata": {},
   "outputs": [],
   "source": [
    "columns = fgt0.columns\n",
    "fgt0 = fgt0.rename(columns={col: str(col) for col in columns})\n",
    "\n",
    "fgt0 = pd.concat([a_fgt0, fgt0], ignore_index=True)"
   ]
  },
  {
   "cell_type": "code",
   "execution_count": 219,
   "metadata": {},
   "outputs": [],
   "source": [
    "columns = fgt1.columns\n",
    "fgt1 = fgt1.rename(columns={col: str(col) for col in columns})\n",
    "\n",
    "fgt1 = pd.concat([a_fgt1, fgt1], ignore_index=True)"
   ]
  },
  {
   "cell_type": "code",
   "execution_count": 220,
   "metadata": {},
   "outputs": [],
   "source": [
    "columns = fgt2.columns\n",
    "fgt2 = fgt2.rename(columns={col: str(col) for col in columns})\n",
    "\n",
    "fgt2 = pd.concat([a_fgt2, fgt2], ignore_index=True)"
   ]
  },
  {
   "cell_type": "code",
   "execution_count": 221,
   "metadata": {},
   "outputs": [],
   "source": [
    "columns = a25.columns\n",
    "a25 = a25.rename(columns={col: str(col) for col in columns})\n",
    "\n",
    "a25 = pd.concat([a_a25, a25], ignore_index=True)"
   ]
  },
  {
   "cell_type": "code",
   "execution_count": 222,
   "metadata": {},
   "outputs": [],
   "source": [
    "columns = a50.columns\n",
    "a50 = a50.rename(columns={col: str(col) for col in columns})\n",
    "\n",
    "a50 = pd.concat([a_a50, a50], ignore_index=True)"
   ]
  },
  {
   "cell_type": "code",
   "execution_count": 223,
   "metadata": {},
   "outputs": [],
   "source": [
    "columns = a75.columns\n",
    "a75 = a75.rename(columns={col: str(col) for col in columns})\n",
    "\n",
    "a75 = pd.concat([a_a75, a75], ignore_index=True)"
   ]
  },
  {
   "cell_type": "markdown",
   "metadata": {},
   "source": [
    "Exportamos los datos"
   ]
  },
  {
   "cell_type": "code",
   "execution_count": 224,
   "metadata": {},
   "outputs": [],
   "source": [
    "mu.to_csv('datos finales\\ingr_region_mes.csv', index=False)\n",
    "fgt0.to_csv(r'datos finales\\fgt0.csv', index=False)\n",
    "fgt1.to_csv(r'datos finales\\fgt1.csv', index=False)\n",
    "fgt2.to_csv(r'datos finales\\fgt2.csv', index=False)\n",
    "a25.to_csv(r'datos finales\\a25.csv', index=False)\n",
    "a50.to_csv(r'datos finales\\a50.csv', index=False)\n",
    "a75.to_csv(r'datos finales\\a75.csv', index=False)\n",
    "mw.to_csv(r'datos finales\\mw.csv')"
   ]
  }
 ],
 "metadata": {
  "kernelspec": {
   "display_name": "Python 3",
   "language": "python",
   "name": "python3"
  },
  "language_info": {
   "codemirror_mode": {
    "name": "ipython",
    "version": 3
   },
   "file_extension": ".py",
   "mimetype": "text/x-python",
   "name": "python",
   "nbconvert_exporter": "python",
   "pygments_lexer": "ipython3",
   "version": "3.11.2"
  },
  "orig_nbformat": 4
 },
 "nbformat": 4,
 "nbformat_minor": 2
}
