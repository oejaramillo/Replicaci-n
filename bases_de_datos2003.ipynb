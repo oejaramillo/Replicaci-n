{
 "cells": [
  {
   "cell_type": "code",
   "execution_count": 50,
   "metadata": {},
   "outputs": [],
   "source": [
    "import numpy as np\n",
    "import pandas as pd\n",
    "import matplotlib.pyplot as plt"
   ]
  },
  {
   "cell_type": "markdown",
   "metadata": {},
   "source": [
    "Debido al problema que no permite extraer los datos de pmeantiga, vamos a utilizar solo los datos de pmenova"
   ]
  },
  {
   "cell_type": "code",
   "execution_count": 51,
   "metadata": {},
   "outputs": [],
   "source": [
    "ano = pd.read_csv(r'microdados\\datazoom\\pmenova\\2003_dz.csv')"
   ]
  },
  {
   "cell_type": "markdown",
   "metadata": {},
   "source": [
    "<h4>Segmentación</h4>\n",
    "<ul>\n",
    "<li>Mes = v070</li>\n",
    "<li>Región = v040</li>\n",
    "<li>Domicilio = v050</li>\n",
    "</ul>\n",
    "\n",
    "<h4>Variables a utilizar</h4>\n",
    "<ul>\n",
    "<li>Salario mínimo = v115</li>\n",
    "<li>Rendimiento mensual recibido en el mes de referencia, de todos sus trabajos = vD26</li>\n",
    "<li>Mes = v070</li>\n",
    "<li>Total de moradores = v209</li>\n",
    "<li>Moradores con 10 años o más = v210</li>\n",
    "</ul>"
   ]
  },
  {
   "cell_type": "markdown",
   "metadata": {},
   "source": [
    "### Equivalent Income"
   ]
  },
  {
   "cell_type": "markdown",
   "metadata": {},
   "source": [
    "Dividimos la base en meses"
   ]
  },
  {
   "cell_type": "code",
   "execution_count": 52,
   "metadata": {},
   "outputs": [],
   "source": [
    "b2003_1 = ano.loc[ano['v070'] == 1]\n",
    "b2003_2 = ano.loc[ano['v070'] == 2]\n",
    "b2003_3 = ano.loc[ano['v070'] == 3]\n",
    "b2003_4 = ano.loc[ano['v070'] == 4]\n",
    "b2003_5 = ano.loc[ano['v070'] == 5]\n",
    "b2003_6 = ano.loc[ano['v070'] == 6]\n",
    "b2003_7 = ano.loc[ano['v070'] == 7]\n",
    "b2003_8 = ano.loc[ano['v070'] == 8]\n",
    "b2003_9 = ano.loc[ano['v070'] == 9]\n",
    "b2003_10 = ano.loc[ano['v070'] == 10]\n",
    "b2003_11 = ano.loc[ano['v070'] == 11]\n",
    "b2003_12 = ano.loc[ano['v070'] == 12]"
   ]
  },
  {
   "cell_type": "markdown",
   "metadata": {},
   "source": [
    "Contamos las unidades de control para calcular tiempo de cómputo"
   ]
  },
  {
   "cell_type": "code",
   "execution_count": 53,
   "metadata": {},
   "outputs": [],
   "source": [
    "years = list(range(2003, 2016))\n",
    "months = list(range(1, 13))\n",
    "\n",
    "unidades_control = []\n",
    "for year in years:\n",
    "    for month in months:\n",
    "        unidades_control.append([year, month, None])\n",
    "\n",
    "columns = ['Ano', 'Mes', 'Control']\n",
    "control = pd.DataFrame(unidades_control, columns=columns)"
   ]
  },
  {
   "cell_type": "code",
   "execution_count": 54,
   "metadata": {},
   "outputs": [
    {
     "name": "stderr",
     "output_type": "stream",
     "text": [
      "C:\\Users\\OscarJaramillo\\AppData\\Local\\Temp\\ipykernel_25084\\3215422960.py:3: SettingWithCopyWarning: \n",
      "A value is trying to be set on a copy of a slice from a DataFrame\n",
      "\n",
      "See the caveats in the documentation: https://pandas.pydata.org/pandas-docs/stable/user_guide/indexing.html#returning-a-view-versus-a-copy\n",
      "  control['Control'][i-1] = len(b_i['v040'].unique())\n"
     ]
    }
   ],
   "source": [
    "for i in range(1, 13):\n",
    "    b_i = globals()[f'b2003_{i}']\n",
    "    control['Control'][i-1] = len(b_i['v040'].unique())"
   ]
  },
  {
   "cell_type": "markdown",
   "metadata": {},
   "source": [
    "Sumamos los ingresos por hogares, Los hogares son todas las observaciones únicas de v050 dentro de cada v040 "
   ]
  },
  {
   "cell_type": "code",
   "execution_count": 55,
   "metadata": {},
   "outputs": [
    {
     "name": "stderr",
     "output_type": "stream",
     "text": [
      "C:\\Users\\OscarJaramillo\\AppData\\Local\\Temp\\ipykernel_25084\\851622267.py:1: SettingWithCopyWarning: \n",
      "A value is trying to be set on a copy of a slice from a DataFrame.\n",
      "Try using .loc[row_indexer,col_indexer] = value instead\n",
      "\n",
      "See the caveats in the documentation: https://pandas.pydata.org/pandas-docs/stable/user_guide/indexing.html#returning-a-view-versus-a-copy\n",
      "  b2003_1['ingr_hogar'] = b2003_1.groupby(['v040','v050'])['vD26'].transform('sum')\n",
      "C:\\Users\\OscarJaramillo\\AppData\\Local\\Temp\\ipykernel_25084\\851622267.py:2: SettingWithCopyWarning: \n",
      "A value is trying to be set on a copy of a slice from a DataFrame.\n",
      "Try using .loc[row_indexer,col_indexer] = value instead\n",
      "\n",
      "See the caveats in the documentation: https://pandas.pydata.org/pandas-docs/stable/user_guide/indexing.html#returning-a-view-versus-a-copy\n",
      "  b2003_2['ingr_hogar'] = b2003_2.groupby(['v040','v050'])['vD26'].transform('sum')\n",
      "C:\\Users\\OscarJaramillo\\AppData\\Local\\Temp\\ipykernel_25084\\851622267.py:3: SettingWithCopyWarning: \n",
      "A value is trying to be set on a copy of a slice from a DataFrame.\n",
      "Try using .loc[row_indexer,col_indexer] = value instead\n",
      "\n",
      "See the caveats in the documentation: https://pandas.pydata.org/pandas-docs/stable/user_guide/indexing.html#returning-a-view-versus-a-copy\n",
      "  b2003_3['ingr_hogar'] = b2003_3.groupby(['v040','v050'])['vD26'].transform('sum')\n",
      "C:\\Users\\OscarJaramillo\\AppData\\Local\\Temp\\ipykernel_25084\\851622267.py:4: SettingWithCopyWarning: \n",
      "A value is trying to be set on a copy of a slice from a DataFrame.\n",
      "Try using .loc[row_indexer,col_indexer] = value instead\n",
      "\n",
      "See the caveats in the documentation: https://pandas.pydata.org/pandas-docs/stable/user_guide/indexing.html#returning-a-view-versus-a-copy\n",
      "  b2003_4['ingr_hogar'] = b2003_4.groupby(['v040','v050'])['vD26'].transform('sum')\n",
      "C:\\Users\\OscarJaramillo\\AppData\\Local\\Temp\\ipykernel_25084\\851622267.py:5: SettingWithCopyWarning: \n",
      "A value is trying to be set on a copy of a slice from a DataFrame.\n",
      "Try using .loc[row_indexer,col_indexer] = value instead\n",
      "\n",
      "See the caveats in the documentation: https://pandas.pydata.org/pandas-docs/stable/user_guide/indexing.html#returning-a-view-versus-a-copy\n",
      "  b2003_5['ingr_hogar'] = b2003_5.groupby(['v040','v050'])['vD26'].transform('sum')\n",
      "C:\\Users\\OscarJaramillo\\AppData\\Local\\Temp\\ipykernel_25084\\851622267.py:6: SettingWithCopyWarning: \n",
      "A value is trying to be set on a copy of a slice from a DataFrame.\n",
      "Try using .loc[row_indexer,col_indexer] = value instead\n",
      "\n",
      "See the caveats in the documentation: https://pandas.pydata.org/pandas-docs/stable/user_guide/indexing.html#returning-a-view-versus-a-copy\n",
      "  b2003_6['ingr_hogar'] = b2003_6.groupby(['v040','v050'])['vD26'].transform('sum')\n",
      "C:\\Users\\OscarJaramillo\\AppData\\Local\\Temp\\ipykernel_25084\\851622267.py:7: SettingWithCopyWarning: \n",
      "A value is trying to be set on a copy of a slice from a DataFrame.\n",
      "Try using .loc[row_indexer,col_indexer] = value instead\n",
      "\n",
      "See the caveats in the documentation: https://pandas.pydata.org/pandas-docs/stable/user_guide/indexing.html#returning-a-view-versus-a-copy\n",
      "  b2003_7['ingr_hogar'] = b2003_7.groupby(['v040','v050'])['vD26'].transform('sum')\n",
      "C:\\Users\\OscarJaramillo\\AppData\\Local\\Temp\\ipykernel_25084\\851622267.py:8: SettingWithCopyWarning: \n",
      "A value is trying to be set on a copy of a slice from a DataFrame.\n",
      "Try using .loc[row_indexer,col_indexer] = value instead\n",
      "\n",
      "See the caveats in the documentation: https://pandas.pydata.org/pandas-docs/stable/user_guide/indexing.html#returning-a-view-versus-a-copy\n",
      "  b2003_8['ingr_hogar'] = b2003_8.groupby(['v040','v050'])['vD26'].transform('sum')\n",
      "C:\\Users\\OscarJaramillo\\AppData\\Local\\Temp\\ipykernel_25084\\851622267.py:9: SettingWithCopyWarning: \n",
      "A value is trying to be set on a copy of a slice from a DataFrame.\n",
      "Try using .loc[row_indexer,col_indexer] = value instead\n",
      "\n",
      "See the caveats in the documentation: https://pandas.pydata.org/pandas-docs/stable/user_guide/indexing.html#returning-a-view-versus-a-copy\n",
      "  b2003_9['ingr_hogar'] = b2003_9.groupby(['v040','v050'])['vD26'].transform('sum')\n",
      "C:\\Users\\OscarJaramillo\\AppData\\Local\\Temp\\ipykernel_25084\\851622267.py:10: SettingWithCopyWarning: \n",
      "A value is trying to be set on a copy of a slice from a DataFrame.\n",
      "Try using .loc[row_indexer,col_indexer] = value instead\n",
      "\n",
      "See the caveats in the documentation: https://pandas.pydata.org/pandas-docs/stable/user_guide/indexing.html#returning-a-view-versus-a-copy\n",
      "  b2003_10['ingr_hogar'] = b2003_10.groupby(['v040','v050'])['vD26'].transform('sum')\n",
      "C:\\Users\\OscarJaramillo\\AppData\\Local\\Temp\\ipykernel_25084\\851622267.py:11: SettingWithCopyWarning: \n",
      "A value is trying to be set on a copy of a slice from a DataFrame.\n",
      "Try using .loc[row_indexer,col_indexer] = value instead\n",
      "\n",
      "See the caveats in the documentation: https://pandas.pydata.org/pandas-docs/stable/user_guide/indexing.html#returning-a-view-versus-a-copy\n",
      "  b2003_11['ingr_hogar'] = b2003_11.groupby(['v040','v050'])['vD26'].transform('sum')\n",
      "C:\\Users\\OscarJaramillo\\AppData\\Local\\Temp\\ipykernel_25084\\851622267.py:12: SettingWithCopyWarning: \n",
      "A value is trying to be set on a copy of a slice from a DataFrame.\n",
      "Try using .loc[row_indexer,col_indexer] = value instead\n",
      "\n",
      "See the caveats in the documentation: https://pandas.pydata.org/pandas-docs/stable/user_guide/indexing.html#returning-a-view-versus-a-copy\n",
      "  b2003_12['ingr_hogar'] = b2003_12.groupby(['v040','v050'])['vD26'].transform('sum')\n"
     ]
    }
   ],
   "source": [
    "b2003_1['ingr_hogar'] = b2003_1.groupby(['v040','v050'])['vD26'].transform('sum')\n",
    "b2003_2['ingr_hogar'] = b2003_2.groupby(['v040','v050'])['vD26'].transform('sum')\n",
    "b2003_3['ingr_hogar'] = b2003_3.groupby(['v040','v050'])['vD26'].transform('sum')\n",
    "b2003_4['ingr_hogar'] = b2003_4.groupby(['v040','v050'])['vD26'].transform('sum')\n",
    "b2003_5['ingr_hogar'] = b2003_5.groupby(['v040','v050'])['vD26'].transform('sum')\n",
    "b2003_6['ingr_hogar'] = b2003_6.groupby(['v040','v050'])['vD26'].transform('sum')\n",
    "b2003_7['ingr_hogar'] = b2003_7.groupby(['v040','v050'])['vD26'].transform('sum')\n",
    "b2003_8['ingr_hogar'] = b2003_8.groupby(['v040','v050'])['vD26'].transform('sum')\n",
    "b2003_9['ingr_hogar'] = b2003_9.groupby(['v040','v050'])['vD26'].transform('sum')\n",
    "b2003_10['ingr_hogar'] = b2003_10.groupby(['v040','v050'])['vD26'].transform('sum')\n",
    "b2003_11['ingr_hogar'] = b2003_11.groupby(['v040','v050'])['vD26'].transform('sum')\n",
    "b2003_12['ingr_hogar'] = b2003_12.groupby(['v040','v050'])['vD26'].transform('sum')"
   ]
  },
  {
   "cell_type": "markdown",
   "metadata": {},
   "source": [
    "Calculamos el número de niños como la diferencia de moradores del hogar menos moradores de menos de 10 años"
   ]
  },
  {
   "cell_type": "code",
   "execution_count": 56,
   "metadata": {},
   "outputs": [
    {
     "name": "stderr",
     "output_type": "stream",
     "text": [
      "C:\\Users\\OscarJaramillo\\AppData\\Local\\Temp\\ipykernel_25084\\494751613.py:1: SettingWithCopyWarning: \n",
      "A value is trying to be set on a copy of a slice from a DataFrame.\n",
      "Try using .loc[row_indexer,col_indexer] = value instead\n",
      "\n",
      "See the caveats in the documentation: https://pandas.pydata.org/pandas-docs/stable/user_guide/indexing.html#returning-a-view-versus-a-copy\n",
      "  b2003_1['ninos'] = b2003_1['v209'] - b2003_1['v210']\n",
      "C:\\Users\\OscarJaramillo\\AppData\\Local\\Temp\\ipykernel_25084\\494751613.py:2: SettingWithCopyWarning: \n",
      "A value is trying to be set on a copy of a slice from a DataFrame.\n",
      "Try using .loc[row_indexer,col_indexer] = value instead\n",
      "\n",
      "See the caveats in the documentation: https://pandas.pydata.org/pandas-docs/stable/user_guide/indexing.html#returning-a-view-versus-a-copy\n",
      "  b2003_2['ninos'] = b2003_2['v209'] - b2003_2['v210']\n",
      "C:\\Users\\OscarJaramillo\\AppData\\Local\\Temp\\ipykernel_25084\\494751613.py:3: SettingWithCopyWarning: \n",
      "A value is trying to be set on a copy of a slice from a DataFrame.\n",
      "Try using .loc[row_indexer,col_indexer] = value instead\n",
      "\n",
      "See the caveats in the documentation: https://pandas.pydata.org/pandas-docs/stable/user_guide/indexing.html#returning-a-view-versus-a-copy\n",
      "  b2003_3['ninos'] = b2003_3['v209'] - b2003_3['v210']\n",
      "C:\\Users\\OscarJaramillo\\AppData\\Local\\Temp\\ipykernel_25084\\494751613.py:4: SettingWithCopyWarning: \n",
      "A value is trying to be set on a copy of a slice from a DataFrame.\n",
      "Try using .loc[row_indexer,col_indexer] = value instead\n",
      "\n",
      "See the caveats in the documentation: https://pandas.pydata.org/pandas-docs/stable/user_guide/indexing.html#returning-a-view-versus-a-copy\n",
      "  b2003_4['ninos'] = b2003_4['v209'] - b2003_4['v210']\n",
      "C:\\Users\\OscarJaramillo\\AppData\\Local\\Temp\\ipykernel_25084\\494751613.py:5: SettingWithCopyWarning: \n",
      "A value is trying to be set on a copy of a slice from a DataFrame.\n",
      "Try using .loc[row_indexer,col_indexer] = value instead\n",
      "\n",
      "See the caveats in the documentation: https://pandas.pydata.org/pandas-docs/stable/user_guide/indexing.html#returning-a-view-versus-a-copy\n",
      "  b2003_5['ninos'] = b2003_5['v209'] - b2003_5['v210']\n",
      "C:\\Users\\OscarJaramillo\\AppData\\Local\\Temp\\ipykernel_25084\\494751613.py:6: SettingWithCopyWarning: \n",
      "A value is trying to be set on a copy of a slice from a DataFrame.\n",
      "Try using .loc[row_indexer,col_indexer] = value instead\n",
      "\n",
      "See the caveats in the documentation: https://pandas.pydata.org/pandas-docs/stable/user_guide/indexing.html#returning-a-view-versus-a-copy\n",
      "  b2003_6['ninos'] = b2003_6['v209'] - b2003_6['v210']\n",
      "C:\\Users\\OscarJaramillo\\AppData\\Local\\Temp\\ipykernel_25084\\494751613.py:7: SettingWithCopyWarning: \n",
      "A value is trying to be set on a copy of a slice from a DataFrame.\n",
      "Try using .loc[row_indexer,col_indexer] = value instead\n",
      "\n",
      "See the caveats in the documentation: https://pandas.pydata.org/pandas-docs/stable/user_guide/indexing.html#returning-a-view-versus-a-copy\n",
      "  b2003_7['ninos'] = b2003_7['v209'] - b2003_7['v210']\n",
      "C:\\Users\\OscarJaramillo\\AppData\\Local\\Temp\\ipykernel_25084\\494751613.py:8: SettingWithCopyWarning: \n",
      "A value is trying to be set on a copy of a slice from a DataFrame.\n",
      "Try using .loc[row_indexer,col_indexer] = value instead\n",
      "\n",
      "See the caveats in the documentation: https://pandas.pydata.org/pandas-docs/stable/user_guide/indexing.html#returning-a-view-versus-a-copy\n",
      "  b2003_8['ninos'] = b2003_8['v209'] - b2003_8['v210']\n",
      "C:\\Users\\OscarJaramillo\\AppData\\Local\\Temp\\ipykernel_25084\\494751613.py:9: SettingWithCopyWarning: \n",
      "A value is trying to be set on a copy of a slice from a DataFrame.\n",
      "Try using .loc[row_indexer,col_indexer] = value instead\n",
      "\n",
      "See the caveats in the documentation: https://pandas.pydata.org/pandas-docs/stable/user_guide/indexing.html#returning-a-view-versus-a-copy\n",
      "  b2003_9['ninos'] = b2003_9['v209'] - b2003_9['v210']\n",
      "C:\\Users\\OscarJaramillo\\AppData\\Local\\Temp\\ipykernel_25084\\494751613.py:10: SettingWithCopyWarning: \n",
      "A value is trying to be set on a copy of a slice from a DataFrame.\n",
      "Try using .loc[row_indexer,col_indexer] = value instead\n",
      "\n",
      "See the caveats in the documentation: https://pandas.pydata.org/pandas-docs/stable/user_guide/indexing.html#returning-a-view-versus-a-copy\n",
      "  b2003_10['ninos'] = b2003_10['v209'] - b2003_10['v210']\n",
      "C:\\Users\\OscarJaramillo\\AppData\\Local\\Temp\\ipykernel_25084\\494751613.py:11: SettingWithCopyWarning: \n",
      "A value is trying to be set on a copy of a slice from a DataFrame.\n",
      "Try using .loc[row_indexer,col_indexer] = value instead\n",
      "\n",
      "See the caveats in the documentation: https://pandas.pydata.org/pandas-docs/stable/user_guide/indexing.html#returning-a-view-versus-a-copy\n",
      "  b2003_11['ninos'] = b2003_11['v209'] - b2003_11['v210']\n",
      "C:\\Users\\OscarJaramillo\\AppData\\Local\\Temp\\ipykernel_25084\\494751613.py:12: SettingWithCopyWarning: \n",
      "A value is trying to be set on a copy of a slice from a DataFrame.\n",
      "Try using .loc[row_indexer,col_indexer] = value instead\n",
      "\n",
      "See the caveats in the documentation: https://pandas.pydata.org/pandas-docs/stable/user_guide/indexing.html#returning-a-view-versus-a-copy\n",
      "  b2003_12['ninos'] = b2003_12['v209'] - b2003_12['v210']\n"
     ]
    }
   ],
   "source": [
    "b2003_1['ninos'] = b2003_1['v209'] - b2003_1['v210']\n",
    "b2003_2['ninos'] = b2003_2['v209'] - b2003_2['v210']\n",
    "b2003_3['ninos'] = b2003_3['v209'] - b2003_3['v210']\n",
    "b2003_4['ninos'] = b2003_4['v209'] - b2003_4['v210']\n",
    "b2003_5['ninos'] = b2003_5['v209'] - b2003_5['v210']\n",
    "b2003_6['ninos'] = b2003_6['v209'] - b2003_6['v210']\n",
    "b2003_7['ninos'] = b2003_7['v209'] - b2003_7['v210']\n",
    "b2003_8['ninos'] = b2003_8['v209'] - b2003_8['v210']\n",
    "b2003_9['ninos'] = b2003_9['v209'] - b2003_9['v210']\n",
    "b2003_10['ninos'] = b2003_10['v209'] - b2003_10['v210']\n",
    "b2003_11['ninos'] = b2003_11['v209'] - b2003_11['v210']\n",
    "b2003_12['ninos'] = b2003_12['v209'] - b2003_12['v210']"
   ]
  },
  {
   "cell_type": "markdown",
   "metadata": {},
   "source": [
    "Calculamos ingreso individual con la fórmula del autor dividiendo el ingreso del hogar para la escala $(A_{i}+kC_{i})^{s}$"
   ]
  },
  {
   "cell_type": "code",
   "execution_count": 57,
   "metadata": {},
   "outputs": [],
   "source": [
    "k = 0.4\n",
    "s = 0.9"
   ]
  },
  {
   "cell_type": "code",
   "execution_count": 58,
   "metadata": {},
   "outputs": [
    {
     "name": "stderr",
     "output_type": "stream",
     "text": [
      "C:\\Users\\OscarJaramillo\\AppData\\Local\\Temp\\ipykernel_25084\\1272181411.py:3: SettingWithCopyWarning: \n",
      "A value is trying to be set on a copy of a slice from a DataFrame.\n",
      "Try using .loc[row_indexer,col_indexer] = value instead\n",
      "\n",
      "See the caveats in the documentation: https://pandas.pydata.org/pandas-docs/stable/user_guide/indexing.html#returning-a-view-versus-a-copy\n",
      "  b_df['ingr'] = b_df['ingr_hogar'] / (b_df['v210'] + k * b_df['ninos'])**s\n",
      "C:\\Users\\OscarJaramillo\\AppData\\Local\\Temp\\ipykernel_25084\\1272181411.py:3: SettingWithCopyWarning: \n",
      "A value is trying to be set on a copy of a slice from a DataFrame.\n",
      "Try using .loc[row_indexer,col_indexer] = value instead\n",
      "\n",
      "See the caveats in the documentation: https://pandas.pydata.org/pandas-docs/stable/user_guide/indexing.html#returning-a-view-versus-a-copy\n",
      "  b_df['ingr'] = b_df['ingr_hogar'] / (b_df['v210'] + k * b_df['ninos'])**s\n",
      "C:\\Users\\OscarJaramillo\\AppData\\Local\\Temp\\ipykernel_25084\\1272181411.py:3: SettingWithCopyWarning: \n",
      "A value is trying to be set on a copy of a slice from a DataFrame.\n",
      "Try using .loc[row_indexer,col_indexer] = value instead\n",
      "\n",
      "See the caveats in the documentation: https://pandas.pydata.org/pandas-docs/stable/user_guide/indexing.html#returning-a-view-versus-a-copy\n",
      "  b_df['ingr'] = b_df['ingr_hogar'] / (b_df['v210'] + k * b_df['ninos'])**s\n",
      "C:\\Users\\OscarJaramillo\\AppData\\Local\\Temp\\ipykernel_25084\\1272181411.py:3: SettingWithCopyWarning: \n",
      "A value is trying to be set on a copy of a slice from a DataFrame.\n",
      "Try using .loc[row_indexer,col_indexer] = value instead\n",
      "\n",
      "See the caveats in the documentation: https://pandas.pydata.org/pandas-docs/stable/user_guide/indexing.html#returning-a-view-versus-a-copy\n",
      "  b_df['ingr'] = b_df['ingr_hogar'] / (b_df['v210'] + k * b_df['ninos'])**s\n",
      "C:\\Users\\OscarJaramillo\\AppData\\Local\\Temp\\ipykernel_25084\\1272181411.py:3: SettingWithCopyWarning: \n",
      "A value is trying to be set on a copy of a slice from a DataFrame.\n",
      "Try using .loc[row_indexer,col_indexer] = value instead\n",
      "\n",
      "See the caveats in the documentation: https://pandas.pydata.org/pandas-docs/stable/user_guide/indexing.html#returning-a-view-versus-a-copy\n",
      "  b_df['ingr'] = b_df['ingr_hogar'] / (b_df['v210'] + k * b_df['ninos'])**s\n",
      "C:\\Users\\OscarJaramillo\\AppData\\Local\\Temp\\ipykernel_25084\\1272181411.py:3: SettingWithCopyWarning: \n",
      "A value is trying to be set on a copy of a slice from a DataFrame.\n",
      "Try using .loc[row_indexer,col_indexer] = value instead\n",
      "\n",
      "See the caveats in the documentation: https://pandas.pydata.org/pandas-docs/stable/user_guide/indexing.html#returning-a-view-versus-a-copy\n",
      "  b_df['ingr'] = b_df['ingr_hogar'] / (b_df['v210'] + k * b_df['ninos'])**s\n",
      "C:\\Users\\OscarJaramillo\\AppData\\Local\\Temp\\ipykernel_25084\\1272181411.py:3: SettingWithCopyWarning: \n",
      "A value is trying to be set on a copy of a slice from a DataFrame.\n",
      "Try using .loc[row_indexer,col_indexer] = value instead\n",
      "\n",
      "See the caveats in the documentation: https://pandas.pydata.org/pandas-docs/stable/user_guide/indexing.html#returning-a-view-versus-a-copy\n",
      "  b_df['ingr'] = b_df['ingr_hogar'] / (b_df['v210'] + k * b_df['ninos'])**s\n",
      "C:\\Users\\OscarJaramillo\\AppData\\Local\\Temp\\ipykernel_25084\\1272181411.py:3: SettingWithCopyWarning: \n",
      "A value is trying to be set on a copy of a slice from a DataFrame.\n",
      "Try using .loc[row_indexer,col_indexer] = value instead\n",
      "\n",
      "See the caveats in the documentation: https://pandas.pydata.org/pandas-docs/stable/user_guide/indexing.html#returning-a-view-versus-a-copy\n",
      "  b_df['ingr'] = b_df['ingr_hogar'] / (b_df['v210'] + k * b_df['ninos'])**s\n",
      "C:\\Users\\OscarJaramillo\\AppData\\Local\\Temp\\ipykernel_25084\\1272181411.py:3: SettingWithCopyWarning: \n",
      "A value is trying to be set on a copy of a slice from a DataFrame.\n",
      "Try using .loc[row_indexer,col_indexer] = value instead\n",
      "\n",
      "See the caveats in the documentation: https://pandas.pydata.org/pandas-docs/stable/user_guide/indexing.html#returning-a-view-versus-a-copy\n",
      "  b_df['ingr'] = b_df['ingr_hogar'] / (b_df['v210'] + k * b_df['ninos'])**s\n",
      "C:\\Users\\OscarJaramillo\\AppData\\Local\\Temp\\ipykernel_25084\\1272181411.py:3: SettingWithCopyWarning: \n",
      "A value is trying to be set on a copy of a slice from a DataFrame.\n",
      "Try using .loc[row_indexer,col_indexer] = value instead\n",
      "\n",
      "See the caveats in the documentation: https://pandas.pydata.org/pandas-docs/stable/user_guide/indexing.html#returning-a-view-versus-a-copy\n",
      "  b_df['ingr'] = b_df['ingr_hogar'] / (b_df['v210'] + k * b_df['ninos'])**s\n",
      "C:\\Users\\OscarJaramillo\\AppData\\Local\\Temp\\ipykernel_25084\\1272181411.py:3: SettingWithCopyWarning: \n",
      "A value is trying to be set on a copy of a slice from a DataFrame.\n",
      "Try using .loc[row_indexer,col_indexer] = value instead\n",
      "\n",
      "See the caveats in the documentation: https://pandas.pydata.org/pandas-docs/stable/user_guide/indexing.html#returning-a-view-versus-a-copy\n",
      "  b_df['ingr'] = b_df['ingr_hogar'] / (b_df['v210'] + k * b_df['ninos'])**s\n",
      "C:\\Users\\OscarJaramillo\\AppData\\Local\\Temp\\ipykernel_25084\\1272181411.py:3: SettingWithCopyWarning: \n",
      "A value is trying to be set on a copy of a slice from a DataFrame.\n",
      "Try using .loc[row_indexer,col_indexer] = value instead\n",
      "\n",
      "See the caveats in the documentation: https://pandas.pydata.org/pandas-docs/stable/user_guide/indexing.html#returning-a-view-versus-a-copy\n",
      "  b_df['ingr'] = b_df['ingr_hogar'] / (b_df['v210'] + k * b_df['ninos'])**s\n"
     ]
    }
   ],
   "source": [
    "for i in range(1, 13):\n",
    "    b_df = globals()[f'b2003_{i}']\n",
    "    b_df['ingr'] = b_df['ingr_hogar'] / (b_df['v210'] + k * b_df['ninos'])**s"
   ]
  },
  {
   "cell_type": "code",
   "execution_count": 59,
   "metadata": {},
   "outputs": [
    {
     "name": "stderr",
     "output_type": "stream",
     "text": [
      "C:\\Users\\OscarJaramillo\\AppData\\Local\\Temp\\ipykernel_25084\\2336448422.py:3: SettingWithCopyWarning: \n",
      "A value is trying to be set on a copy of a slice from a DataFrame.\n",
      "Try using .loc[row_indexer,col_indexer] = value instead\n",
      "\n",
      "See the caveats in the documentation: https://pandas.pydata.org/pandas-docs/stable/user_guide/indexing.html#returning-a-view-versus-a-copy\n",
      "  b_df['ingr_ind'] = b_df['ingr'] / b_df['v209']\n",
      "C:\\Users\\OscarJaramillo\\AppData\\Local\\Temp\\ipykernel_25084\\2336448422.py:3: SettingWithCopyWarning: \n",
      "A value is trying to be set on a copy of a slice from a DataFrame.\n",
      "Try using .loc[row_indexer,col_indexer] = value instead\n",
      "\n",
      "See the caveats in the documentation: https://pandas.pydata.org/pandas-docs/stable/user_guide/indexing.html#returning-a-view-versus-a-copy\n",
      "  b_df['ingr_ind'] = b_df['ingr'] / b_df['v209']\n",
      "C:\\Users\\OscarJaramillo\\AppData\\Local\\Temp\\ipykernel_25084\\2336448422.py:3: SettingWithCopyWarning: \n",
      "A value is trying to be set on a copy of a slice from a DataFrame.\n",
      "Try using .loc[row_indexer,col_indexer] = value instead\n",
      "\n",
      "See the caveats in the documentation: https://pandas.pydata.org/pandas-docs/stable/user_guide/indexing.html#returning-a-view-versus-a-copy\n",
      "  b_df['ingr_ind'] = b_df['ingr'] / b_df['v209']\n",
      "C:\\Users\\OscarJaramillo\\AppData\\Local\\Temp\\ipykernel_25084\\2336448422.py:3: SettingWithCopyWarning: \n",
      "A value is trying to be set on a copy of a slice from a DataFrame.\n",
      "Try using .loc[row_indexer,col_indexer] = value instead\n",
      "\n",
      "See the caveats in the documentation: https://pandas.pydata.org/pandas-docs/stable/user_guide/indexing.html#returning-a-view-versus-a-copy\n",
      "  b_df['ingr_ind'] = b_df['ingr'] / b_df['v209']\n",
      "C:\\Users\\OscarJaramillo\\AppData\\Local\\Temp\\ipykernel_25084\\2336448422.py:3: SettingWithCopyWarning: \n",
      "A value is trying to be set on a copy of a slice from a DataFrame.\n",
      "Try using .loc[row_indexer,col_indexer] = value instead\n",
      "\n",
      "See the caveats in the documentation: https://pandas.pydata.org/pandas-docs/stable/user_guide/indexing.html#returning-a-view-versus-a-copy\n",
      "  b_df['ingr_ind'] = b_df['ingr'] / b_df['v209']\n",
      "C:\\Users\\OscarJaramillo\\AppData\\Local\\Temp\\ipykernel_25084\\2336448422.py:3: SettingWithCopyWarning: \n",
      "A value is trying to be set on a copy of a slice from a DataFrame.\n",
      "Try using .loc[row_indexer,col_indexer] = value instead\n",
      "\n",
      "See the caveats in the documentation: https://pandas.pydata.org/pandas-docs/stable/user_guide/indexing.html#returning-a-view-versus-a-copy\n",
      "  b_df['ingr_ind'] = b_df['ingr'] / b_df['v209']\n",
      "C:\\Users\\OscarJaramillo\\AppData\\Local\\Temp\\ipykernel_25084\\2336448422.py:3: SettingWithCopyWarning: \n",
      "A value is trying to be set on a copy of a slice from a DataFrame.\n",
      "Try using .loc[row_indexer,col_indexer] = value instead\n",
      "\n",
      "See the caveats in the documentation: https://pandas.pydata.org/pandas-docs/stable/user_guide/indexing.html#returning-a-view-versus-a-copy\n",
      "  b_df['ingr_ind'] = b_df['ingr'] / b_df['v209']\n",
      "C:\\Users\\OscarJaramillo\\AppData\\Local\\Temp\\ipykernel_25084\\2336448422.py:3: SettingWithCopyWarning: \n",
      "A value is trying to be set on a copy of a slice from a DataFrame.\n",
      "Try using .loc[row_indexer,col_indexer] = value instead\n",
      "\n",
      "See the caveats in the documentation: https://pandas.pydata.org/pandas-docs/stable/user_guide/indexing.html#returning-a-view-versus-a-copy\n",
      "  b_df['ingr_ind'] = b_df['ingr'] / b_df['v209']\n",
      "C:\\Users\\OscarJaramillo\\AppData\\Local\\Temp\\ipykernel_25084\\2336448422.py:3: SettingWithCopyWarning: \n",
      "A value is trying to be set on a copy of a slice from a DataFrame.\n",
      "Try using .loc[row_indexer,col_indexer] = value instead\n",
      "\n",
      "See the caveats in the documentation: https://pandas.pydata.org/pandas-docs/stable/user_guide/indexing.html#returning-a-view-versus-a-copy\n",
      "  b_df['ingr_ind'] = b_df['ingr'] / b_df['v209']\n",
      "C:\\Users\\OscarJaramillo\\AppData\\Local\\Temp\\ipykernel_25084\\2336448422.py:3: SettingWithCopyWarning: \n",
      "A value is trying to be set on a copy of a slice from a DataFrame.\n",
      "Try using .loc[row_indexer,col_indexer] = value instead\n",
      "\n",
      "See the caveats in the documentation: https://pandas.pydata.org/pandas-docs/stable/user_guide/indexing.html#returning-a-view-versus-a-copy\n",
      "  b_df['ingr_ind'] = b_df['ingr'] / b_df['v209']\n",
      "C:\\Users\\OscarJaramillo\\AppData\\Local\\Temp\\ipykernel_25084\\2336448422.py:3: SettingWithCopyWarning: \n",
      "A value is trying to be set on a copy of a slice from a DataFrame.\n",
      "Try using .loc[row_indexer,col_indexer] = value instead\n",
      "\n",
      "See the caveats in the documentation: https://pandas.pydata.org/pandas-docs/stable/user_guide/indexing.html#returning-a-view-versus-a-copy\n",
      "  b_df['ingr_ind'] = b_df['ingr'] / b_df['v209']\n",
      "C:\\Users\\OscarJaramillo\\AppData\\Local\\Temp\\ipykernel_25084\\2336448422.py:3: SettingWithCopyWarning: \n",
      "A value is trying to be set on a copy of a slice from a DataFrame.\n",
      "Try using .loc[row_indexer,col_indexer] = value instead\n",
      "\n",
      "See the caveats in the documentation: https://pandas.pydata.org/pandas-docs/stable/user_guide/indexing.html#returning-a-view-versus-a-copy\n",
      "  b_df['ingr_ind'] = b_df['ingr'] / b_df['v209']\n"
     ]
    }
   ],
   "source": [
    "for i in range(1, 13):\n",
    "    b_df = globals()[f'b2003_{i}']\n",
    "    b_df['ingr_ind'] = b_df['ingr'] / b_df['v209']"
   ]
  },
  {
   "cell_type": "markdown",
   "metadata": {},
   "source": [
    "Deflactamos el ingreso"
   ]
  },
  {
   "cell_type": "code",
   "execution_count": 60,
   "metadata": {},
   "outputs": [],
   "source": [
    "defl = pd.read_csv('datos finales\\defl.csv')"
   ]
  },
  {
   "cell_type": "code",
   "execution_count": 61,
   "metadata": {},
   "outputs": [
    {
     "name": "stderr",
     "output_type": "stream",
     "text": [
      "C:\\Users\\OscarJaramillo\\AppData\\Local\\Temp\\ipykernel_25084\\2097394762.py:1: SettingWithCopyWarning: \n",
      "A value is trying to be set on a copy of a slice from a DataFrame.\n",
      "Try using .loc[row_indexer,col_indexer] = value instead\n",
      "\n",
      "See the caveats in the documentation: https://pandas.pydata.org/pandas-docs/stable/user_guide/indexing.html#returning-a-view-versus-a-copy\n",
      "  b2003_1['defl'] = defl['defl'][101]\n",
      "C:\\Users\\OscarJaramillo\\AppData\\Local\\Temp\\ipykernel_25084\\2097394762.py:2: SettingWithCopyWarning: \n",
      "A value is trying to be set on a copy of a slice from a DataFrame.\n",
      "Try using .loc[row_indexer,col_indexer] = value instead\n",
      "\n",
      "See the caveats in the documentation: https://pandas.pydata.org/pandas-docs/stable/user_guide/indexing.html#returning-a-view-versus-a-copy\n",
      "  b2003_2['defl'] = defl['defl'][102]\n",
      "C:\\Users\\OscarJaramillo\\AppData\\Local\\Temp\\ipykernel_25084\\2097394762.py:3: SettingWithCopyWarning: \n",
      "A value is trying to be set on a copy of a slice from a DataFrame.\n",
      "Try using .loc[row_indexer,col_indexer] = value instead\n",
      "\n",
      "See the caveats in the documentation: https://pandas.pydata.org/pandas-docs/stable/user_guide/indexing.html#returning-a-view-versus-a-copy\n",
      "  b2003_3['defl'] = defl['defl'][103]\n",
      "C:\\Users\\OscarJaramillo\\AppData\\Local\\Temp\\ipykernel_25084\\2097394762.py:4: SettingWithCopyWarning: \n",
      "A value is trying to be set on a copy of a slice from a DataFrame.\n",
      "Try using .loc[row_indexer,col_indexer] = value instead\n",
      "\n",
      "See the caveats in the documentation: https://pandas.pydata.org/pandas-docs/stable/user_guide/indexing.html#returning-a-view-versus-a-copy\n",
      "  b2003_4['defl'] = defl['defl'][104]\n",
      "C:\\Users\\OscarJaramillo\\AppData\\Local\\Temp\\ipykernel_25084\\2097394762.py:5: SettingWithCopyWarning: \n",
      "A value is trying to be set on a copy of a slice from a DataFrame.\n",
      "Try using .loc[row_indexer,col_indexer] = value instead\n",
      "\n",
      "See the caveats in the documentation: https://pandas.pydata.org/pandas-docs/stable/user_guide/indexing.html#returning-a-view-versus-a-copy\n",
      "  b2003_5['defl'] = defl['defl'][105]\n",
      "C:\\Users\\OscarJaramillo\\AppData\\Local\\Temp\\ipykernel_25084\\2097394762.py:6: SettingWithCopyWarning: \n",
      "A value is trying to be set on a copy of a slice from a DataFrame.\n",
      "Try using .loc[row_indexer,col_indexer] = value instead\n",
      "\n",
      "See the caveats in the documentation: https://pandas.pydata.org/pandas-docs/stable/user_guide/indexing.html#returning-a-view-versus-a-copy\n",
      "  b2003_6['defl'] = defl['defl'][106]\n",
      "C:\\Users\\OscarJaramillo\\AppData\\Local\\Temp\\ipykernel_25084\\2097394762.py:7: SettingWithCopyWarning: \n",
      "A value is trying to be set on a copy of a slice from a DataFrame.\n",
      "Try using .loc[row_indexer,col_indexer] = value instead\n",
      "\n",
      "See the caveats in the documentation: https://pandas.pydata.org/pandas-docs/stable/user_guide/indexing.html#returning-a-view-versus-a-copy\n",
      "  b2003_7['defl'] = defl['defl'][107]\n",
      "C:\\Users\\OscarJaramillo\\AppData\\Local\\Temp\\ipykernel_25084\\2097394762.py:8: SettingWithCopyWarning: \n",
      "A value is trying to be set on a copy of a slice from a DataFrame.\n",
      "Try using .loc[row_indexer,col_indexer] = value instead\n",
      "\n",
      "See the caveats in the documentation: https://pandas.pydata.org/pandas-docs/stable/user_guide/indexing.html#returning-a-view-versus-a-copy\n",
      "  b2003_8['defl'] = defl['defl'][108]\n",
      "C:\\Users\\OscarJaramillo\\AppData\\Local\\Temp\\ipykernel_25084\\2097394762.py:9: SettingWithCopyWarning: \n",
      "A value is trying to be set on a copy of a slice from a DataFrame.\n",
      "Try using .loc[row_indexer,col_indexer] = value instead\n",
      "\n",
      "See the caveats in the documentation: https://pandas.pydata.org/pandas-docs/stable/user_guide/indexing.html#returning-a-view-versus-a-copy\n",
      "  b2003_9['defl'] = defl['defl'][109]\n",
      "C:\\Users\\OscarJaramillo\\AppData\\Local\\Temp\\ipykernel_25084\\2097394762.py:10: SettingWithCopyWarning: \n",
      "A value is trying to be set on a copy of a slice from a DataFrame.\n",
      "Try using .loc[row_indexer,col_indexer] = value instead\n",
      "\n",
      "See the caveats in the documentation: https://pandas.pydata.org/pandas-docs/stable/user_guide/indexing.html#returning-a-view-versus-a-copy\n",
      "  b2003_10['defl'] = defl['defl'][110]\n",
      "C:\\Users\\OscarJaramillo\\AppData\\Local\\Temp\\ipykernel_25084\\2097394762.py:11: SettingWithCopyWarning: \n",
      "A value is trying to be set on a copy of a slice from a DataFrame.\n",
      "Try using .loc[row_indexer,col_indexer] = value instead\n",
      "\n",
      "See the caveats in the documentation: https://pandas.pydata.org/pandas-docs/stable/user_guide/indexing.html#returning-a-view-versus-a-copy\n",
      "  b2003_11['defl'] = defl['defl'][111]\n",
      "C:\\Users\\OscarJaramillo\\AppData\\Local\\Temp\\ipykernel_25084\\2097394762.py:12: SettingWithCopyWarning: \n",
      "A value is trying to be set on a copy of a slice from a DataFrame.\n",
      "Try using .loc[row_indexer,col_indexer] = value instead\n",
      "\n",
      "See the caveats in the documentation: https://pandas.pydata.org/pandas-docs/stable/user_guide/indexing.html#returning-a-view-versus-a-copy\n",
      "  b2003_12['defl'] = defl['defl'][112]\n"
     ]
    }
   ],
   "source": [
    "b2003_1['defl'] = defl['defl'][101]\n",
    "b2003_2['defl'] = defl['defl'][102]\n",
    "b2003_3['defl'] = defl['defl'][103]\n",
    "b2003_4['defl'] = defl['defl'][104]\n",
    "b2003_5['defl'] = defl['defl'][105]\n",
    "b2003_6['defl'] = defl['defl'][106]\n",
    "b2003_7['defl'] = defl['defl'][107]\n",
    "b2003_8['defl'] = defl['defl'][108]\n",
    "b2003_9['defl'] = defl['defl'][109]\n",
    "b2003_10['defl'] = defl['defl'][110]\n",
    "b2003_11['defl'] = defl['defl'][111]\n",
    "b2003_12['defl'] = defl['defl'][112]"
   ]
  },
  {
   "cell_type": "code",
   "execution_count": 62,
   "metadata": {},
   "outputs": [
    {
     "name": "stderr",
     "output_type": "stream",
     "text": [
      "C:\\Users\\OscarJaramillo\\AppData\\Local\\Temp\\ipykernel_25084\\218260436.py:3: SettingWithCopyWarning: \n",
      "A value is trying to be set on a copy of a slice from a DataFrame.\n",
      "Try using .loc[row_indexer,col_indexer] = value instead\n",
      "\n",
      "See the caveats in the documentation: https://pandas.pydata.org/pandas-docs/stable/user_guide/indexing.html#returning-a-view-versus-a-copy\n",
      "  b_df['ingr_defl'] = b_df['ingr_ind'] / b_df['defl']\n",
      "C:\\Users\\OscarJaramillo\\AppData\\Local\\Temp\\ipykernel_25084\\218260436.py:3: SettingWithCopyWarning: \n",
      "A value is trying to be set on a copy of a slice from a DataFrame.\n",
      "Try using .loc[row_indexer,col_indexer] = value instead\n",
      "\n",
      "See the caveats in the documentation: https://pandas.pydata.org/pandas-docs/stable/user_guide/indexing.html#returning-a-view-versus-a-copy\n",
      "  b_df['ingr_defl'] = b_df['ingr_ind'] / b_df['defl']\n",
      "C:\\Users\\OscarJaramillo\\AppData\\Local\\Temp\\ipykernel_25084\\218260436.py:3: SettingWithCopyWarning: \n",
      "A value is trying to be set on a copy of a slice from a DataFrame.\n",
      "Try using .loc[row_indexer,col_indexer] = value instead\n",
      "\n",
      "See the caveats in the documentation: https://pandas.pydata.org/pandas-docs/stable/user_guide/indexing.html#returning-a-view-versus-a-copy\n",
      "  b_df['ingr_defl'] = b_df['ingr_ind'] / b_df['defl']\n",
      "C:\\Users\\OscarJaramillo\\AppData\\Local\\Temp\\ipykernel_25084\\218260436.py:3: SettingWithCopyWarning: \n",
      "A value is trying to be set on a copy of a slice from a DataFrame.\n",
      "Try using .loc[row_indexer,col_indexer] = value instead\n",
      "\n",
      "See the caveats in the documentation: https://pandas.pydata.org/pandas-docs/stable/user_guide/indexing.html#returning-a-view-versus-a-copy\n",
      "  b_df['ingr_defl'] = b_df['ingr_ind'] / b_df['defl']\n",
      "C:\\Users\\OscarJaramillo\\AppData\\Local\\Temp\\ipykernel_25084\\218260436.py:3: SettingWithCopyWarning: \n",
      "A value is trying to be set on a copy of a slice from a DataFrame.\n",
      "Try using .loc[row_indexer,col_indexer] = value instead\n",
      "\n",
      "See the caveats in the documentation: https://pandas.pydata.org/pandas-docs/stable/user_guide/indexing.html#returning-a-view-versus-a-copy\n",
      "  b_df['ingr_defl'] = b_df['ingr_ind'] / b_df['defl']\n",
      "C:\\Users\\OscarJaramillo\\AppData\\Local\\Temp\\ipykernel_25084\\218260436.py:3: SettingWithCopyWarning: \n",
      "A value is trying to be set on a copy of a slice from a DataFrame.\n",
      "Try using .loc[row_indexer,col_indexer] = value instead\n",
      "\n",
      "See the caveats in the documentation: https://pandas.pydata.org/pandas-docs/stable/user_guide/indexing.html#returning-a-view-versus-a-copy\n",
      "  b_df['ingr_defl'] = b_df['ingr_ind'] / b_df['defl']\n",
      "C:\\Users\\OscarJaramillo\\AppData\\Local\\Temp\\ipykernel_25084\\218260436.py:3: SettingWithCopyWarning: \n",
      "A value is trying to be set on a copy of a slice from a DataFrame.\n",
      "Try using .loc[row_indexer,col_indexer] = value instead\n",
      "\n",
      "See the caveats in the documentation: https://pandas.pydata.org/pandas-docs/stable/user_guide/indexing.html#returning-a-view-versus-a-copy\n",
      "  b_df['ingr_defl'] = b_df['ingr_ind'] / b_df['defl']\n",
      "C:\\Users\\OscarJaramillo\\AppData\\Local\\Temp\\ipykernel_25084\\218260436.py:3: SettingWithCopyWarning: \n",
      "A value is trying to be set on a copy of a slice from a DataFrame.\n",
      "Try using .loc[row_indexer,col_indexer] = value instead\n",
      "\n",
      "See the caveats in the documentation: https://pandas.pydata.org/pandas-docs/stable/user_guide/indexing.html#returning-a-view-versus-a-copy\n",
      "  b_df['ingr_defl'] = b_df['ingr_ind'] / b_df['defl']\n",
      "C:\\Users\\OscarJaramillo\\AppData\\Local\\Temp\\ipykernel_25084\\218260436.py:3: SettingWithCopyWarning: \n",
      "A value is trying to be set on a copy of a slice from a DataFrame.\n",
      "Try using .loc[row_indexer,col_indexer] = value instead\n",
      "\n",
      "See the caveats in the documentation: https://pandas.pydata.org/pandas-docs/stable/user_guide/indexing.html#returning-a-view-versus-a-copy\n",
      "  b_df['ingr_defl'] = b_df['ingr_ind'] / b_df['defl']\n",
      "C:\\Users\\OscarJaramillo\\AppData\\Local\\Temp\\ipykernel_25084\\218260436.py:3: SettingWithCopyWarning: \n",
      "A value is trying to be set on a copy of a slice from a DataFrame.\n",
      "Try using .loc[row_indexer,col_indexer] = value instead\n",
      "\n",
      "See the caveats in the documentation: https://pandas.pydata.org/pandas-docs/stable/user_guide/indexing.html#returning-a-view-versus-a-copy\n",
      "  b_df['ingr_defl'] = b_df['ingr_ind'] / b_df['defl']\n",
      "C:\\Users\\OscarJaramillo\\AppData\\Local\\Temp\\ipykernel_25084\\218260436.py:3: SettingWithCopyWarning: \n",
      "A value is trying to be set on a copy of a slice from a DataFrame.\n",
      "Try using .loc[row_indexer,col_indexer] = value instead\n",
      "\n",
      "See the caveats in the documentation: https://pandas.pydata.org/pandas-docs/stable/user_guide/indexing.html#returning-a-view-versus-a-copy\n",
      "  b_df['ingr_defl'] = b_df['ingr_ind'] / b_df['defl']\n",
      "C:\\Users\\OscarJaramillo\\AppData\\Local\\Temp\\ipykernel_25084\\218260436.py:3: SettingWithCopyWarning: \n",
      "A value is trying to be set on a copy of a slice from a DataFrame.\n",
      "Try using .loc[row_indexer,col_indexer] = value instead\n",
      "\n",
      "See the caveats in the documentation: https://pandas.pydata.org/pandas-docs/stable/user_guide/indexing.html#returning-a-view-versus-a-copy\n",
      "  b_df['ingr_defl'] = b_df['ingr_ind'] / b_df['defl']\n"
     ]
    }
   ],
   "source": [
    "for i in range(1, 13):\n",
    "    b_df = globals()[f'b2003_{i}']\n",
    "    b_df['ingr_defl'] = b_df['ingr_ind'] / b_df['defl']"
   ]
  },
  {
   "cell_type": "markdown",
   "metadata": {},
   "source": [
    "### Índices"
   ]
  },
  {
   "cell_type": "markdown",
   "metadata": {},
   "source": [
    "Umbrales de pobreza por región"
   ]
  },
  {
   "cell_type": "code",
   "execution_count": 63,
   "metadata": {},
   "outputs": [],
   "source": [
    "pobr = {\n",
    "    26: 98.72,\n",
    "    29: 92.37,\n",
    "    31: 82.11,\n",
    "    33: 99.21,\n",
    "    35: 119.55,\n",
    "    43: 62.28\n",
    "}"
   ]
  },
  {
   "cell_type": "code",
   "execution_count": 64,
   "metadata": {},
   "outputs": [
    {
     "name": "stderr",
     "output_type": "stream",
     "text": [
      "C:\\Users\\OscarJaramillo\\AppData\\Local\\Temp\\ipykernel_25084\\2414813017.py:3: SettingWithCopyWarning: \n",
      "A value is trying to be set on a copy of a slice from a DataFrame.\n",
      "Try using .loc[row_indexer,col_indexer] = value instead\n",
      "\n",
      "See the caveats in the documentation: https://pandas.pydata.org/pandas-docs/stable/user_guide/indexing.html#returning-a-view-versus-a-copy\n",
      "  b_df['um_pobr'] = b_df['v035'].map(pobr)\n",
      "C:\\Users\\OscarJaramillo\\AppData\\Local\\Temp\\ipykernel_25084\\2414813017.py:3: SettingWithCopyWarning: \n",
      "A value is trying to be set on a copy of a slice from a DataFrame.\n",
      "Try using .loc[row_indexer,col_indexer] = value instead\n",
      "\n",
      "See the caveats in the documentation: https://pandas.pydata.org/pandas-docs/stable/user_guide/indexing.html#returning-a-view-versus-a-copy\n",
      "  b_df['um_pobr'] = b_df['v035'].map(pobr)\n",
      "C:\\Users\\OscarJaramillo\\AppData\\Local\\Temp\\ipykernel_25084\\2414813017.py:3: SettingWithCopyWarning: \n",
      "A value is trying to be set on a copy of a slice from a DataFrame.\n",
      "Try using .loc[row_indexer,col_indexer] = value instead\n",
      "\n",
      "See the caveats in the documentation: https://pandas.pydata.org/pandas-docs/stable/user_guide/indexing.html#returning-a-view-versus-a-copy\n",
      "  b_df['um_pobr'] = b_df['v035'].map(pobr)\n",
      "C:\\Users\\OscarJaramillo\\AppData\\Local\\Temp\\ipykernel_25084\\2414813017.py:3: SettingWithCopyWarning: \n",
      "A value is trying to be set on a copy of a slice from a DataFrame.\n",
      "Try using .loc[row_indexer,col_indexer] = value instead\n",
      "\n",
      "See the caveats in the documentation: https://pandas.pydata.org/pandas-docs/stable/user_guide/indexing.html#returning-a-view-versus-a-copy\n",
      "  b_df['um_pobr'] = b_df['v035'].map(pobr)\n",
      "C:\\Users\\OscarJaramillo\\AppData\\Local\\Temp\\ipykernel_25084\\2414813017.py:3: SettingWithCopyWarning: \n",
      "A value is trying to be set on a copy of a slice from a DataFrame.\n",
      "Try using .loc[row_indexer,col_indexer] = value instead\n",
      "\n",
      "See the caveats in the documentation: https://pandas.pydata.org/pandas-docs/stable/user_guide/indexing.html#returning-a-view-versus-a-copy\n",
      "  b_df['um_pobr'] = b_df['v035'].map(pobr)\n",
      "C:\\Users\\OscarJaramillo\\AppData\\Local\\Temp\\ipykernel_25084\\2414813017.py:3: SettingWithCopyWarning: \n",
      "A value is trying to be set on a copy of a slice from a DataFrame.\n",
      "Try using .loc[row_indexer,col_indexer] = value instead\n",
      "\n",
      "See the caveats in the documentation: https://pandas.pydata.org/pandas-docs/stable/user_guide/indexing.html#returning-a-view-versus-a-copy\n",
      "  b_df['um_pobr'] = b_df['v035'].map(pobr)\n",
      "C:\\Users\\OscarJaramillo\\AppData\\Local\\Temp\\ipykernel_25084\\2414813017.py:3: SettingWithCopyWarning: \n",
      "A value is trying to be set on a copy of a slice from a DataFrame.\n",
      "Try using .loc[row_indexer,col_indexer] = value instead\n",
      "\n",
      "See the caveats in the documentation: https://pandas.pydata.org/pandas-docs/stable/user_guide/indexing.html#returning-a-view-versus-a-copy\n",
      "  b_df['um_pobr'] = b_df['v035'].map(pobr)\n",
      "C:\\Users\\OscarJaramillo\\AppData\\Local\\Temp\\ipykernel_25084\\2414813017.py:3: SettingWithCopyWarning: \n",
      "A value is trying to be set on a copy of a slice from a DataFrame.\n",
      "Try using .loc[row_indexer,col_indexer] = value instead\n",
      "\n",
      "See the caveats in the documentation: https://pandas.pydata.org/pandas-docs/stable/user_guide/indexing.html#returning-a-view-versus-a-copy\n",
      "  b_df['um_pobr'] = b_df['v035'].map(pobr)\n",
      "C:\\Users\\OscarJaramillo\\AppData\\Local\\Temp\\ipykernel_25084\\2414813017.py:3: SettingWithCopyWarning: \n",
      "A value is trying to be set on a copy of a slice from a DataFrame.\n",
      "Try using .loc[row_indexer,col_indexer] = value instead\n",
      "\n",
      "See the caveats in the documentation: https://pandas.pydata.org/pandas-docs/stable/user_guide/indexing.html#returning-a-view-versus-a-copy\n",
      "  b_df['um_pobr'] = b_df['v035'].map(pobr)\n",
      "C:\\Users\\OscarJaramillo\\AppData\\Local\\Temp\\ipykernel_25084\\2414813017.py:3: SettingWithCopyWarning: \n",
      "A value is trying to be set on a copy of a slice from a DataFrame.\n",
      "Try using .loc[row_indexer,col_indexer] = value instead\n",
      "\n",
      "See the caveats in the documentation: https://pandas.pydata.org/pandas-docs/stable/user_guide/indexing.html#returning-a-view-versus-a-copy\n",
      "  b_df['um_pobr'] = b_df['v035'].map(pobr)\n",
      "C:\\Users\\OscarJaramillo\\AppData\\Local\\Temp\\ipykernel_25084\\2414813017.py:3: SettingWithCopyWarning: \n",
      "A value is trying to be set on a copy of a slice from a DataFrame.\n",
      "Try using .loc[row_indexer,col_indexer] = value instead\n",
      "\n",
      "See the caveats in the documentation: https://pandas.pydata.org/pandas-docs/stable/user_guide/indexing.html#returning-a-view-versus-a-copy\n",
      "  b_df['um_pobr'] = b_df['v035'].map(pobr)\n",
      "C:\\Users\\OscarJaramillo\\AppData\\Local\\Temp\\ipykernel_25084\\2414813017.py:3: SettingWithCopyWarning: \n",
      "A value is trying to be set on a copy of a slice from a DataFrame.\n",
      "Try using .loc[row_indexer,col_indexer] = value instead\n",
      "\n",
      "See the caveats in the documentation: https://pandas.pydata.org/pandas-docs/stable/user_guide/indexing.html#returning-a-view-versus-a-copy\n",
      "  b_df['um_pobr'] = b_df['v035'].map(pobr)\n"
     ]
    }
   ],
   "source": [
    "for i in range(1, 13):\n",
    "    b_df = globals()[f'b2003_{i}']\n",
    "    b_df['um_pobr'] = b_df['v035'].map(pobr)"
   ]
  },
  {
   "cell_type": "markdown",
   "metadata": {},
   "source": [
    "Índice de Foster-Greer-Thorbecke\n",
    "\n",
    "$FGT_{\\alpha}=\\frac{1}{N}\\sum_{i=1}^{H}\\left(\\frac{z-y_{i}}{z}\\right)^{\\alpha}$"
   ]
  },
  {
   "cell_type": "code",
   "execution_count": 65,
   "metadata": {},
   "outputs": [],
   "source": [
    "alpha = 0"
   ]
  },
  {
   "cell_type": "code",
   "execution_count": 66,
   "metadata": {},
   "outputs": [],
   "source": [
    "qs = pd.DataFrame([np.zeros(6)], index=[1,2,3,4,5,6,7,8,9,10,11,12], columns=[26,29,31,33,35,43]) #Cantidad de personas pobres\n",
    "ns = pd.DataFrame([np.zeros(6)], index=[1,2,3,4,5,6,7,8,9,10,11,12], columns=[26,29,31,33,35,43]) #Cantidad de personas total"
   ]
  },
  {
   "cell_type": "code",
   "execution_count": 67,
   "metadata": {},
   "outputs": [
    {
     "name": "stderr",
     "output_type": "stream",
     "text": [
      "C:\\Users\\OscarJaramillo\\AppData\\Local\\Temp\\ipykernel_25084\\2685003909.py:3: SettingWithCopyWarning: \n",
      "A value is trying to be set on a copy of a slice from a DataFrame.\n",
      "Try using .loc[row_indexer,col_indexer] = value instead\n",
      "\n",
      "See the caveats in the documentation: https://pandas.pydata.org/pandas-docs/stable/user_guide/indexing.html#returning-a-view-versus-a-copy\n",
      "  b_df['g'] = b_df['um_pobr'] - b_df['ingr_defl']\n",
      "C:\\Users\\OscarJaramillo\\AppData\\Local\\Temp\\ipykernel_25084\\2685003909.py:3: SettingWithCopyWarning: \n",
      "A value is trying to be set on a copy of a slice from a DataFrame.\n",
      "Try using .loc[row_indexer,col_indexer] = value instead\n",
      "\n",
      "See the caveats in the documentation: https://pandas.pydata.org/pandas-docs/stable/user_guide/indexing.html#returning-a-view-versus-a-copy\n",
      "  b_df['g'] = b_df['um_pobr'] - b_df['ingr_defl']\n",
      "C:\\Users\\OscarJaramillo\\AppData\\Local\\Temp\\ipykernel_25084\\2685003909.py:3: SettingWithCopyWarning: \n",
      "A value is trying to be set on a copy of a slice from a DataFrame.\n",
      "Try using .loc[row_indexer,col_indexer] = value instead\n",
      "\n",
      "See the caveats in the documentation: https://pandas.pydata.org/pandas-docs/stable/user_guide/indexing.html#returning-a-view-versus-a-copy\n",
      "  b_df['g'] = b_df['um_pobr'] - b_df['ingr_defl']\n",
      "C:\\Users\\OscarJaramillo\\AppData\\Local\\Temp\\ipykernel_25084\\2685003909.py:3: SettingWithCopyWarning: \n",
      "A value is trying to be set on a copy of a slice from a DataFrame.\n",
      "Try using .loc[row_indexer,col_indexer] = value instead\n",
      "\n",
      "See the caveats in the documentation: https://pandas.pydata.org/pandas-docs/stable/user_guide/indexing.html#returning-a-view-versus-a-copy\n",
      "  b_df['g'] = b_df['um_pobr'] - b_df['ingr_defl']\n",
      "C:\\Users\\OscarJaramillo\\AppData\\Local\\Temp\\ipykernel_25084\\2685003909.py:3: SettingWithCopyWarning: \n",
      "A value is trying to be set on a copy of a slice from a DataFrame.\n",
      "Try using .loc[row_indexer,col_indexer] = value instead\n",
      "\n",
      "See the caveats in the documentation: https://pandas.pydata.org/pandas-docs/stable/user_guide/indexing.html#returning-a-view-versus-a-copy\n",
      "  b_df['g'] = b_df['um_pobr'] - b_df['ingr_defl']\n",
      "C:\\Users\\OscarJaramillo\\AppData\\Local\\Temp\\ipykernel_25084\\2685003909.py:3: SettingWithCopyWarning: \n",
      "A value is trying to be set on a copy of a slice from a DataFrame.\n",
      "Try using .loc[row_indexer,col_indexer] = value instead\n",
      "\n",
      "See the caveats in the documentation: https://pandas.pydata.org/pandas-docs/stable/user_guide/indexing.html#returning-a-view-versus-a-copy\n",
      "  b_df['g'] = b_df['um_pobr'] - b_df['ingr_defl']\n",
      "C:\\Users\\OscarJaramillo\\AppData\\Local\\Temp\\ipykernel_25084\\2685003909.py:3: SettingWithCopyWarning: \n",
      "A value is trying to be set on a copy of a slice from a DataFrame.\n",
      "Try using .loc[row_indexer,col_indexer] = value instead\n",
      "\n",
      "See the caveats in the documentation: https://pandas.pydata.org/pandas-docs/stable/user_guide/indexing.html#returning-a-view-versus-a-copy\n",
      "  b_df['g'] = b_df['um_pobr'] - b_df['ingr_defl']\n",
      "C:\\Users\\OscarJaramillo\\AppData\\Local\\Temp\\ipykernel_25084\\2685003909.py:3: SettingWithCopyWarning: \n",
      "A value is trying to be set on a copy of a slice from a DataFrame.\n",
      "Try using .loc[row_indexer,col_indexer] = value instead\n",
      "\n",
      "See the caveats in the documentation: https://pandas.pydata.org/pandas-docs/stable/user_guide/indexing.html#returning-a-view-versus-a-copy\n",
      "  b_df['g'] = b_df['um_pobr'] - b_df['ingr_defl']\n",
      "C:\\Users\\OscarJaramillo\\AppData\\Local\\Temp\\ipykernel_25084\\2685003909.py:3: SettingWithCopyWarning: \n",
      "A value is trying to be set on a copy of a slice from a DataFrame.\n",
      "Try using .loc[row_indexer,col_indexer] = value instead\n",
      "\n",
      "See the caveats in the documentation: https://pandas.pydata.org/pandas-docs/stable/user_guide/indexing.html#returning-a-view-versus-a-copy\n",
      "  b_df['g'] = b_df['um_pobr'] - b_df['ingr_defl']\n",
      "C:\\Users\\OscarJaramillo\\AppData\\Local\\Temp\\ipykernel_25084\\2685003909.py:3: SettingWithCopyWarning: \n",
      "A value is trying to be set on a copy of a slice from a DataFrame.\n",
      "Try using .loc[row_indexer,col_indexer] = value instead\n",
      "\n",
      "See the caveats in the documentation: https://pandas.pydata.org/pandas-docs/stable/user_guide/indexing.html#returning-a-view-versus-a-copy\n",
      "  b_df['g'] = b_df['um_pobr'] - b_df['ingr_defl']\n",
      "C:\\Users\\OscarJaramillo\\AppData\\Local\\Temp\\ipykernel_25084\\2685003909.py:3: SettingWithCopyWarning: \n",
      "A value is trying to be set on a copy of a slice from a DataFrame.\n",
      "Try using .loc[row_indexer,col_indexer] = value instead\n",
      "\n",
      "See the caveats in the documentation: https://pandas.pydata.org/pandas-docs/stable/user_guide/indexing.html#returning-a-view-versus-a-copy\n",
      "  b_df['g'] = b_df['um_pobr'] - b_df['ingr_defl']\n",
      "C:\\Users\\OscarJaramillo\\AppData\\Local\\Temp\\ipykernel_25084\\2685003909.py:3: SettingWithCopyWarning: \n",
      "A value is trying to be set on a copy of a slice from a DataFrame.\n",
      "Try using .loc[row_indexer,col_indexer] = value instead\n",
      "\n",
      "See the caveats in the documentation: https://pandas.pydata.org/pandas-docs/stable/user_guide/indexing.html#returning-a-view-versus-a-copy\n",
      "  b_df['g'] = b_df['um_pobr'] - b_df['ingr_defl']\n"
     ]
    }
   ],
   "source": [
    "for i in range(1, 13):\n",
    "    b_df = globals()[f'b2003_{i}']\n",
    "    b_df['g'] = b_df['um_pobr'] - b_df['ingr_defl']"
   ]
  },
  {
   "cell_type": "code",
   "execution_count": 68,
   "metadata": {},
   "outputs": [
    {
     "name": "stderr",
     "output_type": "stream",
     "text": [
      "C:\\Users\\OscarJaramillo\\AppData\\Local\\Temp\\ipykernel_25084\\488001130.py:3: SettingWithCopyWarning: \n",
      "A value is trying to be set on a copy of a slice from a DataFrame.\n",
      "Try using .loc[row_indexer,col_indexer] = value instead\n",
      "\n",
      "See the caveats in the documentation: https://pandas.pydata.org/pandas-docs/stable/user_guide/indexing.html#returning-a-view-versus-a-copy\n",
      "  b_df['q'] = b_df['g'].apply(lambda x: 1 if x > 0 else 0)\n",
      "C:\\Users\\OscarJaramillo\\AppData\\Local\\Temp\\ipykernel_25084\\488001130.py:3: SettingWithCopyWarning: \n",
      "A value is trying to be set on a copy of a slice from a DataFrame.\n",
      "Try using .loc[row_indexer,col_indexer] = value instead\n",
      "\n",
      "See the caveats in the documentation: https://pandas.pydata.org/pandas-docs/stable/user_guide/indexing.html#returning-a-view-versus-a-copy\n",
      "  b_df['q'] = b_df['g'].apply(lambda x: 1 if x > 0 else 0)\n",
      "C:\\Users\\OscarJaramillo\\AppData\\Local\\Temp\\ipykernel_25084\\488001130.py:3: SettingWithCopyWarning: \n",
      "A value is trying to be set on a copy of a slice from a DataFrame.\n",
      "Try using .loc[row_indexer,col_indexer] = value instead\n",
      "\n",
      "See the caveats in the documentation: https://pandas.pydata.org/pandas-docs/stable/user_guide/indexing.html#returning-a-view-versus-a-copy\n",
      "  b_df['q'] = b_df['g'].apply(lambda x: 1 if x > 0 else 0)\n",
      "C:\\Users\\OscarJaramillo\\AppData\\Local\\Temp\\ipykernel_25084\\488001130.py:3: SettingWithCopyWarning: \n",
      "A value is trying to be set on a copy of a slice from a DataFrame.\n",
      "Try using .loc[row_indexer,col_indexer] = value instead\n",
      "\n",
      "See the caveats in the documentation: https://pandas.pydata.org/pandas-docs/stable/user_guide/indexing.html#returning-a-view-versus-a-copy\n",
      "  b_df['q'] = b_df['g'].apply(lambda x: 1 if x > 0 else 0)\n",
      "C:\\Users\\OscarJaramillo\\AppData\\Local\\Temp\\ipykernel_25084\\488001130.py:3: SettingWithCopyWarning: \n",
      "A value is trying to be set on a copy of a slice from a DataFrame.\n",
      "Try using .loc[row_indexer,col_indexer] = value instead\n",
      "\n",
      "See the caveats in the documentation: https://pandas.pydata.org/pandas-docs/stable/user_guide/indexing.html#returning-a-view-versus-a-copy\n",
      "  b_df['q'] = b_df['g'].apply(lambda x: 1 if x > 0 else 0)\n",
      "C:\\Users\\OscarJaramillo\\AppData\\Local\\Temp\\ipykernel_25084\\488001130.py:3: SettingWithCopyWarning: \n",
      "A value is trying to be set on a copy of a slice from a DataFrame.\n",
      "Try using .loc[row_indexer,col_indexer] = value instead\n",
      "\n",
      "See the caveats in the documentation: https://pandas.pydata.org/pandas-docs/stable/user_guide/indexing.html#returning-a-view-versus-a-copy\n",
      "  b_df['q'] = b_df['g'].apply(lambda x: 1 if x > 0 else 0)\n",
      "C:\\Users\\OscarJaramillo\\AppData\\Local\\Temp\\ipykernel_25084\\488001130.py:3: SettingWithCopyWarning: \n",
      "A value is trying to be set on a copy of a slice from a DataFrame.\n",
      "Try using .loc[row_indexer,col_indexer] = value instead\n",
      "\n",
      "See the caveats in the documentation: https://pandas.pydata.org/pandas-docs/stable/user_guide/indexing.html#returning-a-view-versus-a-copy\n",
      "  b_df['q'] = b_df['g'].apply(lambda x: 1 if x > 0 else 0)\n",
      "C:\\Users\\OscarJaramillo\\AppData\\Local\\Temp\\ipykernel_25084\\488001130.py:3: SettingWithCopyWarning: \n",
      "A value is trying to be set on a copy of a slice from a DataFrame.\n",
      "Try using .loc[row_indexer,col_indexer] = value instead\n",
      "\n",
      "See the caveats in the documentation: https://pandas.pydata.org/pandas-docs/stable/user_guide/indexing.html#returning-a-view-versus-a-copy\n",
      "  b_df['q'] = b_df['g'].apply(lambda x: 1 if x > 0 else 0)\n",
      "C:\\Users\\OscarJaramillo\\AppData\\Local\\Temp\\ipykernel_25084\\488001130.py:3: SettingWithCopyWarning: \n",
      "A value is trying to be set on a copy of a slice from a DataFrame.\n",
      "Try using .loc[row_indexer,col_indexer] = value instead\n",
      "\n",
      "See the caveats in the documentation: https://pandas.pydata.org/pandas-docs/stable/user_guide/indexing.html#returning-a-view-versus-a-copy\n",
      "  b_df['q'] = b_df['g'].apply(lambda x: 1 if x > 0 else 0)\n",
      "C:\\Users\\OscarJaramillo\\AppData\\Local\\Temp\\ipykernel_25084\\488001130.py:3: SettingWithCopyWarning: \n",
      "A value is trying to be set on a copy of a slice from a DataFrame.\n",
      "Try using .loc[row_indexer,col_indexer] = value instead\n",
      "\n",
      "See the caveats in the documentation: https://pandas.pydata.org/pandas-docs/stable/user_guide/indexing.html#returning-a-view-versus-a-copy\n",
      "  b_df['q'] = b_df['g'].apply(lambda x: 1 if x > 0 else 0)\n",
      "C:\\Users\\OscarJaramillo\\AppData\\Local\\Temp\\ipykernel_25084\\488001130.py:3: SettingWithCopyWarning: \n",
      "A value is trying to be set on a copy of a slice from a DataFrame.\n",
      "Try using .loc[row_indexer,col_indexer] = value instead\n",
      "\n",
      "See the caveats in the documentation: https://pandas.pydata.org/pandas-docs/stable/user_guide/indexing.html#returning-a-view-versus-a-copy\n",
      "  b_df['q'] = b_df['g'].apply(lambda x: 1 if x > 0 else 0)\n",
      "C:\\Users\\OscarJaramillo\\AppData\\Local\\Temp\\ipykernel_25084\\488001130.py:3: SettingWithCopyWarning: \n",
      "A value is trying to be set on a copy of a slice from a DataFrame.\n",
      "Try using .loc[row_indexer,col_indexer] = value instead\n",
      "\n",
      "See the caveats in the documentation: https://pandas.pydata.org/pandas-docs/stable/user_guide/indexing.html#returning-a-view-versus-a-copy\n",
      "  b_df['q'] = b_df['g'].apply(lambda x: 1 if x > 0 else 0)\n"
     ]
    }
   ],
   "source": [
    "for i in range(1, 13):\n",
    "    b_df = globals()[f'b2003_{i}']\n",
    "    b_df['q'] = b_df['g'].apply(lambda x: 1 if x > 0 else 0)"
   ]
  },
  {
   "cell_type": "code",
   "execution_count": 69,
   "metadata": {},
   "outputs": [],
   "source": [
    "qs.iloc[0] = b2003_1.groupby('v035')['q'].sum()\n",
    "qs.iloc[1] = b2003_2.groupby('v035')['q'].sum()\n",
    "qs.iloc[2] = b2003_3.groupby('v035')['q'].sum()\n",
    "qs.iloc[3] = b2003_4.groupby('v035')['q'].sum()\n",
    "qs.iloc[4] = b2003_5.groupby('v035')['q'].sum()\n",
    "qs.iloc[5] = b2003_6.groupby('v035')['q'].sum()\n",
    "qs.iloc[6] = b2003_7.groupby('v035')['q'].sum()\n",
    "qs.iloc[7] = b2003_8.groupby('v035')['q'].sum()\n",
    "qs.iloc[8] = b2003_9.groupby('v035')['q'].sum()\n",
    "qs.iloc[9] = b2003_10.groupby('v035')['q'].sum()\n",
    "qs.iloc[10] = b2003_11.groupby('v035')['q'].sum()\n",
    "qs.iloc[11] = b2003_12.groupby('v035')['q'].sum()"
   ]
  },
  {
   "cell_type": "code",
   "execution_count": 70,
   "metadata": {},
   "outputs": [],
   "source": [
    "ns.iloc[0] = b2003_1['v035'].value_counts()\n",
    "ns.iloc[1] = b2003_2['v035'].value_counts()\n",
    "ns.iloc[2] = b2003_3['v035'].value_counts()\n",
    "ns.iloc[3] = b2003_4['v035'].value_counts()\n",
    "ns.iloc[4] = b2003_5['v035'].value_counts()\n",
    "ns.iloc[5] = b2003_6['v035'].value_counts()\n",
    "ns.iloc[6] = b2003_7['v035'].value_counts()\n",
    "ns.iloc[7] = b2003_8['v035'].value_counts()\n",
    "ns.iloc[8] = b2003_9['v035'].value_counts()\n",
    "ns.iloc[9] = b2003_10['v035'].value_counts()\n",
    "ns.iloc[10] = b2003_11['v035'].value_counts()\n",
    "ns.iloc[11] = b2003_12['v035'].value_counts()"
   ]
  },
  {
   "cell_type": "markdown",
   "metadata": {},
   "source": [
    "FGT 0"
   ]
  },
  {
   "cell_type": "code",
   "execution_count": 71,
   "metadata": {},
   "outputs": [],
   "source": [
    "fgt0 = pd.DataFrame([np.zeros(6)], index=[1,2,3,4,5,6,7,8,9,10,11,12], columns=[26,29,31,33,35,43]) #Cantidad de personas total"
   ]
  },
  {
   "cell_type": "code",
   "execution_count": 72,
   "metadata": {},
   "outputs": [
    {
     "name": "stderr",
     "output_type": "stream",
     "text": [
      "C:\\Users\\OscarJaramillo\\AppData\\Local\\Temp\\ipykernel_25084\\1599965222.py:3: SettingWithCopyWarning: \n",
      "A value is trying to be set on a copy of a slice from a DataFrame.\n",
      "Try using .loc[row_indexer,col_indexer] = value instead\n",
      "\n",
      "See the caveats in the documentation: https://pandas.pydata.org/pandas-docs/stable/user_guide/indexing.html#returning-a-view-versus-a-copy\n",
      "  b_df['parentesis'] = ((b_df['um_pobr'] - b_df['ingr_defl'])/b_df['um_pobr'])**alpha\n",
      "C:\\Users\\OscarJaramillo\\AppData\\Local\\Temp\\ipykernel_25084\\1599965222.py:3: SettingWithCopyWarning: \n",
      "A value is trying to be set on a copy of a slice from a DataFrame.\n",
      "Try using .loc[row_indexer,col_indexer] = value instead\n",
      "\n",
      "See the caveats in the documentation: https://pandas.pydata.org/pandas-docs/stable/user_guide/indexing.html#returning-a-view-versus-a-copy\n",
      "  b_df['parentesis'] = ((b_df['um_pobr'] - b_df['ingr_defl'])/b_df['um_pobr'])**alpha\n",
      "C:\\Users\\OscarJaramillo\\AppData\\Local\\Temp\\ipykernel_25084\\1599965222.py:3: SettingWithCopyWarning: \n",
      "A value is trying to be set on a copy of a slice from a DataFrame.\n",
      "Try using .loc[row_indexer,col_indexer] = value instead\n",
      "\n",
      "See the caveats in the documentation: https://pandas.pydata.org/pandas-docs/stable/user_guide/indexing.html#returning-a-view-versus-a-copy\n",
      "  b_df['parentesis'] = ((b_df['um_pobr'] - b_df['ingr_defl'])/b_df['um_pobr'])**alpha\n",
      "C:\\Users\\OscarJaramillo\\AppData\\Local\\Temp\\ipykernel_25084\\1599965222.py:3: SettingWithCopyWarning: \n",
      "A value is trying to be set on a copy of a slice from a DataFrame.\n",
      "Try using .loc[row_indexer,col_indexer] = value instead\n",
      "\n",
      "See the caveats in the documentation: https://pandas.pydata.org/pandas-docs/stable/user_guide/indexing.html#returning-a-view-versus-a-copy\n",
      "  b_df['parentesis'] = ((b_df['um_pobr'] - b_df['ingr_defl'])/b_df['um_pobr'])**alpha\n",
      "C:\\Users\\OscarJaramillo\\AppData\\Local\\Temp\\ipykernel_25084\\1599965222.py:3: SettingWithCopyWarning: \n",
      "A value is trying to be set on a copy of a slice from a DataFrame.\n",
      "Try using .loc[row_indexer,col_indexer] = value instead\n",
      "\n",
      "See the caveats in the documentation: https://pandas.pydata.org/pandas-docs/stable/user_guide/indexing.html#returning-a-view-versus-a-copy\n",
      "  b_df['parentesis'] = ((b_df['um_pobr'] - b_df['ingr_defl'])/b_df['um_pobr'])**alpha\n",
      "C:\\Users\\OscarJaramillo\\AppData\\Local\\Temp\\ipykernel_25084\\1599965222.py:3: SettingWithCopyWarning: \n",
      "A value is trying to be set on a copy of a slice from a DataFrame.\n",
      "Try using .loc[row_indexer,col_indexer] = value instead\n",
      "\n",
      "See the caveats in the documentation: https://pandas.pydata.org/pandas-docs/stable/user_guide/indexing.html#returning-a-view-versus-a-copy\n",
      "  b_df['parentesis'] = ((b_df['um_pobr'] - b_df['ingr_defl'])/b_df['um_pobr'])**alpha\n",
      "C:\\Users\\OscarJaramillo\\AppData\\Local\\Temp\\ipykernel_25084\\1599965222.py:3: SettingWithCopyWarning: \n",
      "A value is trying to be set on a copy of a slice from a DataFrame.\n",
      "Try using .loc[row_indexer,col_indexer] = value instead\n",
      "\n",
      "See the caveats in the documentation: https://pandas.pydata.org/pandas-docs/stable/user_guide/indexing.html#returning-a-view-versus-a-copy\n",
      "  b_df['parentesis'] = ((b_df['um_pobr'] - b_df['ingr_defl'])/b_df['um_pobr'])**alpha\n",
      "C:\\Users\\OscarJaramillo\\AppData\\Local\\Temp\\ipykernel_25084\\1599965222.py:3: SettingWithCopyWarning: \n",
      "A value is trying to be set on a copy of a slice from a DataFrame.\n",
      "Try using .loc[row_indexer,col_indexer] = value instead\n",
      "\n",
      "See the caveats in the documentation: https://pandas.pydata.org/pandas-docs/stable/user_guide/indexing.html#returning-a-view-versus-a-copy\n",
      "  b_df['parentesis'] = ((b_df['um_pobr'] - b_df['ingr_defl'])/b_df['um_pobr'])**alpha\n",
      "C:\\Users\\OscarJaramillo\\AppData\\Local\\Temp\\ipykernel_25084\\1599965222.py:3: SettingWithCopyWarning: \n",
      "A value is trying to be set on a copy of a slice from a DataFrame.\n",
      "Try using .loc[row_indexer,col_indexer] = value instead\n",
      "\n",
      "See the caveats in the documentation: https://pandas.pydata.org/pandas-docs/stable/user_guide/indexing.html#returning-a-view-versus-a-copy\n",
      "  b_df['parentesis'] = ((b_df['um_pobr'] - b_df['ingr_defl'])/b_df['um_pobr'])**alpha\n",
      "C:\\Users\\OscarJaramillo\\AppData\\Local\\Temp\\ipykernel_25084\\1599965222.py:3: SettingWithCopyWarning: \n",
      "A value is trying to be set on a copy of a slice from a DataFrame.\n",
      "Try using .loc[row_indexer,col_indexer] = value instead\n",
      "\n",
      "See the caveats in the documentation: https://pandas.pydata.org/pandas-docs/stable/user_guide/indexing.html#returning-a-view-versus-a-copy\n",
      "  b_df['parentesis'] = ((b_df['um_pobr'] - b_df['ingr_defl'])/b_df['um_pobr'])**alpha\n",
      "C:\\Users\\OscarJaramillo\\AppData\\Local\\Temp\\ipykernel_25084\\1599965222.py:3: SettingWithCopyWarning: \n",
      "A value is trying to be set on a copy of a slice from a DataFrame.\n",
      "Try using .loc[row_indexer,col_indexer] = value instead\n",
      "\n",
      "See the caveats in the documentation: https://pandas.pydata.org/pandas-docs/stable/user_guide/indexing.html#returning-a-view-versus-a-copy\n",
      "  b_df['parentesis'] = ((b_df['um_pobr'] - b_df['ingr_defl'])/b_df['um_pobr'])**alpha\n",
      "C:\\Users\\OscarJaramillo\\AppData\\Local\\Temp\\ipykernel_25084\\1599965222.py:3: SettingWithCopyWarning: \n",
      "A value is trying to be set on a copy of a slice from a DataFrame.\n",
      "Try using .loc[row_indexer,col_indexer] = value instead\n",
      "\n",
      "See the caveats in the documentation: https://pandas.pydata.org/pandas-docs/stable/user_guide/indexing.html#returning-a-view-versus-a-copy\n",
      "  b_df['parentesis'] = ((b_df['um_pobr'] - b_df['ingr_defl'])/b_df['um_pobr'])**alpha\n"
     ]
    }
   ],
   "source": [
    "for i in range(1, 13):\n",
    "    b_df = globals()[f'b2003_{i}']\n",
    "    b_df['parentesis'] = ((b_df['um_pobr'] - b_df['ingr_defl'])/b_df['um_pobr'])**alpha"
   ]
  },
  {
   "cell_type": "code",
   "execution_count": 73,
   "metadata": {},
   "outputs": [],
   "source": [
    "fgt0.iloc[0] = qs.iloc[0]/ns.iloc[0]\n",
    "fgt0.iloc[1] = qs.iloc[1]/ns.iloc[1]\n",
    "fgt0.iloc[2] = qs.iloc[2]/ns.iloc[2]\n",
    "fgt0.iloc[3] = qs.iloc[3]/ns.iloc[3]\n",
    "fgt0.iloc[4] = qs.iloc[4]/ns.iloc[4]\n",
    "fgt0.iloc[5] = qs.iloc[5]/ns.iloc[5]\n",
    "fgt0.iloc[6] = qs.iloc[6]/ns.iloc[6]\n",
    "fgt0.iloc[7] = qs.iloc[7]/ns.iloc[7]\n",
    "fgt0.iloc[8] = qs.iloc[8]/ns.iloc[8]\n",
    "fgt0.iloc[9] = qs.iloc[9]/ns.iloc[9]\n",
    "fgt0.iloc[10] = qs.iloc[10]/ns.iloc[10]\n",
    "fgt0.iloc[11] = qs.iloc[11]/ns.iloc[11]"
   ]
  },
  {
   "cell_type": "markdown",
   "metadata": {},
   "source": [
    "FGT 1"
   ]
  },
  {
   "cell_type": "code",
   "execution_count": 74,
   "metadata": {},
   "outputs": [],
   "source": [
    "alpha = 1"
   ]
  },
  {
   "cell_type": "code",
   "execution_count": 75,
   "metadata": {},
   "outputs": [],
   "source": [
    "fgt1 = pd.DataFrame([np.zeros(6)], index=[1,2,3,4,5,6,7,8,9,10,11,12], columns=[26,29,31,33,35,43]) #Cantidad de personas total"
   ]
  },
  {
   "cell_type": "code",
   "execution_count": 76,
   "metadata": {},
   "outputs": [
    {
     "name": "stderr",
     "output_type": "stream",
     "text": [
      "C:\\Users\\OscarJaramillo\\AppData\\Local\\Temp\\ipykernel_25084\\1599965222.py:3: SettingWithCopyWarning: \n",
      "A value is trying to be set on a copy of a slice from a DataFrame.\n",
      "Try using .loc[row_indexer,col_indexer] = value instead\n",
      "\n",
      "See the caveats in the documentation: https://pandas.pydata.org/pandas-docs/stable/user_guide/indexing.html#returning-a-view-versus-a-copy\n",
      "  b_df['parentesis'] = ((b_df['um_pobr'] - b_df['ingr_defl'])/b_df['um_pobr'])**alpha\n"
     ]
    }
   ],
   "source": [
    "for i in range(1, 13):\n",
    "    b_df = globals()[f'b2003_{i}']\n",
    "    b_df['parentesis'] = ((b_df['um_pobr'] - b_df['ingr_defl'])/b_df['um_pobr'])**alpha"
   ]
  },
  {
   "cell_type": "code",
   "execution_count": 77,
   "metadata": {},
   "outputs": [],
   "source": [
    "fgt1.iloc[0] = b2003_1.loc[b2003_1['q'] == 1].groupby('v035')['parentesis'].sum()/ns.iloc[0]\n",
    "fgt1.iloc[1] = b2003_2.loc[b2003_2['q'] == 1].groupby('v035')['parentesis'].sum()/ns.iloc[1]\n",
    "fgt1.iloc[2] = b2003_3.loc[b2003_3['q'] == 1].groupby('v035')['parentesis'].sum()/ns.iloc[2]\n",
    "fgt1.iloc[3] = b2003_4.loc[b2003_4['q'] == 1].groupby('v035')['parentesis'].sum()/ns.iloc[3]\n",
    "fgt1.iloc[4] = b2003_5.loc[b2003_5['q'] == 1].groupby('v035')['parentesis'].sum()/ns.iloc[4]\n",
    "fgt1.iloc[5] = b2003_6.loc[b2003_6['q'] == 1].groupby('v035')['parentesis'].sum()/ns.iloc[5]\n",
    "fgt1.iloc[6] = b2003_7.loc[b2003_7['q'] == 1].groupby('v035')['parentesis'].sum()/ns.iloc[6]\n",
    "fgt1.iloc[7] = b2003_8.loc[b2003_8['q'] == 1].groupby('v035')['parentesis'].sum()/ns.iloc[7]\n",
    "fgt1.iloc[8] = b2003_9.loc[b2003_9['q'] == 1].groupby('v035')['parentesis'].sum()/ns.iloc[8]\n",
    "fgt1.iloc[9] = b2003_10.loc[b2003_10['q'] == 1].groupby('v035')['parentesis'].sum()/ns.iloc[9]\n",
    "fgt1.iloc[10] = b2003_11.loc[b2003_11['q'] == 1].groupby('v035')['parentesis'].sum()/ns.iloc[10]\n",
    "fgt1.iloc[11] = b2003_12.loc[b2003_12['q'] == 1].groupby('v035')['parentesis'].sum()/ns.iloc[11]"
   ]
  },
  {
   "cell_type": "markdown",
   "metadata": {},
   "source": [
    "FGT 2"
   ]
  },
  {
   "cell_type": "code",
   "execution_count": 78,
   "metadata": {},
   "outputs": [],
   "source": [
    "alpha = 2"
   ]
  },
  {
   "cell_type": "code",
   "execution_count": 79,
   "metadata": {},
   "outputs": [],
   "source": [
    "fgt2 = pd.DataFrame([np.zeros(6)], index=[1,2,3,4,5,6,7,8,9,10,11,12], columns=[26,29,31,33,35,43]) #Cantidad de personas total"
   ]
  },
  {
   "cell_type": "code",
   "execution_count": 80,
   "metadata": {},
   "outputs": [
    {
     "name": "stderr",
     "output_type": "stream",
     "text": [
      "C:\\Users\\OscarJaramillo\\AppData\\Local\\Temp\\ipykernel_25084\\1599965222.py:3: SettingWithCopyWarning: \n",
      "A value is trying to be set on a copy of a slice from a DataFrame.\n",
      "Try using .loc[row_indexer,col_indexer] = value instead\n",
      "\n",
      "See the caveats in the documentation: https://pandas.pydata.org/pandas-docs/stable/user_guide/indexing.html#returning-a-view-versus-a-copy\n",
      "  b_df['parentesis'] = ((b_df['um_pobr'] - b_df['ingr_defl'])/b_df['um_pobr'])**alpha\n"
     ]
    }
   ],
   "source": [
    "for i in range(1, 13):\n",
    "    b_df = globals()[f'b2003_{i}']\n",
    "    b_df['parentesis'] = ((b_df['um_pobr'] - b_df['ingr_defl'])/b_df['um_pobr'])**alpha"
   ]
  },
  {
   "cell_type": "code",
   "execution_count": 81,
   "metadata": {},
   "outputs": [],
   "source": [
    "fgt2.iloc[0] = b2003_1.loc[b2003_1['q'] == 1].groupby('v035')['parentesis'].sum()/ns.iloc[0]\n",
    "fgt2.iloc[1] = b2003_2.loc[b2003_2['q'] == 1].groupby('v035')['parentesis'].sum()/ns.iloc[1]\n",
    "fgt2.iloc[2] = b2003_3.loc[b2003_3['q'] == 1].groupby('v035')['parentesis'].sum()/ns.iloc[2]\n",
    "fgt2.iloc[3] = b2003_4.loc[b2003_4['q'] == 1].groupby('v035')['parentesis'].sum()/ns.iloc[3]\n",
    "fgt2.iloc[4] = b2003_5.loc[b2003_5['q'] == 1].groupby('v035')['parentesis'].sum()/ns.iloc[4]\n",
    "fgt2.iloc[5] = b2003_6.loc[b2003_6['q'] == 1].groupby('v035')['parentesis'].sum()/ns.iloc[5]\n",
    "fgt2.iloc[6] = b2003_7.loc[b2003_7['q'] == 1].groupby('v035')['parentesis'].sum()/ns.iloc[6]\n",
    "fgt2.iloc[7] = b2003_8.loc[b2003_8['q'] == 1].groupby('v035')['parentesis'].sum()/ns.iloc[7]\n",
    "fgt2.iloc[8] = b2003_9.loc[b2003_9['q'] == 1].groupby('v035')['parentesis'].sum()/ns.iloc[8]\n",
    "fgt2.iloc[9] = b2003_10.loc[b2003_10['q'] == 1].groupby('v035')['parentesis'].sum()/ns.iloc[9]\n",
    "fgt2.iloc[10] = b2003_11.loc[b2003_11['q'] == 1].groupby('v035')['parentesis'].sum()/ns.iloc[10]\n",
    "fgt2.iloc[11] = b2003_12.loc[b2003_12['q'] == 1].groupby('v035')['parentesis'].sum()/ns.iloc[11]"
   ]
  },
  {
   "cell_type": "markdown",
   "metadata": {},
   "source": [
    "Índice de desigualdad de Atkinson\n",
    "$A_{\\epsilon}=1-\\frac{1}{\\mu}\\left(\\frac{1}{N}\\sum_{i=1}^{N}y_{i}^{1-\\epsilon}\\right)^{\\frac{1}{1-\\epsilon}}$"
   ]
  },
  {
   "cell_type": "code",
   "execution_count": 82,
   "metadata": {},
   "outputs": [],
   "source": [
    "mu = pd.DataFrame([np.zeros(6)], index=[1,2,3,4,5,6,7,8,9,10,11,12], columns=[26,29,31,33,35,43])"
   ]
  },
  {
   "cell_type": "code",
   "execution_count": 83,
   "metadata": {},
   "outputs": [],
   "source": [
    "mu.iloc[0] = b2003_1.groupby('v035')['ingr_defl'].mean()\n",
    "mu.iloc[1] = b2003_2.groupby('v035')['ingr_defl'].mean()\n",
    "mu.iloc[2] = b2003_3.groupby('v035')['ingr_defl'].mean()\n",
    "mu.iloc[3] = b2003_4.groupby('v035')['ingr_defl'].mean()\n",
    "mu.iloc[4] = b2003_5.groupby('v035')['ingr_defl'].mean()\n",
    "mu.iloc[5] = b2003_6.groupby('v035')['ingr_defl'].mean()\n",
    "mu.iloc[6] = b2003_7.groupby('v035')['ingr_defl'].mean()\n",
    "mu.iloc[7] = b2003_8.groupby('v035')['ingr_defl'].mean()\n",
    "mu.iloc[8] = b2003_9.groupby('v035')['ingr_defl'].mean()\n",
    "mu.iloc[9] = b2003_10.groupby('v035')['ingr_defl'].mean()\n",
    "mu.iloc[10] = b2003_11.groupby('v035')['ingr_defl'].mean()\n",
    "mu.iloc[11] = b2003_12.groupby('v035')['ingr_defl'].mean()"
   ]
  },
  {
   "cell_type": "markdown",
   "metadata": {},
   "source": [
    "A25"
   ]
  },
  {
   "cell_type": "code",
   "execution_count": 84,
   "metadata": {},
   "outputs": [],
   "source": [
    "a25 = pd.DataFrame([np.zeros(6)], index=[1,2,3,4,5,6,7,8,9,10,11,12], columns=[26,29,31,33,35,43])"
   ]
  },
  {
   "cell_type": "code",
   "execution_count": 85,
   "metadata": {},
   "outputs": [],
   "source": [
    "epsilon = 0.25"
   ]
  },
  {
   "cell_type": "code",
   "execution_count": 86,
   "metadata": {},
   "outputs": [
    {
     "name": "stderr",
     "output_type": "stream",
     "text": [
      "C:\\Users\\OscarJaramillo\\AppData\\Local\\Temp\\ipykernel_25084\\1299317587.py:3: SettingWithCopyWarning: \n",
      "A value is trying to be set on a copy of a slice from a DataFrame.\n",
      "Try using .loc[row_indexer,col_indexer] = value instead\n",
      "\n",
      "See the caveats in the documentation: https://pandas.pydata.org/pandas-docs/stable/user_guide/indexing.html#returning-a-view-versus-a-copy\n",
      "  b_df['ingreso_ep'] = b_df['ingr_defl']**(1-epsilon)\n",
      "C:\\Users\\OscarJaramillo\\AppData\\Local\\Temp\\ipykernel_25084\\1299317587.py:3: SettingWithCopyWarning: \n",
      "A value is trying to be set on a copy of a slice from a DataFrame.\n",
      "Try using .loc[row_indexer,col_indexer] = value instead\n",
      "\n",
      "See the caveats in the documentation: https://pandas.pydata.org/pandas-docs/stable/user_guide/indexing.html#returning-a-view-versus-a-copy\n",
      "  b_df['ingreso_ep'] = b_df['ingr_defl']**(1-epsilon)\n",
      "C:\\Users\\OscarJaramillo\\AppData\\Local\\Temp\\ipykernel_25084\\1299317587.py:3: SettingWithCopyWarning: \n",
      "A value is trying to be set on a copy of a slice from a DataFrame.\n",
      "Try using .loc[row_indexer,col_indexer] = value instead\n",
      "\n",
      "See the caveats in the documentation: https://pandas.pydata.org/pandas-docs/stable/user_guide/indexing.html#returning-a-view-versus-a-copy\n",
      "  b_df['ingreso_ep'] = b_df['ingr_defl']**(1-epsilon)\n",
      "C:\\Users\\OscarJaramillo\\AppData\\Local\\Temp\\ipykernel_25084\\1299317587.py:3: SettingWithCopyWarning: \n",
      "A value is trying to be set on a copy of a slice from a DataFrame.\n",
      "Try using .loc[row_indexer,col_indexer] = value instead\n",
      "\n",
      "See the caveats in the documentation: https://pandas.pydata.org/pandas-docs/stable/user_guide/indexing.html#returning-a-view-versus-a-copy\n",
      "  b_df['ingreso_ep'] = b_df['ingr_defl']**(1-epsilon)\n",
      "C:\\Users\\OscarJaramillo\\AppData\\Local\\Temp\\ipykernel_25084\\1299317587.py:3: SettingWithCopyWarning: \n",
      "A value is trying to be set on a copy of a slice from a DataFrame.\n",
      "Try using .loc[row_indexer,col_indexer] = value instead\n",
      "\n",
      "See the caveats in the documentation: https://pandas.pydata.org/pandas-docs/stable/user_guide/indexing.html#returning-a-view-versus-a-copy\n",
      "  b_df['ingreso_ep'] = b_df['ingr_defl']**(1-epsilon)\n",
      "C:\\Users\\OscarJaramillo\\AppData\\Local\\Temp\\ipykernel_25084\\1299317587.py:3: SettingWithCopyWarning: \n",
      "A value is trying to be set on a copy of a slice from a DataFrame.\n",
      "Try using .loc[row_indexer,col_indexer] = value instead\n",
      "\n",
      "See the caveats in the documentation: https://pandas.pydata.org/pandas-docs/stable/user_guide/indexing.html#returning-a-view-versus-a-copy\n",
      "  b_df['ingreso_ep'] = b_df['ingr_defl']**(1-epsilon)\n",
      "C:\\Users\\OscarJaramillo\\AppData\\Local\\Temp\\ipykernel_25084\\1299317587.py:3: SettingWithCopyWarning: \n",
      "A value is trying to be set on a copy of a slice from a DataFrame.\n",
      "Try using .loc[row_indexer,col_indexer] = value instead\n",
      "\n",
      "See the caveats in the documentation: https://pandas.pydata.org/pandas-docs/stable/user_guide/indexing.html#returning-a-view-versus-a-copy\n",
      "  b_df['ingreso_ep'] = b_df['ingr_defl']**(1-epsilon)\n",
      "C:\\Users\\OscarJaramillo\\AppData\\Local\\Temp\\ipykernel_25084\\1299317587.py:3: SettingWithCopyWarning: \n",
      "A value is trying to be set on a copy of a slice from a DataFrame.\n",
      "Try using .loc[row_indexer,col_indexer] = value instead\n",
      "\n",
      "See the caveats in the documentation: https://pandas.pydata.org/pandas-docs/stable/user_guide/indexing.html#returning-a-view-versus-a-copy\n",
      "  b_df['ingreso_ep'] = b_df['ingr_defl']**(1-epsilon)\n",
      "C:\\Users\\OscarJaramillo\\AppData\\Local\\Temp\\ipykernel_25084\\1299317587.py:3: SettingWithCopyWarning: \n",
      "A value is trying to be set on a copy of a slice from a DataFrame.\n",
      "Try using .loc[row_indexer,col_indexer] = value instead\n",
      "\n",
      "See the caveats in the documentation: https://pandas.pydata.org/pandas-docs/stable/user_guide/indexing.html#returning-a-view-versus-a-copy\n",
      "  b_df['ingreso_ep'] = b_df['ingr_defl']**(1-epsilon)\n",
      "C:\\Users\\OscarJaramillo\\AppData\\Local\\Temp\\ipykernel_25084\\1299317587.py:3: SettingWithCopyWarning: \n",
      "A value is trying to be set on a copy of a slice from a DataFrame.\n",
      "Try using .loc[row_indexer,col_indexer] = value instead\n",
      "\n",
      "See the caveats in the documentation: https://pandas.pydata.org/pandas-docs/stable/user_guide/indexing.html#returning-a-view-versus-a-copy\n",
      "  b_df['ingreso_ep'] = b_df['ingr_defl']**(1-epsilon)\n",
      "C:\\Users\\OscarJaramillo\\AppData\\Local\\Temp\\ipykernel_25084\\1299317587.py:3: SettingWithCopyWarning: \n",
      "A value is trying to be set on a copy of a slice from a DataFrame.\n",
      "Try using .loc[row_indexer,col_indexer] = value instead\n",
      "\n",
      "See the caveats in the documentation: https://pandas.pydata.org/pandas-docs/stable/user_guide/indexing.html#returning-a-view-versus-a-copy\n",
      "  b_df['ingreso_ep'] = b_df['ingr_defl']**(1-epsilon)\n",
      "C:\\Users\\OscarJaramillo\\AppData\\Local\\Temp\\ipykernel_25084\\1299317587.py:3: SettingWithCopyWarning: \n",
      "A value is trying to be set on a copy of a slice from a DataFrame.\n",
      "Try using .loc[row_indexer,col_indexer] = value instead\n",
      "\n",
      "See the caveats in the documentation: https://pandas.pydata.org/pandas-docs/stable/user_guide/indexing.html#returning-a-view-versus-a-copy\n",
      "  b_df['ingreso_ep'] = b_df['ingr_defl']**(1-epsilon)\n"
     ]
    }
   ],
   "source": [
    "for i in range(1, 13):\n",
    "    b_df = globals()[f'b2003_{i}']\n",
    "    b_df['ingreso_ep'] = b_df['ingr_defl']**(1-epsilon)"
   ]
  },
  {
   "cell_type": "code",
   "execution_count": 87,
   "metadata": {},
   "outputs": [],
   "source": [
    "a25.iloc[0] = 1-1/mu.iloc[0]*(b2003_1.groupby('v035')['ingreso_ep'].sum()/ns.iloc[0])**(1/(1-epsilon))\n",
    "a25.iloc[1] = 1-1/mu.iloc[1]*(b2003_2.groupby('v035')['ingreso_ep'].sum()/ns.iloc[1])**(1/(1-epsilon))\n",
    "a25.iloc[2] = 1-1/mu.iloc[2]*(b2003_3.groupby('v035')['ingreso_ep'].sum()/ns.iloc[2])**(1/(1-epsilon))\n",
    "a25.iloc[3] = 1-1/mu.iloc[3]*(b2003_4.groupby('v035')['ingreso_ep'].sum()/ns.iloc[3])**(1/(1-epsilon))\n",
    "a25.iloc[4] = 1-1/mu.iloc[4]*(b2003_5.groupby('v035')['ingreso_ep'].sum()/ns.iloc[4])**(1/(1-epsilon))\n",
    "a25.iloc[5] = 1-1/mu.iloc[5]*(b2003_6.groupby('v035')['ingreso_ep'].sum()/ns.iloc[5])**(1/(1-epsilon))\n",
    "a25.iloc[6] = 1-1/mu.iloc[6]*(b2003_7.groupby('v035')['ingreso_ep'].sum()/ns.iloc[6])**(1/(1-epsilon))\n",
    "a25.iloc[7] = 1-1/mu.iloc[7]*(b2003_8.groupby('v035')['ingreso_ep'].sum()/ns.iloc[7])**(1/(1-epsilon))\n",
    "a25.iloc[8] = 1-1/mu.iloc[8]*(b2003_9.groupby('v035')['ingreso_ep'].sum()/ns.iloc[8])**(1/(1-epsilon))\n",
    "a25.iloc[9] = 1-1/mu.iloc[9]*(b2003_10.groupby('v035')['ingreso_ep'].sum()/ns.iloc[9])**(1/(1-epsilon))\n",
    "a25.iloc[10] = 1-1/mu.iloc[10]*(b2003_11.groupby('v035')['ingreso_ep'].sum()/ns.iloc[10])**(1/(1-epsilon))\n",
    "a25.iloc[11] = 1-1/mu.iloc[11]*(b2003_12.groupby('v035')['ingreso_ep'].sum()/ns.iloc[11])**(1/(1-epsilon))"
   ]
  },
  {
   "cell_type": "markdown",
   "metadata": {},
   "source": [
    "A50"
   ]
  },
  {
   "cell_type": "code",
   "execution_count": 88,
   "metadata": {},
   "outputs": [],
   "source": [
    "a50 = pd.DataFrame([np.zeros(6)], index=[1,2,3,4,5,6,7,8,9,10,11,12], columns=[26,29,31,33,35,43])"
   ]
  },
  {
   "cell_type": "code",
   "execution_count": 89,
   "metadata": {},
   "outputs": [],
   "source": [
    "epsilon = 0.50"
   ]
  },
  {
   "cell_type": "code",
   "execution_count": 90,
   "metadata": {},
   "outputs": [
    {
     "name": "stderr",
     "output_type": "stream",
     "text": [
      "C:\\Users\\OscarJaramillo\\AppData\\Local\\Temp\\ipykernel_25084\\1299317587.py:3: SettingWithCopyWarning: \n",
      "A value is trying to be set on a copy of a slice from a DataFrame.\n",
      "Try using .loc[row_indexer,col_indexer] = value instead\n",
      "\n",
      "See the caveats in the documentation: https://pandas.pydata.org/pandas-docs/stable/user_guide/indexing.html#returning-a-view-versus-a-copy\n",
      "  b_df['ingreso_ep'] = b_df['ingr_defl']**(1-epsilon)\n"
     ]
    }
   ],
   "source": [
    "for i in range(1, 13):\n",
    "    b_df = globals()[f'b2003_{i}']\n",
    "    b_df['ingreso_ep'] = b_df['ingr_defl']**(1-epsilon)"
   ]
  },
  {
   "cell_type": "code",
   "execution_count": 91,
   "metadata": {},
   "outputs": [],
   "source": [
    "a50.iloc[0] = 1-1/mu.iloc[0]*(b2003_1.groupby('v035')['ingreso_ep'].sum()/ns.iloc[0])**(1/(1-epsilon))\n",
    "a50.iloc[1] = 1-1/mu.iloc[1]*(b2003_2.groupby('v035')['ingreso_ep'].sum()/ns.iloc[1])**(1/(1-epsilon))\n",
    "a50.iloc[2] = 1-1/mu.iloc[2]*(b2003_3.groupby('v035')['ingreso_ep'].sum()/ns.iloc[2])**(1/(1-epsilon))\n",
    "a50.iloc[3] = 1-1/mu.iloc[3]*(b2003_4.groupby('v035')['ingreso_ep'].sum()/ns.iloc[3])**(1/(1-epsilon))\n",
    "a50.iloc[4] = 1-1/mu.iloc[4]*(b2003_5.groupby('v035')['ingreso_ep'].sum()/ns.iloc[4])**(1/(1-epsilon))\n",
    "a50.iloc[5] = 1-1/mu.iloc[5]*(b2003_6.groupby('v035')['ingreso_ep'].sum()/ns.iloc[5])**(1/(1-epsilon))\n",
    "a50.iloc[6] = 1-1/mu.iloc[6]*(b2003_7.groupby('v035')['ingreso_ep'].sum()/ns.iloc[6])**(1/(1-epsilon))\n",
    "a50.iloc[7] = 1-1/mu.iloc[7]*(b2003_8.groupby('v035')['ingreso_ep'].sum()/ns.iloc[7])**(1/(1-epsilon))\n",
    "a50.iloc[8] = 1-1/mu.iloc[8]*(b2003_9.groupby('v035')['ingreso_ep'].sum()/ns.iloc[8])**(1/(1-epsilon))\n",
    "a50.iloc[9] = 1-1/mu.iloc[9]*(b2003_10.groupby('v035')['ingreso_ep'].sum()/ns.iloc[9])**(1/(1-epsilon))\n",
    "a50.iloc[10] = 1-1/mu.iloc[10]*(b2003_11.groupby('v035')['ingreso_ep'].sum()/ns.iloc[10])**(1/(1-epsilon))\n",
    "a50.iloc[11] = 1-1/mu.iloc[11]*(b2003_12.groupby('v035')['ingreso_ep'].sum()/ns.iloc[11])**(1/(1-epsilon))"
   ]
  },
  {
   "cell_type": "markdown",
   "metadata": {},
   "source": [
    "A75"
   ]
  },
  {
   "cell_type": "code",
   "execution_count": 92,
   "metadata": {},
   "outputs": [],
   "source": [
    "a75 = pd.DataFrame([np.zeros(6)], index=[1,2,3,4,5,6,7,8,9,10,11,12], columns=[26,29,31,33,35,43])"
   ]
  },
  {
   "cell_type": "code",
   "execution_count": 93,
   "metadata": {},
   "outputs": [],
   "source": [
    "epsilon = 0.75"
   ]
  },
  {
   "cell_type": "code",
   "execution_count": 94,
   "metadata": {},
   "outputs": [
    {
     "name": "stderr",
     "output_type": "stream",
     "text": [
      "C:\\Users\\OscarJaramillo\\AppData\\Local\\Temp\\ipykernel_25084\\1299317587.py:3: SettingWithCopyWarning: \n",
      "A value is trying to be set on a copy of a slice from a DataFrame.\n",
      "Try using .loc[row_indexer,col_indexer] = value instead\n",
      "\n",
      "See the caveats in the documentation: https://pandas.pydata.org/pandas-docs/stable/user_guide/indexing.html#returning-a-view-versus-a-copy\n",
      "  b_df['ingreso_ep'] = b_df['ingr_defl']**(1-epsilon)\n"
     ]
    }
   ],
   "source": [
    "for i in range(1, 13):\n",
    "    b_df = globals()[f'b2003_{i}']\n",
    "    b_df['ingreso_ep'] = b_df['ingr_defl']**(1-epsilon)"
   ]
  },
  {
   "cell_type": "code",
   "execution_count": 95,
   "metadata": {},
   "outputs": [],
   "source": [
    "a75.iloc[0] = 1-1/mu.iloc[0]*(b2003_1.groupby('v035')['ingreso_ep'].sum()/ns.iloc[0])**(1/(1-epsilon))\n",
    "a75.iloc[1] = 1-1/mu.iloc[1]*(b2003_2.groupby('v035')['ingreso_ep'].sum()/ns.iloc[1])**(1/(1-epsilon))\n",
    "a75.iloc[2] = 1-1/mu.iloc[2]*(b2003_3.groupby('v035')['ingreso_ep'].sum()/ns.iloc[2])**(1/(1-epsilon))\n",
    "a75.iloc[3] = 1-1/mu.iloc[3]*(b2003_4.groupby('v035')['ingreso_ep'].sum()/ns.iloc[3])**(1/(1-epsilon))\n",
    "a75.iloc[4] = 1-1/mu.iloc[4]*(b2003_5.groupby('v035')['ingreso_ep'].sum()/ns.iloc[4])**(1/(1-epsilon))\n",
    "a75.iloc[5] = 1-1/mu.iloc[5]*(b2003_6.groupby('v035')['ingreso_ep'].sum()/ns.iloc[5])**(1/(1-epsilon))\n",
    "a75.iloc[6] = 1-1/mu.iloc[6]*(b2003_7.groupby('v035')['ingreso_ep'].sum()/ns.iloc[6])**(1/(1-epsilon))\n",
    "a75.iloc[7] = 1-1/mu.iloc[7]*(b2003_8.groupby('v035')['ingreso_ep'].sum()/ns.iloc[7])**(1/(1-epsilon))\n",
    "a75.iloc[8] = 1-1/mu.iloc[8]*(b2003_9.groupby('v035')['ingreso_ep'].sum()/ns.iloc[8])**(1/(1-epsilon))\n",
    "a75.iloc[9] = 1-1/mu.iloc[9]*(b2003_10.groupby('v035')['ingreso_ep'].sum()/ns.iloc[9])**(1/(1-epsilon))\n",
    "a75.iloc[10] = 1-1/mu.iloc[10]*(b2003_11.groupby('v035')['ingreso_ep'].sum()/ns.iloc[10])**(1/(1-epsilon))\n",
    "a75.iloc[11] = 1-1/mu.iloc[11]*(b2003_12.groupby('v035')['ingreso_ep'].sum()/ns.iloc[11])**(1/(1-epsilon))"
   ]
  },
  {
   "cell_type": "markdown",
   "metadata": {},
   "source": [
    "Minimum wage"
   ]
  },
  {
   "cell_type": "code",
   "execution_count": 96,
   "metadata": {},
   "outputs": [],
   "source": [
    "mw = pd.DataFrame([np.zeros(1)], index=range(1995, 2016), columns=['mw'])"
   ]
  },
  {
   "cell_type": "code",
   "execution_count": 97,
   "metadata": {},
   "outputs": [],
   "source": [
    "mw['mw'][2003] = (ano['vD26'] >= ano['v115']).sum() / len(ano)"
   ]
  },
  {
   "cell_type": "markdown",
   "metadata": {},
   "source": [
    "Exportamos los datos"
   ]
  },
  {
   "cell_type": "code",
   "execution_count": 98,
   "metadata": {},
   "outputs": [],
   "source": [
    "mu.to_csv('datos finales\\ingr_region_mes.csv', index=False)\n",
    "fgt0.to_csv(r'datos finales\\fgt0.csv', index=False)\n",
    "fgt1.to_csv(r'datos finales\\fgt1.csv', index=False)\n",
    "fgt2.to_csv(r'datos finales\\fgt2.csv', index=False)\n",
    "a25.to_csv(r'datos finales\\a25.csv', index=False)\n",
    "a50.to_csv(r'datos finales\\a50.csv', index=False)\n",
    "a75.to_csv(r'datos finales\\a75.csv', index=False)\n",
    "mw.to_csv(r'datos finales\\mw.csv')"
   ]
  }
 ],
 "metadata": {
  "kernelspec": {
   "display_name": "Python 3",
   "language": "python",
   "name": "python3"
  },
  "language_info": {
   "codemirror_mode": {
    "name": "ipython",
    "version": 3
   },
   "file_extension": ".py",
   "mimetype": "text/x-python",
   "name": "python",
   "nbconvert_exporter": "python",
   "pygments_lexer": "ipython3",
   "version": "3.11.2"
  },
  "orig_nbformat": 4
 },
 "nbformat": 4,
 "nbformat_minor": 2
}
