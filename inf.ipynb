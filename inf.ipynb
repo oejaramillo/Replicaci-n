{
 "cells": [
  {
   "cell_type": "markdown",
   "id": "a4ab0ccd",
   "metadata": {},
   "source": [
    "Cálculo del deflactor con el índice de inflación y una columna base 100 para agosto de 1994"
   ]
  },
  {
   "cell_type": "code",
   "execution_count": 1,
   "id": "e393efa6",
   "metadata": {},
   "outputs": [],
   "source": [
    "import pandas as pd\n",
    "import numpy as np"
   ]
  },
  {
   "cell_type": "code",
   "execution_count": 3,
   "id": "dfa94415",
   "metadata": {},
   "outputs": [],
   "source": [
    "pi = pd.Series([1.86,1.53,2.62,2.81,1.71,1.70,1.02,1.55,2.43,2.67,2.26,2.36,0.99,0.99,1.41,1.47,1.56,1.34,1.03,0.35,1.26,1.22,1.19,1.11,0.44,0.15,0.30,0.32,0.47,1.18,0.50,0.51,0.88,0.41,0.54,0.22,-0.02,0.06,0.23,0.17,0.43,0.71,0.46,0.34,0.24,0.50,0.02,-0.12,-0.51,-0.22,0.02,-0.12,0.33,0.70,1.05,1.10,0.56,0.3,0.19,1.09,0.56,0.31,1.19,0.95,0.6,0.62,0.13,0.22,0.42,0.01,0.23,1.61,1.31,0.23,0.14,0.32,0.59,0.57,0.46,0.38,0.58,0.41,0.52,1.33,0.7,0.28,0.83,0.71,0.65,0.52,0.36,0.60,0.80,0.21,0.42,1.19,0.65,0.72,1.31,3.02,2.1,2.25,1.57,1.23,0.97,0.61,-0.15,0.2,0.34,0.78,0.29,0.34,0.52,0.76,0.61,0.47,0.37,0.51,0.71,0.91,0.69,0.33,0.44,0.69,0.86,0.58,0.59,0.61,0.87,0.49,-0.02,0.25,0.17,0.35,0.75,0.55,0.36,0.59,0.41,0.43,0.21,0.1,-0.21,0.19,0.05,0.21,0.33,0.31,0.48,0.44,0.44,0.37,0.25,0.28,0.28,0.24,0.47,0.18,0.3,0.38,0.74,0.54,0.49,0.48,0.55,0.79,0.74,0.53,0.28,0.26,0.45,0.36,0.28,0.48,0.55,0.2,0.48,0.47,0.36,0.24,0.15,0.24,0.28,0.41,0.37,0.75,0.78,0.52,0.57,0.43,0,0.01,0.04,0.45,0.75,0.83,0.63,0.83,0.8,0.79,0.77,0.47,0.15,0.16,0.37,0.53,0.43,0.52,0.5,0.56,0.45,0.21,0.64,0.36,0.08,0.43,0.41,0.57,0.59,0.6,0.79,0.86,0.6,0.47,0.55,0.37,0.26,0.03,0.24,0.35,0.57,0.54,0.92,0.55,0.69,0.92,0.67,0.46,0.4,0.01,0.25,0.57,0.42,0.51,0.78,1.24,1.22,1.32,0.71,0.74,0.79,0.62,0.22,0.54,0.82,1.01,0.96])"
   ]
  },
  {
   "cell_type": "code",
   "execution_count": 4,
   "id": "fc239d83",
   "metadata": {},
   "outputs": [],
   "source": [
    "inf = pd.DataFrame(pi, columns=['inf'])"
   ]
  },
  {
   "cell_type": "code",
   "execution_count": 5,
   "id": "3a5fa6ca",
   "metadata": {},
   "outputs": [],
   "source": [
    "inf['ano'] = 0"
   ]
  },
  {
   "cell_type": "code",
   "execution_count": 6,
   "id": "aedb668f",
   "metadata": {},
   "outputs": [
    {
     "name": "stderr",
     "output_type": "stream",
     "text": [
      "C:\\Users\\OscarJaramillo\\AppData\\Local\\Temp\\ipykernel_15872\\4217862317.py:1: SettingWithCopyWarning: \n",
      "A value is trying to be set on a copy of a slice from a DataFrame\n",
      "\n",
      "See the caveats in the documentation: https://pandas.pydata.org/pandas-docs/stable/user_guide/indexing.html#returning-a-view-versus-a-copy\n",
      "  inf['ano'][0:5]=1994\n",
      "C:\\Users\\OscarJaramillo\\AppData\\Local\\Temp\\ipykernel_15872\\4217862317.py:2: SettingWithCopyWarning: \n",
      "A value is trying to be set on a copy of a slice from a DataFrame\n",
      "\n",
      "See the caveats in the documentation: https://pandas.pydata.org/pandas-docs/stable/user_guide/indexing.html#returning-a-view-versus-a-copy\n",
      "  inf['ano'][5:17]=1995\n",
      "C:\\Users\\OscarJaramillo\\AppData\\Local\\Temp\\ipykernel_15872\\4217862317.py:3: SettingWithCopyWarning: \n",
      "A value is trying to be set on a copy of a slice from a DataFrame\n",
      "\n",
      "See the caveats in the documentation: https://pandas.pydata.org/pandas-docs/stable/user_guide/indexing.html#returning-a-view-versus-a-copy\n",
      "  inf['ano'][17:29]=1996\n",
      "C:\\Users\\OscarJaramillo\\AppData\\Local\\Temp\\ipykernel_15872\\4217862317.py:4: SettingWithCopyWarning: \n",
      "A value is trying to be set on a copy of a slice from a DataFrame\n",
      "\n",
      "See the caveats in the documentation: https://pandas.pydata.org/pandas-docs/stable/user_guide/indexing.html#returning-a-view-versus-a-copy\n",
      "  inf['ano'][29:41]=1997\n",
      "C:\\Users\\OscarJaramillo\\AppData\\Local\\Temp\\ipykernel_15872\\4217862317.py:5: SettingWithCopyWarning: \n",
      "A value is trying to be set on a copy of a slice from a DataFrame\n",
      "\n",
      "See the caveats in the documentation: https://pandas.pydata.org/pandas-docs/stable/user_guide/indexing.html#returning-a-view-versus-a-copy\n",
      "  inf['ano'][41:53]=1998\n",
      "C:\\Users\\OscarJaramillo\\AppData\\Local\\Temp\\ipykernel_15872\\4217862317.py:6: SettingWithCopyWarning: \n",
      "A value is trying to be set on a copy of a slice from a DataFrame\n",
      "\n",
      "See the caveats in the documentation: https://pandas.pydata.org/pandas-docs/stable/user_guide/indexing.html#returning-a-view-versus-a-copy\n",
      "  inf['ano'][53:65]=1999\n",
      "C:\\Users\\OscarJaramillo\\AppData\\Local\\Temp\\ipykernel_15872\\4217862317.py:7: SettingWithCopyWarning: \n",
      "A value is trying to be set on a copy of a slice from a DataFrame\n",
      "\n",
      "See the caveats in the documentation: https://pandas.pydata.org/pandas-docs/stable/user_guide/indexing.html#returning-a-view-versus-a-copy\n",
      "  inf['ano'][65:77]=2000\n",
      "C:\\Users\\OscarJaramillo\\AppData\\Local\\Temp\\ipykernel_15872\\4217862317.py:8: SettingWithCopyWarning: \n",
      "A value is trying to be set on a copy of a slice from a DataFrame\n",
      "\n",
      "See the caveats in the documentation: https://pandas.pydata.org/pandas-docs/stable/user_guide/indexing.html#returning-a-view-versus-a-copy\n",
      "  inf['ano'][77:89]=2011\n",
      "C:\\Users\\OscarJaramillo\\AppData\\Local\\Temp\\ipykernel_15872\\4217862317.py:9: SettingWithCopyWarning: \n",
      "A value is trying to be set on a copy of a slice from a DataFrame\n",
      "\n",
      "See the caveats in the documentation: https://pandas.pydata.org/pandas-docs/stable/user_guide/indexing.html#returning-a-view-versus-a-copy\n",
      "  inf['ano'][89:101]=2002\n",
      "C:\\Users\\OscarJaramillo\\AppData\\Local\\Temp\\ipykernel_15872\\4217862317.py:10: SettingWithCopyWarning: \n",
      "A value is trying to be set on a copy of a slice from a DataFrame\n",
      "\n",
      "See the caveats in the documentation: https://pandas.pydata.org/pandas-docs/stable/user_guide/indexing.html#returning-a-view-versus-a-copy\n",
      "  inf['ano'][101:113]=2003\n",
      "C:\\Users\\OscarJaramillo\\AppData\\Local\\Temp\\ipykernel_15872\\4217862317.py:11: SettingWithCopyWarning: \n",
      "A value is trying to be set on a copy of a slice from a DataFrame\n",
      "\n",
      "See the caveats in the documentation: https://pandas.pydata.org/pandas-docs/stable/user_guide/indexing.html#returning-a-view-versus-a-copy\n",
      "  inf['ano'][113:125]=2004\n",
      "C:\\Users\\OscarJaramillo\\AppData\\Local\\Temp\\ipykernel_15872\\4217862317.py:12: SettingWithCopyWarning: \n",
      "A value is trying to be set on a copy of a slice from a DataFrame\n",
      "\n",
      "See the caveats in the documentation: https://pandas.pydata.org/pandas-docs/stable/user_guide/indexing.html#returning-a-view-versus-a-copy\n",
      "  inf['ano'][125:137]=2005\n",
      "C:\\Users\\OscarJaramillo\\AppData\\Local\\Temp\\ipykernel_15872\\4217862317.py:13: SettingWithCopyWarning: \n",
      "A value is trying to be set on a copy of a slice from a DataFrame\n",
      "\n",
      "See the caveats in the documentation: https://pandas.pydata.org/pandas-docs/stable/user_guide/indexing.html#returning-a-view-versus-a-copy\n",
      "  inf['ano'][137:149]=2006\n",
      "C:\\Users\\OscarJaramillo\\AppData\\Local\\Temp\\ipykernel_15872\\4217862317.py:14: SettingWithCopyWarning: \n",
      "A value is trying to be set on a copy of a slice from a DataFrame\n",
      "\n",
      "See the caveats in the documentation: https://pandas.pydata.org/pandas-docs/stable/user_guide/indexing.html#returning-a-view-versus-a-copy\n",
      "  inf['ano'][149:161]=2007\n",
      "C:\\Users\\OscarJaramillo\\AppData\\Local\\Temp\\ipykernel_15872\\4217862317.py:15: SettingWithCopyWarning: \n",
      "A value is trying to be set on a copy of a slice from a DataFrame\n",
      "\n",
      "See the caveats in the documentation: https://pandas.pydata.org/pandas-docs/stable/user_guide/indexing.html#returning-a-view-versus-a-copy\n",
      "  inf['ano'][161:173]=2008\n",
      "C:\\Users\\OscarJaramillo\\AppData\\Local\\Temp\\ipykernel_15872\\4217862317.py:16: SettingWithCopyWarning: \n",
      "A value is trying to be set on a copy of a slice from a DataFrame\n",
      "\n",
      "See the caveats in the documentation: https://pandas.pydata.org/pandas-docs/stable/user_guide/indexing.html#returning-a-view-versus-a-copy\n",
      "  inf['ano'][173:185]=2009\n",
      "C:\\Users\\OscarJaramillo\\AppData\\Local\\Temp\\ipykernel_15872\\4217862317.py:17: SettingWithCopyWarning: \n",
      "A value is trying to be set on a copy of a slice from a DataFrame\n",
      "\n",
      "See the caveats in the documentation: https://pandas.pydata.org/pandas-docs/stable/user_guide/indexing.html#returning-a-view-versus-a-copy\n",
      "  inf['ano'][185:197]=2010\n",
      "C:\\Users\\OscarJaramillo\\AppData\\Local\\Temp\\ipykernel_15872\\4217862317.py:18: SettingWithCopyWarning: \n",
      "A value is trying to be set on a copy of a slice from a DataFrame\n",
      "\n",
      "See the caveats in the documentation: https://pandas.pydata.org/pandas-docs/stable/user_guide/indexing.html#returning-a-view-versus-a-copy\n",
      "  inf['ano'][197:209]=2011\n",
      "C:\\Users\\OscarJaramillo\\AppData\\Local\\Temp\\ipykernel_15872\\4217862317.py:19: SettingWithCopyWarning: \n",
      "A value is trying to be set on a copy of a slice from a DataFrame\n",
      "\n",
      "See the caveats in the documentation: https://pandas.pydata.org/pandas-docs/stable/user_guide/indexing.html#returning-a-view-versus-a-copy\n",
      "  inf['ano'][209:221]=2012\n",
      "C:\\Users\\OscarJaramillo\\AppData\\Local\\Temp\\ipykernel_15872\\4217862317.py:20: SettingWithCopyWarning: \n",
      "A value is trying to be set on a copy of a slice from a DataFrame\n",
      "\n",
      "See the caveats in the documentation: https://pandas.pydata.org/pandas-docs/stable/user_guide/indexing.html#returning-a-view-versus-a-copy\n",
      "  inf['ano'][221:233]=2013\n",
      "C:\\Users\\OscarJaramillo\\AppData\\Local\\Temp\\ipykernel_15872\\4217862317.py:21: SettingWithCopyWarning: \n",
      "A value is trying to be set on a copy of a slice from a DataFrame\n",
      "\n",
      "See the caveats in the documentation: https://pandas.pydata.org/pandas-docs/stable/user_guide/indexing.html#returning-a-view-versus-a-copy\n",
      "  inf['ano'][233:245]=2014\n",
      "C:\\Users\\OscarJaramillo\\AppData\\Local\\Temp\\ipykernel_15872\\4217862317.py:22: SettingWithCopyWarning: \n",
      "A value is trying to be set on a copy of a slice from a DataFrame\n",
      "\n",
      "See the caveats in the documentation: https://pandas.pydata.org/pandas-docs/stable/user_guide/indexing.html#returning-a-view-versus-a-copy\n",
      "  inf['ano'][245:257]=2015\n"
     ]
    }
   ],
   "source": [
    "inf['ano'][0:5]=1994\n",
    "inf['ano'][5:17]=1995\n",
    "inf['ano'][17:29]=1996\n",
    "inf['ano'][29:41]=1997\n",
    "inf['ano'][41:53]=1998\n",
    "inf['ano'][53:65]=1999\n",
    "inf['ano'][65:77]=2000\n",
    "inf['ano'][77:89]=2011\n",
    "inf['ano'][89:101]=2002\n",
    "inf['ano'][101:113]=2003\n",
    "inf['ano'][113:125]=2004\n",
    "inf['ano'][125:137]=2005\n",
    "inf['ano'][137:149]=2006\n",
    "inf['ano'][149:161]=2007\n",
    "inf['ano'][161:173]=2008\n",
    "inf['ano'][173:185]=2009\n",
    "inf['ano'][185:197]=2010\n",
    "inf['ano'][197:209]=2011\n",
    "inf['ano'][209:221]=2012\n",
    "inf['ano'][221:233]=2013\n",
    "inf['ano'][233:245]=2014\n",
    "inf['ano'][245:257]=2015"
   ]
  },
  {
   "cell_type": "code",
   "execution_count": 7,
   "id": "a93dd1ee",
   "metadata": {
    "scrolled": true
   },
   "outputs": [],
   "source": [
    "inf['b100']= 0"
   ]
  },
  {
   "cell_type": "code",
   "execution_count": 8,
   "id": "30e8923a",
   "metadata": {},
   "outputs": [
    {
     "name": "stderr",
     "output_type": "stream",
     "text": [
      "C:\\Users\\OscarJaramillo\\AppData\\Local\\Temp\\ipykernel_15872\\122660508.py:1: SettingWithCopyWarning: \n",
      "A value is trying to be set on a copy of a slice from a DataFrame\n",
      "\n",
      "See the caveats in the documentation: https://pandas.pydata.org/pandas-docs/stable/user_guide/indexing.html#returning-a-view-versus-a-copy\n",
      "  inf['b100'][0] = 100\n"
     ]
    }
   ],
   "source": [
    "inf['b100'][0] = 100"
   ]
  },
  {
   "cell_type": "code",
   "execution_count": 9,
   "id": "a06b8a6c",
   "metadata": {},
   "outputs": [
    {
     "name": "stderr",
     "output_type": "stream",
     "text": [
      "C:\\Users\\OscarJaramillo\\AppData\\Local\\Temp\\ipykernel_15872\\3382936581.py:2: SettingWithCopyWarning: \n",
      "A value is trying to be set on a copy of a slice from a DataFrame\n",
      "\n",
      "See the caveats in the documentation: https://pandas.pydata.org/pandas-docs/stable/user_guide/indexing.html#returning-a-view-versus-a-copy\n",
      "  inf['b100'][x] = inf['b100'][x-1]*(1+inf['inf'][x]/100)\n"
     ]
    }
   ],
   "source": [
    "for x in np.arange(1,257):\n",
    "    inf['b100'][x] = inf['b100'][x-1]*(1+inf['inf'][x]/100)"
   ]
  },
  {
   "cell_type": "code",
   "execution_count": 11,
   "id": "794d5b8b",
   "metadata": {},
   "outputs": [],
   "source": [
    "inf['defl'] = inf['b100']/100"
   ]
  },
  {
   "cell_type": "code",
   "execution_count": 13,
   "id": "b4bdfc6f",
   "metadata": {},
   "outputs": [],
   "source": [
    "inf.to_csv('datos finales\\defl.csv')"
   ]
  }
 ],
 "metadata": {
  "kernelspec": {
   "display_name": "Python 3 (ipykernel)",
   "language": "python",
   "name": "python3"
  },
  "language_info": {
   "codemirror_mode": {
    "name": "ipython",
    "version": 3
   },
   "file_extension": ".py",
   "mimetype": "text/x-python",
   "name": "python",
   "nbconvert_exporter": "python",
   "pygments_lexer": "ipython3",
   "version": "3.11.2"
  }
 },
 "nbformat": 4,
 "nbformat_minor": 5
}
