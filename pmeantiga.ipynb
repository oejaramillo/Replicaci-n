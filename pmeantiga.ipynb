{
 "cells": [
  {
   "cell_type": "code",
   "execution_count": 25,
   "metadata": {},
   "outputs": [],
   "source": [
    "import pandas as pd\n",
    "import numpy as np\n",
    "import re"
   ]
  },
  {
   "cell_type": "markdown",
   "metadata": {},
   "source": [
    "Vamos a decodificar los datos para 1995 hasta 2002, utilizando los diccionarios de DataZoom"
   ]
  },
  {
   "cell_type": "code",
   "execution_count": 2,
   "metadata": {},
   "outputs": [],
   "source": [
    "dic = pd.read_csv('dic.csv')\n",
    "pme_1991_2000_dom = dic.loc[dic['dct'] == 'pme_1991_2000_dom_en']\n",
    "pme_1991_2000_pes = dic.loc[dic['dct'] == 'pme_1991_2000_pes_en']"
   ]
  },
  {
   "cell_type": "code",
   "execution_count": 3,
   "metadata": {},
   "outputs": [],
   "source": [
    "pme95bad = pd.read_csv('1995\\PME95BAD.TXT', header=None)\n",
    "pme95mgd = pd.read_csv('1995\\PME95MGD.TXT', header=None)\n",
    "pme95ped = pd.read_csv('1995\\PME95PED.TXT', header=None)\n",
    "pme95rjd = pd.read_csv('1995\\PME95RJD.TXT', header=None)\n",
    "pme95rsd = pd.read_csv('1995\\PME95RSD.TXT', header=None)\n",
    "pme95bsd = pd.read_csv('1995\\PME95SPD.TXT', header=None)"
   ]
  },
  {
   "cell_type": "code",
   "execution_count": 4,
   "metadata": {},
   "outputs": [],
   "source": [
    "pme95bap = pd.read_csv('1995\\PME95BAP.TXT', header=None)\n",
    "pme95mgp = pd.read_csv('1995\\PME95MGP.TXT', header=None)\n",
    "pme95pep = pd.read_csv('1995\\PME95PEP.TXT', header=None)\n",
    "pme95rjp = pd.read_csv('1995\\PME95RJP.TXT', header=None)\n",
    "pme95rsp = pd.read_csv('1995\\PME95RSP.TXT', header=None)\n",
    "pme95bsp = pd.read_csv('1995\\PME95SPP.TXT', header=None)"
   ]
  },
  {
   "cell_type": "code",
   "execution_count": 5,
   "metadata": {},
   "outputs": [],
   "source": [
    "pme95_dom = pd.concat([pme95bad, pme95mgd, pme95ped, pme95rjd, pme95rsd, pme95bsd], ignore_index=True)\n",
    "pme95_pes = pd.concat([pme95bap, pme95mgp, pme95pep, pme95rjp, pme95rsp, pme95bsp], ignore_index=True)\n"
   ]
  },
  {
   "cell_type": "code",
   "execution_count": 38,
   "metadata": {},
   "outputs": [],
   "source": [
    "dom_title = []\n",
    "\n",
    "for index in range(3578, 3599):\n",
    "    split_result = pme_1991_2000_dom['v1'][index].split()\n",
    "    if len(split_result) > 2:\n",
    "        dom_title.append(split_result[2])"
   ]
  },
  {
   "cell_type": "code",
   "execution_count": 41,
   "metadata": {},
   "outputs": [],
   "source": [
    "len_data = []\n",
    "\n",
    "for index in range(3578, 3599):\n",
    "    findall_result = re.findall(r'\\d+', pme_1991_2000_dom['v1'][index].split()[3])\n",
    "    len_data.append(findall_result[0])"
   ]
  },
  {
   "cell_type": "markdown",
   "metadata": {},
   "source": [
    "Es preferible iterar sobre la lista de los nombres y la lista de los values, y olvidarnos del diccionario "
   ]
  },
  {
   "cell_type": "code",
   "execution_count": 80,
   "metadata": {},
   "outputs": [],
   "source": [
    "pmeantiga = {key: value for key, value in zip(dom_title, len_data)}"
   ]
  },
  {
   "cell_type": "code",
   "execution_count": null,
   "metadata": {},
   "outputs": [],
   "source": [
    "pme95_dom[0].apply(lambda x: x[0][:2])"
   ]
  },
  {
   "cell_type": "code",
   "execution_count": 83,
   "metadata": {},
   "outputs": [
    {
     "name": "stdout",
     "output_type": "stream",
     "text": [
      "uf\n",
      "2\n",
      "ano\n",
      "4\n",
      "mes\n",
      "2\n",
      "v0102\n",
      "8\n",
      "v0103\n",
      "2\n",
      "v0101\n",
      "4\n",
      "v0104\n",
      "1\n",
      "v0105\n",
      "2\n",
      "v0106\n",
      "1\n",
      "v0107\n",
      "3\n",
      "v0108\n",
      "1\n",
      "v0109\n",
      "2\n",
      "v0110\n",
      "2\n",
      "v0111\n",
      "2\n",
      "v0112\n",
      "1\n",
      "v0113\n",
      "1\n",
      "v0002\n",
      "5\n",
      "v0003\n",
      "1\n",
      "v2001\n",
      "2\n",
      "v2002\n",
      "2\n",
      "Estimativa\n",
      "9\n"
     ]
    }
   ],
   "source": [
    "for key, value in pmeantiga.items():\n",
    "    pme95_dom[key] = pme95_dom[0].apply(lambda x: x[0][:value])"
   ]
  },
  {
   "cell_type": "code",
   "execution_count": 79,
   "metadata": {},
   "outputs": [
    {
     "data": {
      "text/plain": [
       "'2'"
      ]
     },
     "execution_count": 79,
     "metadata": {},
     "output_type": "execute_result"
    }
   ],
   "source": [
    "pmeantiga['uf']"
   ]
  },
  {
   "cell_type": "code",
   "execution_count": 19,
   "metadata": {},
   "outputs": [
    {
     "data": {
      "text/plain": [
       "57"
      ]
     },
     "execution_count": 19,
     "metadata": {},
     "output_type": "execute_result"
    }
   ],
   "source": [
    "len(pme95bad[90])"
   ]
  },
  {
   "cell_type": "code",
   "execution_count": null,
   "metadata": {},
   "outputs": [],
   "source": []
  }
 ],
 "metadata": {
  "kernelspec": {
   "display_name": "Python 3",
   "language": "python",
   "name": "python3"
  },
  "language_info": {
   "codemirror_mode": {
    "name": "ipython",
    "version": 3
   },
   "file_extension": ".py",
   "mimetype": "text/x-python",
   "name": "python",
   "nbconvert_exporter": "python",
   "pygments_lexer": "ipython3",
   "version": "3.11.2"
  },
  "orig_nbformat": 4
 },
 "nbformat": 4,
 "nbformat_minor": 2
}
